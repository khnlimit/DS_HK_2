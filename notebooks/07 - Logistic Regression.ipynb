{
 "metadata": {
  "name": "",
  "signature": "sha256:6c04f415fc0e873047983fb7d26b32179f1341933970fbad54356ee956666554"
 },
 "nbformat": 3,
 "nbformat_minor": 0,
 "worksheets": [
  {
   "cells": [
    {
     "cell_type": "code",
     "collapsed": false,
     "input": [
      "%%javascript\n",
      "function is_local(){\n",
      "  return (document.location.hostname == \"localhost\" || document.location.hostname == '127.0.0.1')\n",
      "}\n",
      "var url = is_local() ? \"http://localhost:8000/theme/custom.js\" : \"http://odhk.github.io/hyrule_theme/custom.js\"\n",
      "$.getScript(url)"
     ],
     "language": "python",
     "metadata": {},
     "outputs": [
      {
       "javascript": [
        "function is_local(){\n",
        "  return (document.location.hostname == \"localhost\" || document.location.hostname == '127.0.0.1')\n",
        "}\n",
        "var url = is_local() ? \"http://localhost:8000/theme/custom.js\" : \"http://odhk.github.io/hyrule_theme/custom.js\"\n",
        "$.getScript(url)"
       ],
       "metadata": {},
       "output_type": "display_data",
       "text": [
        "<IPython.core.display.Javascript at 0x2a7da90>"
       ]
      }
     ],
     "prompt_number": 1
    },
    {
     "cell_type": "markdown",
     "metadata": {},
     "source": [
      "# Logistic Regression"
     ]
    },
    {
     "cell_type": "markdown",
     "metadata": {},
     "source": [
      "> The virtue of binary is that it's the simplest possible way of representing numbers. Anything else is more complicated. You can catch errors with it, it's unambiguous in its reading, there are lots of good things about binary. So it is very, very simple once you learn how to read it.\n",
      "\n",
      "<footer>~ George M. Whitesides</footer>"
     ]
    },
    {
     "cell_type": "markdown",
     "metadata": {},
     "source": [
      "![break](assets/agenda.png)"
     ]
    },
    {
     "cell_type": "markdown",
     "metadata": {},
     "source": [
      "1. Logistic Regression\n",
      "1. Outcome Variables\n",
      "1. Error Terms\n",
      "1. Interpreting Results\n",
      "\n",
      "**Labs:**\n",
      "1. Logistic Regression"
     ]
    },
    {
     "cell_type": "markdown",
     "metadata": {},
     "source": [
      "![break](assets/theory.png)"
     ]
    },
    {
     "cell_type": "heading",
     "level": 2,
     "metadata": {},
     "source": [
      "Logistic Regression"
     ]
    },
    {
     "cell_type": "markdown",
     "metadata": {},
     "source": [
      "|   \t|continuous\t|categorical   \t|\n",
      "|:-:\t|:-:\t|:-:\t|\n",
      "|**supervised**   \t|regression   \t|**classification**   \t|\n",
      "|**unsupervised**   \t|dimension reduction   \t|clustering   \t|"
     ]
    },
    {
     "cell_type": "markdown",
     "metadata": {},
     "source": [
      "* A generalization of the linear regression model to classification problems.\n",
      "* A discriminative classification algorithm, result does not depend completely the data set."
     ]
    },
    {
     "cell_type": "markdown",
     "metadata": {},
     "source": [
      "In **linear regression**, we used a set of covariates to predict the value of a (continuous) outcome variable.\n",
      "In **logistic regression**, we use a set of covariates to predict probabilities of (binary) class membership. These probabilities are then mapped to class labels, thus solving the classification problem."
     ]
    },
    {
     "cell_type": "markdown",
     "metadata": {},
     "source": [
      "Probability predictions look like this."
     ]
    },
    {
     "cell_type": "markdown",
     "metadata": {},
     "source": [
      "![](assets/logistic_regression.png)"
     ]
    },
    {
     "cell_type": "markdown",
     "metadata": {},
     "source": [
      "* ** Y ** : Probability of belonging to class\n",
      "* ** X ** : Value of independent variable"
     ]
    },
    {
     "cell_type": "markdown",
     "metadata": {},
     "source": [
      "Probabilities are \u201csnapped\u201d to class labels (eg by threshholding at 50%)."
     ]
    },
    {
     "cell_type": "markdown",
     "metadata": {},
     "source": [
      "![](assets/logistic_regression_snap.png)\n",
      "\n"
     ]
    },
    {
     "cell_type": "markdown",
     "metadata": {},
     "source": [
      "Note that Logistic Regression is primarily used to solve a binary classification problem.\n",
      "\n",
      "Examples:\n",
      "* Was this credit transaction fraudulent? (Y/N)\n",
      "* User a boy or a girl?\n",
      "* Do I have x disease?\n",
      "* Should this stock be bought or sold?"
     ]
    },
    {
     "cell_type": "markdown",
     "metadata": {},
     "source": [
      "The logistic regression model is an extension of the linear regression model, with a couple of important differences:\n",
      "    \n",
      "* Difference 1: Outcome Variables\n",
      "* Difference 2: Error Terms\n"
     ]
    },
    {
     "cell_type": "heading",
     "level": 2,
     "metadata": {},
     "source": [
      "Outcome Variables"
     ]
    },
    {
     "cell_type": "markdown",
     "metadata": {},
     "source": [
      "The key variable in any regression problem is the **conditional mean** of the outcome variable y given the value of the covariate x:"
     ]
    },
    {
     "cell_type": "markdown",
     "metadata": {},
     "source": [
      "$$ E(y|x) $$"
     ]
    },
    {
     "cell_type": "markdown",
     "metadata": {},
     "source": [
      "In linear regression, we assume that this conditional\n",
      "mean is a linear function taking values in (-\u221e, +\u221e):"
     ]
    },
    {
     "cell_type": "markdown",
     "metadata": {},
     "source": [
      "$$ E(y|x) = \\alpha + \\beta x $$"
     ]
    },
    {
     "cell_type": "markdown",
     "metadata": {},
     "source": [
      "**Q: How is this different from just using a linear\n",
      "regression to solve a classification problem?**\n",
      "\n",
      "A: If the original values are not scaled correctly, then the\n",
      "results for data once classified 0 may be reclassified as 1.\n",
      "\n",
      "**We don\u2019t want that to happen!**\n"
     ]
    },
    {
     "cell_type": "markdown",
     "metadata": {},
     "source": [
      "In logistic regression, we\u2019ve seen that the conditional mean of the outcome variable takes values only in the unit interval [0, 1].\n",
      "\n",
      "0 = negative class, 1 = positive class\n",
      "\n",
      "The first step in extending the linear regression model to logistic regression is to map the outcome variable E(y|x) into the unit interval.\n",
      "\n",
      "By using a transformation called the logistic function:\n"
     ]
    },
    {
     "cell_type": "markdown",
     "metadata": {},
     "source": [
      "$$ E(y|x) = \\pi(x) = {e^{\\alpha + \\beta x} \\over 1+e^{\\alpha + \\beta x}} = {1 \\over 1+e^{-(\\alpha + \\beta x)}} $$"
     ]
    },
    {
     "cell_type": "markdown",
     "metadata": {},
     "source": [
      "We\u2019ve already seen what this looks like:"
     ]
    },
    {
     "cell_type": "markdown",
     "metadata": {},
     "source": [
      "![](assets/logistic_regression.png)"
     ]
    },
    {
     "cell_type": "markdown",
     "metadata": {},
     "source": [
      "For any value of $x, y$ is in the interval $[0, 1]$ This is a nonlinear transformation!"
     ]
    },
    {
     "cell_type": "markdown",
     "metadata": {},
     "source": [
      "The logit function is an important transformation of the logistic function. Notice that it returns the linear model!"
     ]
    },
    {
     "cell_type": "markdown",
     "metadata": {},
     "source": [
      "$$ g(x) = \\ln\\left(\\frac{\\pi(x)}{1-\\pi(x)}\\right) = \\alpha + \\beta x $$"
     ]
    },
    {
     "cell_type": "markdown",
     "metadata": {},
     "source": [
      "The logit function is also called the log-odds function. This name hints at its usefulness in interpreting our results. We will see why shortly.\n"
     ]
    },
    {
     "cell_type": "markdown",
     "metadata": {},
     "source": [
      "![break](assets/theory.png)"
     ]
    },
    {
     "cell_type": "heading",
     "level": 2,
     "metadata": {},
     "source": [
      "Error Terms"
     ]
    },
    {
     "cell_type": "markdown",
     "metadata": {},
     "source": [
      "The second difference between linear regression and the logistic regression model is in the error term.\n",
      "\n",
      "One of the key assumptions of linear regression is that the error terms follow independent Gaussian distributions with zero mean and constant variance:"
     ]
    },
    {
     "cell_type": "markdown",
     "metadata": {},
     "source": [
      "$$ \\epsilon \\sim N(0,\\sigma^2) $$"
     ]
    },
    {
     "cell_type": "markdown",
     "metadata": {},
     "source": [
      "In logistic regression, the outcome variable can take only two values: 0 or 1.\n",
      "\n",
      "It\u2019s easy to show from this that instead of following a Gaussian distribution, the error term in logistic regression follows a Bernoulli distribution:"
     ]
    },
    {
     "cell_type": "markdown",
     "metadata": {},
     "source": [
      "$$ \\epsilon \\sim B(0,\\pi(1 - \\pi))) $$"
     ]
    },
    {
     "cell_type": "markdown",
     "metadata": {},
     "source": [
      "This is the same distribution followed by a coin toss. Think about why this makes sense!"
     ]
    },
    {
     "cell_type": "heading",
     "level": 3,
     "metadata": {},
     "source": [
      "Bernoulli Distribution"
     ]
    },
    {
     "cell_type": "markdown",
     "metadata": {},
     "source": [
      "The Bernoulli distribution is a discrete distribution having two possible outcomes labelled by $n=0$ and $n=1$ in which $n=1$ (\"success\") occurs with probability $p$ and $n=0$ (\"failure\") occurs with probability $q=1-p$, where $0<p<1$. It therefore has probability density function"
     ]
    },
    {
     "cell_type": "markdown",
     "metadata": {},
     "source": [
      "$$ f(k;p) = \\begin{cases}\n",
      "    p & \\text{if } k=1 \\\\\\\\ \n",
      "    1-p & \\text{if } k=0\n",
      "\\end{cases}$$"
     ]
    },
    {
     "cell_type": "code",
     "collapsed": false,
     "input": [
      "%matplotlib inline\n",
      "import numpy as np\n",
      "import matplotlib\n",
      "import matplotlib.pyplot as plt\n",
      "import scipy.stats\n",
      "from scipy.stats import bernoulli"
     ],
     "language": "python",
     "metadata": {},
     "outputs": [],
     "prompt_number": 2
    },
    {
     "cell_type": "code",
     "collapsed": false,
     "input": [
      "bernoulli.rvs(0.6, size=100)"
     ],
     "language": "python",
     "metadata": {},
     "outputs": [
      {
       "metadata": {},
       "output_type": "pyout",
       "prompt_number": 3,
       "text": [
        "array([0, 0, 1, 1, 1, 0, 1, 0, 0, 0, 1, 1, 0, 1, 1, 1, 0, 1, 1, 1, 0, 0, 1,\n",
        "       1, 0, 1, 0, 0, 0, 1, 0, 0, 1, 1, 0, 0, 0, 1, 0, 1, 0, 1, 1, 1, 1, 0,\n",
        "       1, 0, 1, 1, 1, 0, 0, 0, 1, 0, 1, 0, 0, 1, 1, 1, 1, 0, 0, 1, 1, 0, 0,\n",
        "       1, 1, 1, 0, 0, 1, 0, 0, 0, 1, 0, 0, 0, 1, 0, 1, 0, 1, 1, 1, 1, 1, 1,\n",
        "       0, 1, 1, 1, 0, 1, 0, 1])"
       ]
      }
     ],
     "prompt_number": 3
    },
    {
     "cell_type": "code",
     "collapsed": false,
     "input": [
      "a = np.arange(2)\n",
      "\n",
      "colors = matplotlib.rcParams['axes.color_cycle']\n",
      "plt.figure(figsize=(20,8))\n",
      "for i, p in enumerate([0.1, 0.2, 0.6, 0.7]):\n",
      "    ax = plt.subplot(1, 4, i+1)\n",
      "    plt.bar(a, bernoulli.pmf(a, p), label=p, color=colors[i], alpha=0.5)\n",
      "    ax.xaxis.set_ticks(a)\n",
      "\n",
      "    plt.legend(loc=0)\n",
      "    if i == 0:\n",
      "        plt.ylabel(\"PDF at $k$\")\n",
      "    \n",
      "\n",
      "plt.suptitle(\"Bernoulli probability\")"
     ],
     "language": "python",
     "metadata": {},
     "outputs": [
      {
       "metadata": {},
       "output_type": "pyout",
       "prompt_number": 4,
       "text": [
        "<matplotlib.text.Text at 0x272a9d0>"
       ]
      },
      {
       "metadata": {},
       "output_type": "display_data",
       "png": "[encoded data removed]",
       "text": [
        "<matplotlib.figure.Figure at 0x272a550>"
       ]
      }
     ],
     "prompt_number": 4
    },
    {
     "cell_type": "heading",
     "level": 3,
     "metadata": {},
     "source": [
      "An Aside : GLM"
     ]
    },
    {
     "cell_type": "markdown",
     "metadata": {},
     "source": [
      "These two key differences define the logistic regression model, and they also lead us to a kind of unification of regression techniques called **generalized linear models**.\n",
      "\n",
      "Briefly, GLMs generalize the distribution of the error term, and allow the conditional mean of the response variable to be related to the linear model by a link function.\n",
      "\n",
      "In the present case, the error term follows a Bernoulli distribution, and the logit is the link function that connects us to the linear predictor."
     ]
    },
    {
     "cell_type": "markdown",
     "metadata": {},
     "source": [
      "$$ g(x) = \\ln\\left(\\frac{\\pi(x)}{1-\\pi(x)}\\right) = \\alpha + \\beta x $$"
     ]
    },
    {
     "cell_type": "markdown",
     "metadata": {},
     "source": [
      "Since the Bernoulli distribution and the logit function share a common parameter \u03c0, we say that the logit is the canonical link function for the Bernoulli distribution."
     ]
    },
    {
     "cell_type": "markdown",
     "metadata": {},
     "source": [
      "![break](assets/theory.png)"
     ]
    },
    {
     "cell_type": "heading",
     "level": 2,
     "metadata": {},
     "source": [
      "Interpreting Results"
     ]
    },
    {
     "cell_type": "markdown",
     "metadata": {},
     "source": [
      "In linear regression, the parameter \u03b2 represents the change in the response variable for a unit change in the\n",
      "covariate. \n",
      "\n",
      "In logistic regression, \u03b2 represents the change in the logit function for a unit change in the covariate.\n",
      "\n",
      "Interpreting this change in the logit function requires another definition first."
     ]
    },
    {
     "cell_type": "markdown",
     "metadata": {},
     "source": [
      "Your independent variables $X_i$ can be continuous or binary. The regression coefficients $b_i$ can be exponentiated to give you the change in odds of $Y$ per change in $X_i$, i.e.,"
     ]
    },
    {
     "cell_type": "markdown",
     "metadata": {},
     "source": [
      "In English, you can say that the odds of $Y=1$ increase by a factor of $e^{b_i}$ per unit change in $X$i."
     ]
    },
    {
     "cell_type": "markdown",
     "metadata": {},
     "source": [
      "The odds of an event are given by the ratio of the probability of the event by its complement:"
     ]
    },
    {
     "cell_type": "markdown",
     "metadata": {},
     "source": [
      "$$ O(x=1) = \\frac{\\pi(1)}{(1-\\pi(1))}$$ "
     ]
    },
    {
     "cell_type": "markdown",
     "metadata": {},
     "source": [
      "The odds ratio of a binary event is given by the odds of the event divided by the odds of its complement:"
     ]
    },
    {
     "cell_type": "markdown",
     "metadata": {},
     "source": [
      "$$ O R={O(x=1) \\over O(x=0)}={ \\pi(1)/[1-\\pi(1)] \\over \\pi(0)/[1-\\pi(0)] }$$ "
     ]
    },
    {
     "cell_type": "markdown",
     "metadata": {},
     "source": [
      "Substituting the definition of $\u03c0(x)$ into this equation yields (after some algebra),\n",
      "\n",
      "$$ O R = e^\u03b2 $$\n",
      "\n",
      "This simple relationship between the odds ratio and the parameter $\u03b2$ is what makes logistic regression such a powerful tool."
     ]
    },
    {
     "cell_type": "markdown",
     "metadata": {},
     "source": [
      "**Q: So how do we interpret this?**\n",
      "\n",
      "A: The odds ratio of a binary event gives the increase in likelihood of an outcome if the event occurs."
     ]
    },
    {
     "cell_type": "markdown",
     "metadata": {},
     "source": [
      "Suppose we are interested in mobile purchase behavior. Let y be a class label denoting purchase/no purchase, and let x denote a mobile OS (for example, Android).\n",
      "\n",
      "In this case, an odds ratio of 2 (eg, $\u03b2 = log(2)$) indicates that a purchase is twice as likely for an Android user as for a non-Android user."
     ]
    },
    {
     "cell_type": "markdown",
     "metadata": {},
     "source": [
      "![break](assets/code.png)"
     ]
    },
    {
     "cell_type": "heading",
     "level": 2,
     "metadata": {},
     "source": [
      "Logistic Regression"
     ]
    },
    {
     "cell_type": "markdown",
     "metadata": {},
     "source": [
      "* Work through the Logistic Regression model."
     ]
    },
    {
     "cell_type": "code",
     "collapsed": false,
     "input": [
      "%matplotlib inline\n",
      "import pandas as pd\n",
      "import numpy as np\n",
      "import matplotlib.pyplot as plt\n",
      "\n",
      "# Set some Pandas options\n",
      "pd.set_option('max_columns', 30)\n",
      "pd.set_option('max_rows', 20)\n",
      "\n",
      "# Store data in a consistent place\n",
      "DATA_DIR = '../data/'"
     ],
     "language": "python",
     "metadata": {},
     "outputs": [],
     "prompt_number": 10
    },
    {
     "cell_type": "markdown",
     "metadata": {},
     "source": [
      "Let's see if we can use logistic regression to predict what kinds of beer people like."
     ]
    },
    {
     "cell_type": "code",
     "collapsed": false,
     "input": [
      "import re\n",
      "url = 'http://www-958.ibm.com/software/analytics/manyeyes/datasets/af-er-beer-dataset/versions/1.txt'\n",
      "beer = pd.read_csv(url, delimiter=\"\\t\")\n",
      "beer = beer.dropna()\n",
      "def good(x):\n",
      "    if x > 4.3:\n",
      "        return 1\n",
      "    else:\n",
      "        return 0\n",
      "\n",
      "beer['Good'] = beer['WR'].apply(good)"
     ],
     "language": "python",
     "metadata": {},
     "outputs": [],
     "prompt_number": 11
    },
    {
     "cell_type": "markdown",
     "metadata": {},
     "source": [
      "Let's see how fit goes using just Reviews and ABV."
     ]
    },
    {
     "cell_type": "code",
     "collapsed": false,
     "input": [
      "from sklearn import linear_model\n",
      "\n",
      "logm = linear_model.LogisticRegression()\n",
      "\n",
      "X = beer[ ['Reviews', 'ABV'] ].values\n",
      "y = beer['Good'].values"
     ],
     "language": "python",
     "metadata": {},
     "outputs": [],
     "prompt_number": 14
    },
    {
     "cell_type": "code",
     "collapsed": false,
     "input": [
      "logm.fit(X, y)"
     ],
     "language": "python",
     "metadata": {},
     "outputs": [
      {
       "metadata": {},
       "output_type": "pyout",
       "prompt_number": 15,
       "text": [
        "LogisticRegression(C=1.0, class_weight=None, dual=False, fit_intercept=True,\n",
        "          intercept_scaling=1, penalty='l2', random_state=None, tol=0.0001)"
       ]
      }
     ],
     "prompt_number": 15
    },
    {
     "cell_type": "code",
     "collapsed": false,
     "input": [
      "logm.predict(X)"
     ],
     "language": "python",
     "metadata": {},
     "outputs": [
      {
       "metadata": {},
       "output_type": "pyout",
       "prompt_number": 16,
       "text": [
        "array([0, 0, 1, 0, 1, 0, 1, 0, 0, 0, 0, 1, 0, 1, 1, 0, 0, 0, 0, 0, 0, 0, 0,\n",
        "       1, 0, 0, 0, 0, 0, 0, 0, 0, 0, 0, 0, 0, 0, 0, 0, 0, 0, 0, 0, 1, 0, 1,\n",
        "       0, 0, 0, 0, 0, 0, 0, 0, 0, 1, 0, 0, 0, 0, 0, 0, 0, 0, 0, 0, 0, 0, 0,\n",
        "       0, 0, 0, 0, 1, 0, 0, 0, 0, 0, 0, 0, 0, 0, 0, 0, 0, 0, 0, 0, 0, 0, 0,\n",
        "       0, 1, 1, 0, 1, 0, 0, 0, 0, 0, 0, 0, 0, 0, 0, 1, 0, 0, 0, 0, 0, 0, 0,\n",
        "       0, 0, 1, 0, 0, 0, 0, 0, 0, 0, 0, 0, 0, 0, 0, 0, 0, 0, 0, 0, 0, 0, 0,\n",
        "       0, 0, 0, 0, 0, 0, 0, 0, 0, 0, 0, 0, 0, 0, 0, 0, 0, 0, 0, 0, 0, 0, 0,\n",
        "       1, 0, 0, 0, 0, 0, 0, 0, 0, 0, 0, 0, 0, 0, 0, 0, 0, 0, 0, 0, 0, 0, 0,\n",
        "       0, 0, 0, 0, 0, 0, 0, 0, 0, 0, 0, 0, 0, 0, 0, 0, 0, 0, 0, 0, 0, 0, 0,\n",
        "       0, 0, 0, 0, 0, 0, 0, 0, 0, 0, 0, 0, 0, 0, 0, 0, 0, 0, 0, 0, 0, 0, 0,\n",
        "       0, 0, 0, 0])"
       ]
      }
     ],
     "prompt_number": 16
    },
    {
     "cell_type": "code",
     "collapsed": false,
     "input": [
      "logm.score(X, y)"
     ],
     "language": "python",
     "metadata": {},
     "outputs": [
      {
       "metadata": {},
       "output_type": "pyout",
       "prompt_number": 17,
       "text": [
        "0.62393162393162394"
       ]
      }
     ],
     "prompt_number": 17
    },
    {
     "cell_type": "markdown",
     "metadata": {},
     "source": [
      "We end up with a value around .62, which is only slightly higher than random (random = .5, like a coin flip).\n",
      "\n",
      "Question: What data can we use in this data frame to determine what kind of beer it is? This may be a better indicator! Note, we can use regex's to create a new column."
     ]
    },
    {
     "cell_type": "markdown",
     "metadata": {},
     "source": [
      "![break](assets/voronoi.png)"
     ]
    },
    {
     "cell_type": "markdown",
     "metadata": {},
     "source": [
      "1. Write a function that groups our beers together using regex (example here):"
     ]
    },
    {
     "cell_type": "code",
     "collapsed": false,
     "input": [
      "import re\n",
      "# If this is true, then there was a match!\n",
      "re.search('Apple', 'Apple Computer') != None\n",
      "\n",
      "# or you can use the str.contains method\n",
      "beer['Name'].str.contains('Pliny')"
     ],
     "language": "python",
     "metadata": {},
     "outputs": [
      {
       "metadata": {},
       "output_type": "pyout",
       "prompt_number": 35,
       "text": [
        "0    False\n",
        "1     True\n",
        "2     True\n",
        "3    False\n",
        "4    False\n",
        "5    False\n",
        "7    False\n",
        "8    False\n",
        "...\n",
        "242    False\n",
        "243    False\n",
        "244    False\n",
        "245    False\n",
        "246    False\n",
        "247    False\n",
        "248    False\n",
        "249    False\n",
        "Name: Name, Length: 234, dtype: bool"
       ]
      }
     ],
     "prompt_number": 35
    },
    {
     "cell_type": "markdown",
     "metadata": {},
     "source": [
      "We'll be grouping our beers into **Ale**, **Stout**, **IPA**, and **Lager**. \n",
      "\n",
      "Of course, due to how we handle our data (numpy arrays), these have to be vectorized into four separate columns. \n",
      "\n",
      "Finally, we can create a logistic regression model using these four to predict if \"Good\" = 0 or 1."
     ]
    },
    {
     "cell_type": "code",
     "collapsed": false,
     "input": [
      "X = beer[ ['Ale', 'Stout', 'IPA', 'Lager'] ].values\n",
      "y = beer['Good'].values\n",
      "\n",
      "logm.fit(X, y)"
     ],
     "language": "python",
     "metadata": {},
     "outputs": []
    },
    {
     "cell_type": "markdown",
     "metadata": {},
     "source": [
      "And consider looking again at the `coef_`, `intercept_`, etc. We can consider precision based on `|predicted - actual|` as well as looking at `.score()`.\n",
      "\n",
      "Consider using `set_params(penalty = 'l1')` to see how your results change, and if this has become more precise or not. How does this align with what we discussed with `l1` and `l2` norm in lecture?"
     ]
    },
    {
     "cell_type": "markdown",
     "metadata": {},
     "source": [
      "![break](assets/voronoi.png)"
     ]
    },
    {
     "cell_type": "heading",
     "level": 2,
     "metadata": {},
     "source": [
      "Homework"
     ]
    },
    {
     "cell_type": "markdown",
     "metadata": {},
     "source": [
      "Spend some time this week to predict the 2012 salary per player using the 2011 data in the data set below:"
     ]
    },
    {
     "cell_type": "markdown",
     "metadata": {},
     "source": [
      "> http://cl.ly/RUED (note curl won't work here)"
     ]
    },
    {
     "cell_type": "markdown",
     "metadata": {},
     "source": [
      "You'll need to \"munge\" through the data by plotting various data against Salary to understand the relationship for each value in order to interpret the best model. I'd focus around these to start with:"
     ]
    },
    {
     "cell_type": "code",
     "collapsed": false,
     "input": [
      "[ [\"HR\", \"RBI\", 'R', \"G\", \"SB\", \"salary\", 'height', 'weight', 'yearID'] ]"
     ],
     "language": "python",
     "metadata": {},
     "outputs": [
      {
       "metadata": {},
       "output_type": "pyout",
       "prompt_number": 27,
       "text": [
        "[['HR', 'RBI', 'R', 'G', 'SB', 'salary', 'height', 'weight', 'yearID']]"
       ]
      }
     ],
     "prompt_number": 27
    },
    {
     "cell_type": "markdown",
     "metadata": {},
     "source": [
      "but jump around and look at the variety of data available (and use feature selection!) to determine how significant the data available is in predicting salary.\n",
      "\n",
      "Keep in mind that you cannot have a NEGATIVE salary, so if you have a negative prediction, whoops. :)"
     ]
    },
    {
     "cell_type": "markdown",
     "metadata": {},
     "source": [
      "![break](assets/resources.png)"
     ]
    },
    {
     "cell_type": "heading",
     "level": 2,
     "metadata": {},
     "source": [
      "Resources"
     ]
    },
    {
     "cell_type": "markdown",
     "metadata": {},
     "source": [
      "* [Regression Analysis by Example](http://type.hk:2551/calibre/browse/book/294) (**Chapter 12**) - Samprit Chatterjee"
     ]
    },
    {
     "cell_type": "heading",
     "level": 4,
     "metadata": {},
     "source": [
      "Articles"
     ]
    },
    {
     "cell_type": "markdown",
     "metadata": {},
     "source": [
      "* [The Bernoulli distribution mean and variance](http://hawaiireedlab.com/wpress/?p=1019)"
     ]
    },
    {
     "cell_type": "heading",
     "level": 4,
     "metadata": {},
     "source": [
      "Code"
     ]
    },
    {
     "cell_type": "markdown",
     "metadata": {},
     "source": [
      "* [Overview with plots of statistical distributions](http://nbviewer.ipython.org/urls/gist.github.com/mattions/6113437/raw/c5468ea930d6960225d83e112d7f3d00d9c13398/Exploring+different+distribution.ipynb)\n"
     ]
    }
   ],
   "metadata": {}
  }
 ]
}