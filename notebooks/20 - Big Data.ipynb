{
 "metadata": {
  "name": "",
  "signature": "sha256:84d5ae5039bf0deef13a5980fc32303fa39793b69c38a48dcafd8deed3dec5d4"
 },
 "nbformat": 3,
 "nbformat_minor": 0,
 "worksheets": [
  {
   "cells": [
    {
     "cell_type": "code",
     "collapsed": false,
     "input": [
      "%%javascript\n",
      "function is_local(){\n",
      "  return (document.location.hostname == \"localhost\" || document.location.hostname == '127.0.0.1')\n",
      "}\n",
      "var url = is_local() ? \"http://localhost:8000/theme/custom.js\" : \"http://odhk.github.io/hyrule_theme/custom.js\"\n",
      "$.getScript(url)"
     ],
     "language": "python",
     "metadata": {},
     "outputs": [
      {
       "javascript": [
        "function is_local(){\n",
        "  return (document.location.hostname == \"localhost\" || document.location.hostname == '127.0.0.1')\n",
        "}\n",
        "var url = is_local() ? \"http://localhost:8000/theme/custom.js\" : \"http://odhk.github.io/hyrule_theme/custom.js\"\n",
        "$.getScript(url)"
       ],
       "metadata": {},
       "output_type": "display_data",
       "text": [
        "<IPython.core.display.Javascript at 0x7fb5941499d0>"
       ]
      }
     ],
     "prompt_number": 3
    },
    {
     "cell_type": "markdown",
     "metadata": {},
     "source": [
      "# Big Data: StarCluster, Hadoop & MapReduce"
     ]
    },
    {
     "cell_type": "markdown",
     "metadata": {},
     "source": [
      "> Not everything that can be counted counts, and not everything that counts can be counted.\n",
      "\n",
      "<footer>~ William Bruce Cameron</footer>"
     ]
    },
    {
     "cell_type": "markdown",
     "metadata": {},
     "source": [
      "![break](assets/agenda.png)"
     ]
    },
    {
     "cell_type": "markdown",
     "metadata": {},
     "source": [
      "1. Big Data\n",
      "2. Amazon Web Services\n",
      "3. StarCluster\n",
      "4. MapReduce Programming Model\n",
      "5. Implementation Details\n",
      "6. Word Count Example\n",
      "\n",
      "**Labs**\n",
      "1. Setting up a cluster on AWS\n",
      "2. Hadoop Streaming"
     ]
    },
    {
     "cell_type": "heading",
     "level": 2,
     "metadata": {},
     "source": [
      "Big Data"
     ]
    },
    {
     "cell_type": "markdown",
     "metadata": {},
     "source": [
      "What does \u201cbig data\u201d actually refer to? A common approach is to talk about _Big data_ in terms of the 3 V's commonly associated with it."
     ]
    },
    {
     "cell_type": "markdown",
     "metadata": {},
     "source": [
      "-   Volume\n",
      "-   Velocity\n",
      "-   Variety"
     ]
    },
    {
     "cell_type": "heading",
     "level": 3,
     "metadata": {},
     "source": [
      "The 3 Vs of Big Data"
     ]
    },
    {
     "cell_type": "markdown",
     "metadata": {},
     "source": [
      "- Volume (i.e. more than can fit in memory on your laptop)  \n",
      "    - e.g. Amazon\u2019s user behavior data\n",
      "\n",
      "\n",
      "- Velocity (i.e. faster than standard machines can process)\n",
      "    - e.g. Twitter\u2019s \u201cFirehose\u201d of tweets\n",
      "\n",
      "\n",
      "- Variety (i.e. does not conform to a single structure)\n",
      "    - e.g. Google\u2019s cache of web pages"
     ]
    },
    {
     "cell_type": "markdown",
     "metadata": {},
     "source": [
      "In this course, we will not deal with velocity. That is really more of an engineering problem than a data science problem. In fact, all three of these are engineering problems, but only the first and the third are really germane to Data Science. That said, as a Data Scientist, it is probably only a matter of time before someone asks you to create a real-time dashboard. Such a thing, while cool, is often very difficult to create and has questionable utility for anyone besides an operations engineer or a day trader, and they already have real-time dashboards."
     ]
    },
    {
     "cell_type": "heading",
     "level": 3,
     "metadata": {},
     "source": [
      "Meeting the needs of Big Data"
     ]
    },
    {
     "cell_type": "markdown",
     "metadata": {},
     "source": [
      "How would you approach dealing with this kind of data? One approach would be to get a huge supercomputer. But this has some obvious drawbacks: "
     ]
    },
    {
     "cell_type": "markdown",
     "metadata": {},
     "source": [
      "- expensive\n",
      "- difficult to maintain\n",
      "- scalability is bounded"
     ]
    },
    {
     "cell_type": "markdown",
     "metadata": {},
     "source": [
      "Instead of one huge machine, what if we got a bunch of regular (*commodity*) machines? This has obvious benefits!"
     ]
    },
    {
     "cell_type": "markdown",
     "metadata": {},
     "source": [
      "- cheaper\n",
      "- easier to maintain\n",
      "- scalability is unbounded (just add more nodes to the *cluster*)"
     ]
    },
    {
     "cell_type": "markdown",
     "metadata": {},
     "source": [
      "We can visualize this *horizontal* cluster architecture as a single client-multiple server relationship:  "
     ]
    },
    {
     "cell_type": "markdown",
     "metadata": {},
     "source": [
      "![](assets/scoverview.png)"
     ]
    },
    {
     "cell_type": "markdown",
     "metadata": {},
     "source": [
      "There are two ways to process data in a distributed architecture:"
     ]
    },
    {
     "cell_type": "markdown",
     "metadata": {},
     "source": [
      "1. move data to code (& processing power)\n",
      "    - SETI\n",
      "2. move code to data\n",
      "    - map-reduce -> less overhead (network traffic, disk I/O)"
     ]
    },
    {
     "cell_type": "markdown",
     "metadata": {},
     "source": [
      "> \u201cComputing nodes are the same as storage nodes.\u201d"
     ]
    },
    {
     "cell_type": "markdown",
     "metadata": {},
     "source": [
      "Divide and conquer is a fundamental algorithmic technique for solving a given task, whose steps include:"
     ]
    },
    {
     "cell_type": "markdown",
     "metadata": {},
     "source": [
      "1. split task into subtasks\n",
      "1. solve these subtasks independently\n",
      "1. recombine the subtask results into a final result"
     ]
    },
    {
     "cell_type": "markdown",
     "metadata": {},
     "source": [
      "One famous example of divide and conquer is *merge sort*."
     ]
    },
    {
     "cell_type": "markdown",
     "metadata": {},
     "source": [
      "![](assets/Merge_sort_algorithm_diagram.png)"
     ]
    },
    {
     "cell_type": "markdown",
     "metadata": {},
     "source": [
      "The defining characteristic of a problem that is suitable for the divide and conquer approach is that it can be broken down into independent subtasks."
     ]
    },
    {
     "cell_type": "markdown",
     "metadata": {},
     "source": [
      "Tasks that can be parallelized in this way include:"
     ]
    },
    {
     "cell_type": "markdown",
     "metadata": {},
     "source": [
      "* count, sum, average\n",
      "* grep, sort, inverted index\n",
      "* graph traversals, some ML algorithms"
     ]
    },
    {
     "cell_type": "markdown",
     "metadata": {},
     "source": [
      "What if you can't afford a cluster?"
     ]
    },
    {
     "cell_type": "heading",
     "level": 2,
     "metadata": {},
     "source": [
      "Amazon Web Services"
     ]
    },
    {
     "cell_type": "markdown",
     "metadata": {},
     "source": [
      "![](assets/AWS-Overview-of-Services.jpg)"
     ]
    },
    {
     "cell_type": "markdown",
     "metadata": {},
     "source": [
      "- IAM: Identity and Access Management\n",
      "- S3: Simple Storage Service\n",
      "- EC2: Elastic Cloud Compute\n",
      "- EMR: Elastic MapReduce"
     ]
    },
    {
     "cell_type": "heading",
     "level": 4,
     "metadata": {},
     "source": [
      "Regions"
     ]
    },
    {
     "cell_type": "markdown",
     "metadata": {},
     "source": [
      "* us-east-1 (North Virginia)\n",
      "* us-west-1 (Northern California)\n",
      "* ap-southeast-1 (Singapore)\n",
      "* eu-west-1 (Ireland)\n",
      "* also other regions in Asia, Europe, North and South America"
     ]
    },
    {
     "cell_type": "heading",
     "level": 4,
     "metadata": {},
     "source": [
      "Availability Zones (AZ)"
     ]
    },
    {
     "cell_type": "markdown",
     "metadata": {},
     "source": [
      "* Each region has several availability zones.\n",
      "\n",
      "AZs should rarely matter, but important to know what it is (and not confuse AZs with regions). AZ will rarely matter. Region often will."
     ]
    },
    {
     "cell_type": "heading",
     "level": 4,
     "metadata": {},
     "source": [
      "Types of authentication"
     ]
    },
    {
     "cell_type": "markdown",
     "metadata": {},
     "source": [
      "> Warning: the word *key* is used a lot to mean different things.)\n",
      " \n",
      "1. Key & Secret\n",
      "    - Key = 20 character long token (all upper-case)\n",
      "    - Secret = 40 character long string\n",
      "    - Used for all AWS\n",
      "    - Created and managed in IAM\n",
      "    - Not region specific\n",
      "2. Keypair\n",
      "    - RSA encrypted\n",
      "    - Used specifically for SSH into EC2 (including EMR)\n",
      "    - Region specific\n",
      "    - Created and managed in EC2\n",
      "3. Other forms of authentication\n",
      "    - Alternative to Key & Secret\n",
      "    - Managed in IAM\n",
      "    - Useful for granting others partial access to your AWS resources  \n",
      "        (i.e. giving a friend write access to a specific S3 bucket)"
     ]
    },
    {
     "cell_type": "heading",
     "level": 3,
     "metadata": {},
     "source": [
      "S3 (Simple Storage Service)"
     ]
    },
    {
     "cell_type": "markdown",
     "metadata": {},
     "source": [
      "- Sort of a file system\n",
      "    - Buckets ~ Folders\n",
      "    - Keys ~ Files (Note: a different meaning for the word *key* in this context)\n",
      "    - Subdirectories aren't really folders, but rather just prefixes to the key name\n",
      "- Region Specific\n",
      "    - but it usually doesn't matter (except for latency)\n",
      "- Relatively Cheap\n",
      "- Complex Permission Structure (about as complex as a real file system)"
     ]
    },
    {
     "cell_type": "heading",
     "level": 3,
     "metadata": {},
     "source": [
      "EC2 (Elastic Cloud Compute)"
     ]
    },
    {
     "cell_type": "heading",
     "level": 4,
     "metadata": {},
     "source": [
      "Instance Types"
     ]
    },
    {
     "cell_type": "markdown",
     "metadata": {},
     "source": [
      "- Optimization\n",
      "    - Compute Optimized\n",
      "    - Memory Optimized\n",
      "    - Storage Optimized\n",
      "    - General Purpose\n",
      "    \n",
      "    \n",
      "- Pricing Examples:\n",
      "    - t1.micro\n",
      "        - 1 CPU\n",
      "        - 615 MB RAM\n",
      "        - \\$0.02 per Hour\n",
      "    - i2.8xlarge\n",
      "        - 32 CPUs\n",
      "        - 244 GB RAM\n",
      "        - \\$6.82 per Hour\n",
      "    - m3.xlarge \n",
      "        - 4 CPUs\n",
      "        - 15 GB RAM\n",
      "        - \\$0.28 per Hour\n",
      "        \n",
      "- Not all instance types available in all regions (e.g. High Storage Instances not available in us-west-1)\n",
      "- Prices may vary (e.g. instances in us-west-1 are often more expensive)"
     ]
    },
    {
     "cell_type": "heading",
     "level": 3,
     "metadata": {},
     "source": [
      "AMI (Amazon Machine Images)"
     ]
    },
    {
     "cell_type": "markdown",
     "metadata": {},
     "source": [
      "* A machine image is a copyable snapshot of an instance's contents and configuration\n",
      "* If you've ever run a virtual machine (e.g. VirtualBox, VMware, Parallels), you may be familiar\n",
      "* EC2 instances start as AMIs that are then *instantiated*\n",
      "* StarCluster uses AMIs extensively to preconfigure EC2 instances to create a cluster\n",
      "* A well-configured AMI can save a lot of time\n",
      "* AMIs are region specific. Copies to other regions receive new ID\n",
      "\n",
      "A well-configured AMI can save a lot of time because you don't have to install software on every instance after it's booted up (the software is effectively pre-installed).\n",
      "They can be copied, but only by the creator and it will get a new ID when that happens."
     ]
    },
    {
     "cell_type": "heading",
     "level": 3,
     "metadata": {},
     "source": [
      "EMR (Elastic MapReduce)"
     ]
    },
    {
     "cell_type": "heading",
     "level": 4,
     "metadata": {},
     "source": [
      "Hadoop in the Cloud "
     ]
    },
    {
     "cell_type": "markdown",
     "metadata": {},
     "source": [
      "* Uses EC2 instances\n",
      "* Web interface for provisioning cluster\n",
      "* Installs Hadoop, etc. automatically\n",
      "* Installs Hive, Pig, HBase automatically if desired\n",
      "* Provides a web interface to running Hadoop Streaming jobs.\n",
      "* Charges a small premium on top of EC2 prices"
     ]
    },
    {
     "cell_type": "markdown",
     "metadata": {},
     "source": [
      "One thing EMR does that StarCluster doesn't is it automatically configures Hadoop to be able to read your S3 buckets as if they were part of HDFS. This has to be done manually in StarCluster (or any other software that runs Hadoop on EC2 (e.g. Whirr, etc.))"
     ]
    },
    {
     "cell_type": "heading",
     "level": 2,
     "metadata": {},
     "source": [
      "StarCluster"
     ]
    },
    {
     "cell_type": "markdown",
     "metadata": {},
     "source": [
      "![](assets/scoverview.png)"
     ]
    },
    {
     "cell_type": "markdown",
     "metadata": {},
     "source": [
      "StarCluster comes out of the STAR program at MIT. STAR stands for \"Software Tools for Academics and Researchers\". It is used to quickly provision a cluster of EC2 instances. Like EMR, it automatically configures them to be used as a cluster (rather than as independent machines) with one controller and many workers. Unlike EMR, it does not have a GUI. Also, Hadoop is just one of many plugins for StarCluster. The most important plugin, however, is IPython Cluster."
     ]
    },
    {
     "cell_type": "markdown",
     "metadata": {},
     "source": [
      "![break](assets/code.png)"
     ]
    },
    {
     "cell_type": "markdown",
     "metadata": {},
     "source": [
      "------------------------------------------\n",
      "Wikipedia XML Data\n",
      "------------------------------------------\n",
      "A complete copy of all Wikimedia wikis, in the form of wikitext source and metadata embedded in XML.\n",
      "<table>\n",
      "          <tr>\n",
      "            <td class=\"metaLeft\">\n",
      "              Size:\n",
      "            </td>\n",
      "            <td class=\"metaRight\">\n",
      "              \n",
      "500GB</td>\n",
      "          </tr>\n",
      "          <tr>\n",
      "            <td class=\"metaLeft\">\n",
      "              Source:\n",
      "            </td>\n",
      "            <td class=\"metaRight\">\n",
      "              \n",
      "Wikimedia Foundation (http://download.wikipedia.org/backup-index.html)</td>\n",
      "          </tr>\n",
      "          <tr>\n",
      "            <td class=\"metaLeft\">\n",
      "              Created On: \n",
      "            </td>\n",
      "            <td class=\"metaRight\">\n",
      "              \n",
      "<span class=\"timestamp\">May 15, 2009 12:09 AM GMT</span>\n",
      " \n",
      "            </td>\n",
      "          </tr>\n",
      "          <tr>\n",
      "            <td class=\"metaLeft\">\n",
      "              Last Updated:\n",
      "            </td>\n",
      "            <td class=\"metaRight\">\n",
      "              \n",
      "<span class=\"timestamp\">September 29, 2009  1:09 AM GMT</span>\n",
      " \n",
      "            </td>\n",
      "          </tr>\n",
      "        </table>  \n",
      "        \n",
      "http://aws.amazon.com/datasets/Encyclopedic/2506"
     ]
    },
    {
     "cell_type": "heading",
     "level": 3,
     "metadata": {},
     "source": [
      "Part I : Preliminary investigation of our dataset"
     ]
    },
    {
     "cell_type": "code",
     "collapsed": false,
     "input": [
      "!pip install boto"
     ],
     "language": "python",
     "metadata": {},
     "outputs": [
      {
       "output_type": "stream",
       "stream": "stdout",
       "text": [
        "Downloading/unpacking boto\r\n"
       ]
      },
      {
       "output_type": "stream",
       "stream": "stdout",
       "text": [
        "  Downloading boto-2.30.0.tar.gz (7.1MB): \r",
        "  Downloading boto-2.30.0.tar.gz (7.1MB):   0%  4.1kB\r",
        "  Downloading boto-2.30.0.tar.gz (7.1MB):   0%  8.2kB\r",
        "  Downloading boto-2.30.0.tar.gz (7.1MB):   0%  12kB \r",
        "  Downloading boto-2.30.0.tar.gz (7.1MB):   0%  16kB\r",
        "  Downloading boto-2.30.0.tar.gz (7.1MB):   0%  20kB\r",
        "  Downloading boto-2.30.0.tar.gz (7.1MB):   0%  24kB\r",
        "  Downloading boto-2.30.0.tar.gz (7.1MB):   0%  28kB\r",
        "  Downloading boto-2.30.0.tar.gz (7.1MB):   0%  32kB"
       ]
      },
      {
       "output_type": "stream",
       "stream": "stdout",
       "text": [
        "\r",
        "  Downloading boto-2.30.0.tar.gz (7.1MB):   0%  36kB\r",
        "  Downloading boto-2.30.0.tar.gz (7.1MB):   0%  40kB\r",
        "  Downloading boto-2.30.0.tar.gz (7.1MB):   0%  45kB\r",
        "  Downloading boto-2.30.0.tar.gz (7.1MB):   0%  49kB\r",
        "  Downloading boto-2.30.0.tar.gz (7.1MB):   0%  53kB\r",
        "  Downloading boto-2.30.0.tar.gz (7.1MB):   0%  57kB\r",
        "  Downloading boto-2.30.0.tar.gz (7.1MB):   0%  61kB\r",
        "  Downloading boto-2.30.0.tar.gz (7.1MB):   0%  65kB\r",
        "  Downloading boto-2.30.0.tar.gz (7.1MB):   0%  69kB\r",
        "  Downloading boto-2.30.0.tar.gz (7.1MB):   1%  73kB\r",
        "  Downloading boto-2.30.0.tar.gz (7.1MB):   1%  77kB\r",
        "  Downloading boto-2.30.0.tar.gz (7.1MB):   1%  81kB\r",
        "  Downloading boto-2.30.0.tar.gz (7.1MB):   1%  86kB\r",
        "  Downloading boto-2.30.0.tar.gz (7.1MB):   1%  90kB\r",
        "  Downloading boto-2.30.0.tar.gz (7.1MB):   1%  94kB\r",
        "  Downloading boto-2.30.0.tar.gz (7.1MB):   1%  98kB\r",
        "  Downloading boto-2.30.0.tar.gz (7.1MB):   1%  102kB\r",
        "  Downloading boto-2.30.0.tar.gz (7.1MB):   1%  106kB\r",
        "  Downloading boto-2.30.0.tar.gz (7.1MB):   1%  110kB\r",
        "  Downloading boto-2.30.0.tar.gz (7.1MB):   1%  114kB\r",
        "  Downloading boto-2.30.0.tar.gz (7.1MB):   1%  118kB\r",
        "  Downloading boto-2.30.0.tar.gz (7.1MB):   1%  122kB\r",
        "  Downloading boto-2.30.0.tar.gz (7.1MB):   1%  126kB\r",
        "  Downloading boto-2.30.0.tar.gz (7.1MB):   1%  131kB\r",
        "  Downloading boto-2.30.0.tar.gz (7.1MB):   1%  135kB\r",
        "  Downloading boto-2.30.0.tar.gz (7.1MB):   1%  139kB\r",
        "  Downloading boto-2.30.0.tar.gz (7.1MB):   2%  143kB\r",
        "  Downloading boto-2.30.0.tar.gz (7.1MB):   2%  147kB\r",
        "  Downloading boto-2.30.0.tar.gz (7.1MB):   2%  151kB"
       ]
      },
      {
       "output_type": "stream",
       "stream": "stdout",
       "text": [
        "\r",
        "  Downloading boto-2.30.0.tar.gz (7.1MB):   2%  155kB\r",
        "  Downloading boto-2.30.0.tar.gz (7.1MB):   2%  159kB\r",
        "  Downloading boto-2.30.0.tar.gz (7.1MB):   2%  163kB\r",
        "  Downloading boto-2.30.0.tar.gz (7.1MB):   2%  167kB\r",
        "  Downloading boto-2.30.0.tar.gz (7.1MB):   2%  172kB\r",
        "  Downloading boto-2.30.0.tar.gz (7.1MB):   2%  176kB\r",
        "  Downloading boto-2.30.0.tar.gz (7.1MB):   2%  180kB\r",
        "  Downloading boto-2.30.0.tar.gz (7.1MB):   2%  184kB\r",
        "  Downloading boto-2.30.0.tar.gz (7.1MB):   2%  188kB\r",
        "  Downloading boto-2.30.0.tar.gz (7.1MB):   2%  192kB\r",
        "  Downloading boto-2.30.0.tar.gz (7.1MB):   2%  196kB\r",
        "  Downloading boto-2.30.0.tar.gz (7.1MB):   2%  200kB\r",
        "  Downloading boto-2.30.0.tar.gz (7.1MB):   2%  204kB\r",
        "  Downloading boto-2.30.0.tar.gz (7.1MB):   2%  208kB\r",
        "  Downloading boto-2.30.0.tar.gz (7.1MB):   3%  212kB\r",
        "  Downloading boto-2.30.0.tar.gz (7.1MB):   3%  217kB\r",
        "  Downloading boto-2.30.0.tar.gz (7.1MB):   3%  221kB\r",
        "  Downloading boto-2.30.0.tar.gz (7.1MB):   3%  225kB\r",
        "  Downloading boto-2.30.0.tar.gz (7.1MB):   3%  229kB\r",
        "  Downloading boto-2.30.0.tar.gz (7.1MB):   3%  233kB\r",
        "  Downloading boto-2.30.0.tar.gz (7.1MB):   3%  237kB\r",
        "  Downloading boto-2.30.0.tar.gz (7.1MB):   3%  241kB\r",
        "  Downloading boto-2.30.0.tar.gz (7.1MB):   3%  245kB\r",
        "  Downloading boto-2.30.0.tar.gz (7.1MB):   3%  249kB\r",
        "  Downloading boto-2.30.0.tar.gz (7.1MB):   3%  253kB\r",
        "  Downloading boto-2.30.0.tar.gz (7.1MB):   3%  258kB\r",
        "  Downloading boto-2.30.0.tar.gz (7.1MB):   3%  262kB\r",
        "  Downloading boto-2.30.0.tar.gz (7.1MB):   3%  266kB\r",
        "  Downloading boto-2.30.0.tar.gz (7.1MB):   3%  270kB\r",
        "  Downloading boto-2.30.0.tar.gz (7.1MB):   3%  274kB\r",
        "  Downloading boto-2.30.0.tar.gz (7.1MB):   3%  278kB\r",
        "  Downloading boto-2.30.0.tar.gz (7.1MB):   3%  282kB\r",
        "  Downloading boto-2.30.0.tar.gz (7.1MB):   4%  286kB\r",
        "  Downloading boto-2.30.0.tar.gz (7.1MB):   4%  290kB\r",
        "  Downloading boto-2.30.0.tar.gz (7.1MB):   4%  294kB\r",
        "  Downloading boto-2.30.0.tar.gz (7.1MB):   4%  299kB\r",
        "  Downloading boto-2.30.0.tar.gz (7.1MB):   4%  303kB\r",
        "  Downloading boto-2.30.0.tar.gz (7.1MB):   4%  307kB\r",
        "  Downloading boto-2.30.0.tar.gz (7.1MB):   4%  311kB\r",
        "  Downloading boto-2.30.0.tar.gz (7.1MB):   4%  315kB\r",
        "  Downloading boto-2.30.0.tar.gz (7.1MB):   4%  319kB\r",
        "  Downloading boto-2.30.0.tar.gz (7.1MB):   4%  323kB\r",
        "  Downloading boto-2.30.0.tar.gz (7.1MB):   4%  327kB\r",
        "  Downloading boto-2.30.0.tar.gz (7.1MB):   4%  331kB\r",
        "  Downloading boto-2.30.0.tar.gz (7.1MB):   4%  335kB\r",
        "  Downloading boto-2.30.0.tar.gz (7.1MB):   4%  339kB\r",
        "  Downloading boto-2.30.0.tar.gz (7.1MB):   4%  344kB\r",
        "  Downloading boto-2.30.0.tar.gz (7.1MB):   4%  348kB\r",
        "  Downloading boto-2.30.0.tar.gz (7.1MB):   4%  352kB\r",
        "  Downloading boto-2.30.0.tar.gz (7.1MB):   5%  356kB"
       ]
      },
      {
       "output_type": "stream",
       "stream": "stdout",
       "text": [
        "\r",
        "  Downloading boto-2.30.0.tar.gz (7.1MB):   5%  360kB\r",
        "  Downloading boto-2.30.0.tar.gz (7.1MB):   5%  364kB\r",
        "  Downloading boto-2.30.0.tar.gz (7.1MB):   5%  368kB\r",
        "  Downloading boto-2.30.0.tar.gz (7.1MB):   5%  372kB\r",
        "  Downloading boto-2.30.0.tar.gz (7.1MB):   5%  376kB\r",
        "  Downloading boto-2.30.0.tar.gz (7.1MB):   5%  380kB\r",
        "  Downloading boto-2.30.0.tar.gz (7.1MB):   5%  385kB\r",
        "  Downloading boto-2.30.0.tar.gz (7.1MB):   5%  389kB\r",
        "  Downloading boto-2.30.0.tar.gz (7.1MB):   5%  393kB\r",
        "  Downloading boto-2.30.0.tar.gz (7.1MB):   5%  397kB\r",
        "  Downloading boto-2.30.0.tar.gz (7.1MB):   5%  401kB\r",
        "  Downloading boto-2.30.0.tar.gz (7.1MB):   5%  405kB\r",
        "  Downloading boto-2.30.0.tar.gz (7.1MB):   5%  409kB\r",
        "  Downloading boto-2.30.0.tar.gz (7.1MB):   5%  413kB\r",
        "  Downloading boto-2.30.0.tar.gz (7.1MB):   5%  417kB\r",
        "  Downloading boto-2.30.0.tar.gz (7.1MB):   5%  421kB\r",
        "  Downloading boto-2.30.0.tar.gz (7.1MB):   6%  425kB\r",
        "  Downloading boto-2.30.0.tar.gz (7.1MB):   6%  430kB\r",
        "  Downloading boto-2.30.0.tar.gz (7.1MB):   6%  434kB\r",
        "  Downloading boto-2.30.0.tar.gz (7.1MB):   6%  438kB\r",
        "  Downloading boto-2.30.0.tar.gz (7.1MB):   6%  442kB\r",
        "  Downloading boto-2.30.0.tar.gz (7.1MB):   6%  446kB\r",
        "  Downloading boto-2.30.0.tar.gz (7.1MB):   6%  450kB\r",
        "  Downloading boto-2.30.0.tar.gz (7.1MB):   6%  454kB\r",
        "  Downloading boto-2.30.0.tar.gz (7.1MB):   6%  458kB\r",
        "  Downloading boto-2.30.0.tar.gz (7.1MB):   6%  462kB\r",
        "  Downloading boto-2.30.0.tar.gz (7.1MB):   6%  466kB\r",
        "  Downloading boto-2.30.0.tar.gz (7.1MB):   6%  471kB\r",
        "  Downloading boto-2.30.0.tar.gz (7.1MB):   6%  475kB\r",
        "  Downloading boto-2.30.0.tar.gz (7.1MB):   6%  479kB\r",
        "  Downloading boto-2.30.0.tar.gz (7.1MB):   6%  483kB\r",
        "  Downloading boto-2.30.0.tar.gz (7.1MB):   6%  487kB\r",
        "  Downloading boto-2.30.0.tar.gz (7.1MB):   6%  491kB\r",
        "  Downloading boto-2.30.0.tar.gz (7.1MB):   7%  495kB\r",
        "  Downloading boto-2.30.0.tar.gz (7.1MB):   7%  499kB\r",
        "  Downloading boto-2.30.0.tar.gz (7.1MB):   7%  503kB\r",
        "  Downloading boto-2.30.0.tar.gz (7.1MB):   7%  507kB\r",
        "  Downloading boto-2.30.0.tar.gz (7.1MB):   7%  512kB\r",
        "  Downloading boto-2.30.0.tar.gz (7.1MB):   7%  516kB\r",
        "  Downloading boto-2.30.0.tar.gz (7.1MB):   7%  520kB\r",
        "  Downloading boto-2.30.0.tar.gz (7.1MB):   7%  524kB\r",
        "  Downloading boto-2.30.0.tar.gz (7.1MB):   7%  528kB\r",
        "  Downloading boto-2.30.0.tar.gz (7.1MB):   7%  532kB\r",
        "  Downloading boto-2.30.0.tar.gz (7.1MB):   7%  536kB\r",
        "  Downloading boto-2.30.0.tar.gz (7.1MB):   7%  540kB\r",
        "  Downloading boto-2.30.0.tar.gz (7.1MB):   7%  544kB\r",
        "  Downloading boto-2.30.0.tar.gz (7.1MB):   7%  548kB\r",
        "  Downloading boto-2.30.0.tar.gz (7.1MB):   7%  552kB\r",
        "  Downloading boto-2.30.0.tar.gz (7.1MB):   7%  557kB\r",
        "  Downloading boto-2.30.0.tar.gz (7.1MB):   7%  561kB\r",
        "  Downloading boto-2.30.0.tar.gz (7.1MB):   7%  565kB\r",
        "  Downloading boto-2.30.0.tar.gz (7.1MB):   8%  569kB\r",
        "  Downloading boto-2.30.0.tar.gz (7.1MB):   8%  573kB\r",
        "  Downloading boto-2.30.0.tar.gz (7.1MB):   8%  577kB"
       ]
      },
      {
       "output_type": "stream",
       "stream": "stdout",
       "text": [
        "\r",
        "  Downloading boto-2.30.0.tar.gz (7.1MB):   8%  581kB\r",
        "  Downloading boto-2.30.0.tar.gz (7.1MB):   8%  585kB\r",
        "  Downloading boto-2.30.0.tar.gz (7.1MB):   8%  589kB\r",
        "  Downloading boto-2.30.0.tar.gz (7.1MB):   8%  593kB\r",
        "  Downloading boto-2.30.0.tar.gz (7.1MB):   8%  598kB\r",
        "  Downloading boto-2.30.0.tar.gz (7.1MB):   8%  602kB\r",
        "  Downloading boto-2.30.0.tar.gz (7.1MB):   8%  606kB\r",
        "  Downloading boto-2.30.0.tar.gz (7.1MB):   8%  610kB\r",
        "  Downloading boto-2.30.0.tar.gz (7.1MB):   8%  614kB\r",
        "  Downloading boto-2.30.0.tar.gz (7.1MB):   8%  618kB\r",
        "  Downloading boto-2.30.0.tar.gz (7.1MB):   8%  622kB\r",
        "  Downloading boto-2.30.0.tar.gz (7.1MB):   8%  626kB\r",
        "  Downloading boto-2.30.0.tar.gz (7.1MB):   8%  630kB\r",
        "  Downloading boto-2.30.0.tar.gz (7.1MB):   8%  634kB\r",
        "  Downloading boto-2.30.0.tar.gz (7.1MB):   9%  638kB\r",
        "  Downloading boto-2.30.0.tar.gz (7.1MB):   9%  643kB\r",
        "  Downloading boto-2.30.0.tar.gz (7.1MB):   9%  647kB\r",
        "  Downloading boto-2.30.0.tar.gz (7.1MB):   9%  651kB\r",
        "  Downloading boto-2.30.0.tar.gz (7.1MB):   9%  655kB\r",
        "  Downloading boto-2.30.0.tar.gz (7.1MB):   9%  659kB\r",
        "  Downloading boto-2.30.0.tar.gz (7.1MB):   9%  663kB\r",
        "  Downloading boto-2.30.0.tar.gz (7.1MB):   9%  667kB\r",
        "  Downloading boto-2.30.0.tar.gz (7.1MB):   9%  671kB\r",
        "  Downloading boto-2.30.0.tar.gz (7.1MB):   9%  675kB\r",
        "  Downloading boto-2.30.0.tar.gz (7.1MB):   9%  679kB\r",
        "  Downloading boto-2.30.0.tar.gz (7.1MB):   9%  684kB\r",
        "  Downloading boto-2.30.0.tar.gz (7.1MB):   9%  688kB\r",
        "  Downloading boto-2.30.0.tar.gz (7.1MB):   9%  692kB\r",
        "  Downloading boto-2.30.0.tar.gz (7.1MB):   9%  696kB\r",
        "  Downloading boto-2.30.0.tar.gz (7.1MB):   9%  700kB\r",
        "  Downloading boto-2.30.0.tar.gz (7.1MB):   9%  704kB\r",
        "  Downloading boto-2.30.0.tar.gz (7.1MB):  10%  708kB\r",
        "  Downloading boto-2.30.0.tar.gz (7.1MB):  10%  712kB\r",
        "  Downloading boto-2.30.0.tar.gz (7.1MB):  10%  716kB\r",
        "  Downloading boto-2.30.0.tar.gz (7.1MB):  10%  720kB\r",
        "  Downloading boto-2.30.0.tar.gz (7.1MB):  10%  724kB\r",
        "  Downloading boto-2.30.0.tar.gz (7.1MB):  10%  729kB\r",
        "  Downloading boto-2.30.0.tar.gz (7.1MB):  10%  733kB\r",
        "  Downloading boto-2.30.0.tar.gz (7.1MB):  10%  737kB\r",
        "  Downloading boto-2.30.0.tar.gz (7.1MB):  10%  741kB\r",
        "  Downloading boto-2.30.0.tar.gz (7.1MB):  10%  745kB\r",
        "  Downloading boto-2.30.0.tar.gz (7.1MB):  10%  749kB\r",
        "  Downloading boto-2.30.0.tar.gz (7.1MB):  10%  753kB\r",
        "  Downloading boto-2.30.0.tar.gz (7.1MB):  10%  757kB\r",
        "  Downloading boto-2.30.0.tar.gz (7.1MB):  10%  761kB\r",
        "  Downloading boto-2.30.0.tar.gz (7.1MB):  10%  765kB\r",
        "  Downloading boto-2.30.0.tar.gz (7.1MB):  10%  770kB\r",
        "  Downloading boto-2.30.0.tar.gz (7.1MB):  10%  774kB\r",
        "  Downloading boto-2.30.0.tar.gz (7.1MB):  10%  778kB\r",
        "  Downloading boto-2.30.0.tar.gz (7.1MB):  11%  782kB\r",
        "  Downloading boto-2.30.0.tar.gz (7.1MB):  11%  786kB\r",
        "  Downloading boto-2.30.0.tar.gz (7.1MB):  11%  790kB\r",
        "  Downloading boto-2.30.0.tar.gz (7.1MB):  11%  794kB\r",
        "  Downloading boto-2.30.0.tar.gz (7.1MB):  11%  798kB\r",
        "  Downloading boto-2.30.0.tar.gz (7.1MB):  11%  802kB\r",
        "  Downloading boto-2.30.0.tar.gz (7.1MB):  11%  806kB\r",
        "  Downloading boto-2.30.0.tar.gz (7.1MB):  11%  811kB\r",
        "  Downloading boto-2.30.0.tar.gz (7.1MB):  11%  815kB\r",
        "  Downloading boto-2.30.0.tar.gz (7.1MB):  11%  819kB\r",
        "  Downloading boto-2.30.0.tar.gz (7.1MB):  11%  823kB\r",
        "  Downloading boto-2.30.0.tar.gz (7.1MB):  11%  827kB\r",
        "  Downloading boto-2.30.0.tar.gz (7.1MB):  11%  831kB\r",
        "  Downloading boto-2.30.0.tar.gz (7.1MB):  11%  835kB"
       ]
      },
      {
       "output_type": "stream",
       "stream": "stdout",
       "text": [
        "\r",
        "  Downloading boto-2.30.0.tar.gz (7.1MB):  11%  839kB\r",
        "  Downloading boto-2.30.0.tar.gz (7.1MB):  11%  843kB\r",
        "  Downloading boto-2.30.0.tar.gz (7.1MB):  11%  847kB\r",
        "  Downloading boto-2.30.0.tar.gz (7.1MB):  12%  851kB\r",
        "  Downloading boto-2.30.0.tar.gz (7.1MB):  12%  856kB\r",
        "  Downloading boto-2.30.0.tar.gz (7.1MB):  12%  860kB\r",
        "  Downloading boto-2.30.0.tar.gz (7.1MB):  12%  864kB\r",
        "  Downloading boto-2.30.0.tar.gz (7.1MB):  12%  868kB\r",
        "  Downloading boto-2.30.0.tar.gz (7.1MB):  12%  872kB\r",
        "  Downloading boto-2.30.0.tar.gz (7.1MB):  12%  876kB\r",
        "  Downloading boto-2.30.0.tar.gz (7.1MB):  12%  880kB\r",
        "  Downloading boto-2.30.0.tar.gz (7.1MB):  12%  884kB\r",
        "  Downloading boto-2.30.0.tar.gz (7.1MB):  12%  888kB\r",
        "  Downloading boto-2.30.0.tar.gz (7.1MB):  12%  892kB\r",
        "  Downloading boto-2.30.0.tar.gz (7.1MB):  12%  897kB\r",
        "  Downloading boto-2.30.0.tar.gz (7.1MB):  12%  901kB\r",
        "  Downloading boto-2.30.0.tar.gz (7.1MB):  12%  905kB\r",
        "  Downloading boto-2.30.0.tar.gz (7.1MB):  12%  909kB\r",
        "  Downloading boto-2.30.0.tar.gz (7.1MB):  12%  913kB\r",
        "  Downloading boto-2.30.0.tar.gz (7.1MB):  12%  917kB\r",
        "  Downloading boto-2.30.0.tar.gz (7.1MB):  13%  921kB\r",
        "  Downloading boto-2.30.0.tar.gz (7.1MB):  13%  925kB\r",
        "  Downloading boto-2.30.0.tar.gz (7.1MB):  13%  929kB\r",
        "  Downloading boto-2.30.0.tar.gz (7.1MB):  13%  933kB\r",
        "  Downloading boto-2.30.0.tar.gz (7.1MB):  13%  937kB\r",
        "  Downloading boto-2.30.0.tar.gz (7.1MB):  13%  942kB\r",
        "  Downloading boto-2.30.0.tar.gz (7.1MB):  13%  946kB\r",
        "  Downloading boto-2.30.0.tar.gz (7.1MB):  13%  950kB\r",
        "  Downloading boto-2.30.0.tar.gz (7.1MB):  13%  954kB\r",
        "  Downloading boto-2.30.0.tar.gz (7.1MB):  13%  958kB\r",
        "  Downloading boto-2.30.0.tar.gz (7.1MB):  13%  962kB\r",
        "  Downloading boto-2.30.0.tar.gz (7.1MB):  13%  966kB\r",
        "  Downloading boto-2.30.0.tar.gz (7.1MB):  13%  970kB\r",
        "  Downloading boto-2.30.0.tar.gz (7.1MB):  13%  974kB\r",
        "  Downloading boto-2.30.0.tar.gz (7.1MB):  13%  978kB\r",
        "  Downloading boto-2.30.0.tar.gz (7.1MB):  13%  983kB\r",
        "  Downloading boto-2.30.0.tar.gz (7.1MB):  13%  987kB\r",
        "  Downloading boto-2.30.0.tar.gz (7.1MB):  14%  991kB\r",
        "  Downloading boto-2.30.0.tar.gz (7.1MB):  14%  995kB\r",
        "  Downloading boto-2.30.0.tar.gz (7.1MB):  14%  999kB\r",
        "  Downloading boto-2.30.0.tar.gz (7.1MB):  14%  1.0MB\r",
        "  Downloading boto-2.30.0.tar.gz (7.1MB):  14%  1.0MB\r",
        "  Downloading boto-2.30.0.tar.gz (7.1MB):  14%  1.0MB\r",
        "  Downloading boto-2.30.0.tar.gz (7.1MB):  14%  1.0MB\r",
        "  Downloading boto-2.30.0.tar.gz (7.1MB):  14%  1.0MB\r",
        "  Downloading boto-2.30.0.tar.gz (7.1MB):  14%  1.0MB\r",
        "  Downloading boto-2.30.0.tar.gz (7.1MB):  14%  1.0MB\r",
        "  Downloading boto-2.30.0.tar.gz (7.1MB):  14%  1.0MB\r",
        "  Downloading boto-2.30.0.tar.gz (7.1MB):  14%  1.0MB\r",
        "  Downloading boto-2.30.0.tar.gz (7.1MB):  14%  1.0MB\r",
        "  Downloading boto-2.30.0.tar.gz (7.1MB):  14%  1.0MB\r",
        "  Downloading boto-2.30.0.tar.gz (7.1MB):  14%  1.0MB\r",
        "  Downloading boto-2.30.0.tar.gz (7.1MB):  14%  1.1MB\r",
        "  Downloading boto-2.30.0.tar.gz (7.1MB):  14%  1.1MB\r",
        "  Downloading boto-2.30.0.tar.gz (7.1MB):  14%  1.1MB\r",
        "  Downloading boto-2.30.0.tar.gz (7.1MB):  15%  1.1MB\r",
        "  Downloading boto-2.30.0.tar.gz (7.1MB):  15%  1.1MB\r",
        "  Downloading boto-2.30.0.tar.gz (7.1MB):  15%  1.1MB\r",
        "  Downloading boto-2.30.0.tar.gz (7.1MB):  15%  1.1MB\r",
        "  Downloading boto-2.30.0.tar.gz (7.1MB):  15%  1.1MB"
       ]
      },
      {
       "output_type": "stream",
       "stream": "stdout",
       "text": [
        "\r",
        "  Downloading boto-2.30.0.tar.gz (7.1MB):  15%  1.1MB\r",
        "  Downloading boto-2.30.0.tar.gz (7.1MB):  15%  1.1MB\r",
        "  Downloading boto-2.30.0.tar.gz (7.1MB):  15%  1.1MB\r",
        "  Downloading boto-2.30.0.tar.gz (7.1MB):  15%  1.1MB\r",
        "  Downloading boto-2.30.0.tar.gz (7.1MB):  15%  1.1MB\r",
        "  Downloading boto-2.30.0.tar.gz (7.1MB):  15%  1.1MB\r",
        "  Downloading boto-2.30.0.tar.gz (7.1MB):  15%  1.1MB\r",
        "  Downloading boto-2.30.0.tar.gz (7.1MB):  15%  1.1MB\r",
        "  Downloading boto-2.30.0.tar.gz (7.1MB):  15%  1.1MB\r",
        "  Downloading boto-2.30.0.tar.gz (7.1MB):  15%  1.1MB\r",
        "  Downloading boto-2.30.0.tar.gz (7.1MB):  15%  1.1MB\r",
        "  Downloading boto-2.30.0.tar.gz (7.1MB):  15%  1.1MB\r",
        "  Downloading boto-2.30.0.tar.gz (7.1MB):  16%  1.1MB\r",
        "  Downloading boto-2.30.0.tar.gz (7.1MB):  16%  1.1MB\r",
        "  Downloading boto-2.30.0.tar.gz (7.1MB):  16%  1.1MB\r",
        "  Downloading boto-2.30.0.tar.gz (7.1MB):  16%  1.1MB\r",
        "  Downloading boto-2.30.0.tar.gz (7.1MB):  16%  1.2MB\r",
        "  Downloading boto-2.30.0.tar.gz (7.1MB):  16%  1.2MB\r",
        "  Downloading boto-2.30.0.tar.gz (7.1MB):  16%  1.2MB\r",
        "  Downloading boto-2.30.0.tar.gz (7.1MB):  16%  1.2MB\r",
        "  Downloading boto-2.30.0.tar.gz (7.1MB):  16%  1.2MB\r",
        "  Downloading boto-2.30.0.tar.gz (7.1MB):  16%  1.2MB\r",
        "  Downloading boto-2.30.0.tar.gz (7.1MB):  16%  1.2MB\r",
        "  Downloading boto-2.30.0.tar.gz (7.1MB):  16%  1.2MB\r",
        "  Downloading boto-2.30.0.tar.gz (7.1MB):  16%  1.2MB\r",
        "  Downloading boto-2.30.0.tar.gz (7.1MB):  16%  1.2MB\r",
        "  Downloading boto-2.30.0.tar.gz (7.1MB):  16%  1.2MB\r",
        "  Downloading boto-2.30.0.tar.gz (7.1MB):  16%  1.2MB\r",
        "  Downloading boto-2.30.0.tar.gz (7.1MB):  16%  1.2MB\r",
        "  Downloading boto-2.30.0.tar.gz (7.1MB):  17%  1.2MB\r",
        "  Downloading boto-2.30.0.tar.gz (7.1MB):  17%  1.2MB\r",
        "  Downloading boto-2.30.0.tar.gz (7.1MB):  17%  1.2MB\r",
        "  Downloading boto-2.30.0.tar.gz (7.1MB):  17%  1.2MB\r",
        "  Downloading boto-2.30.0.tar.gz (7.1MB):  17%  1.2MB\r",
        "  Downloading boto-2.30.0.tar.gz (7.1MB):  17%  1.2MB\r",
        "  Downloading boto-2.30.0.tar.gz (7.1MB):  17%  1.2MB\r",
        "  Downloading boto-2.30.0.tar.gz (7.1MB):  17%  1.2MB\r",
        "  Downloading boto-2.30.0.tar.gz (7.1MB):  17%  1.2MB\r",
        "  Downloading boto-2.30.0.tar.gz (7.1MB):  17%  1.2MB\r",
        "  Downloading boto-2.30.0.tar.gz (7.1MB):  17%  1.2MB\r",
        "  Downloading boto-2.30.0.tar.gz (7.1MB):  17%  1.2MB\r",
        "  Downloading boto-2.30.0.tar.gz (7.1MB):  17%  1.3MB\r",
        "  Downloading boto-2.30.0.tar.gz (7.1MB):  17%  1.3MB\r",
        "  Downloading boto-2.30.0.tar.gz (7.1MB):  17%  1.3MB\r",
        "  Downloading boto-2.30.0.tar.gz (7.1MB):  17%  1.3MB\r",
        "  Downloading boto-2.30.0.tar.gz (7.1MB):  17%  1.3MB\r",
        "  Downloading boto-2.30.0.tar.gz (7.1MB):  18%  1.3MB\r",
        "  Downloading boto-2.30.0.tar.gz (7.1MB):  18%  1.3MB\r",
        "  Downloading boto-2.30.0.tar.gz (7.1MB):  18%  1.3MB\r",
        "  Downloading boto-2.30.0.tar.gz (7.1MB):  18%  1.3MB\r",
        "  Downloading boto-2.30.0.tar.gz (7.1MB):  18%  1.3MB\r",
        "  Downloading boto-2.30.0.tar.gz (7.1MB):  18%  1.3MB\r",
        "  Downloading boto-2.30.0.tar.gz (7.1MB):  18%  1.3MB\r",
        "  Downloading boto-2.30.0.tar.gz (7.1MB):  18%  1.3MB\r",
        "  Downloading boto-2.30.0.tar.gz (7.1MB):  18%  1.3MB\r",
        "  Downloading boto-2.30.0.tar.gz (7.1MB):  18%  1.3MB\r",
        "  Downloading boto-2.30.0.tar.gz (7.1MB):  18%  1.3MB\r",
        "  Downloading boto-2.30.0.tar.gz (7.1MB):  18%  1.3MB"
       ]
      },
      {
       "output_type": "stream",
       "stream": "stdout",
       "text": [
        "\r",
        "  Downloading boto-2.30.0.tar.gz (7.1MB):  18%  1.3MB\r",
        "  Downloading boto-2.30.0.tar.gz (7.1MB):  18%  1.3MB\r",
        "  Downloading boto-2.30.0.tar.gz (7.1MB):  18%  1.3MB\r",
        "  Downloading boto-2.30.0.tar.gz (7.1MB):  18%  1.3MB\r",
        "  Downloading boto-2.30.0.tar.gz (7.1MB):  18%  1.3MB\r",
        "  Downloading boto-2.30.0.tar.gz (7.1MB):  18%  1.3MB\r",
        "  Downloading boto-2.30.0.tar.gz (7.1MB):  19%  1.3MB\r",
        "  Downloading boto-2.30.0.tar.gz (7.1MB):  19%  1.4MB\r",
        "  Downloading boto-2.30.0.tar.gz (7.1MB):  19%  1.4MB\r",
        "  Downloading boto-2.30.0.tar.gz (7.1MB):  19%  1.4MB\r",
        "  Downloading boto-2.30.0.tar.gz (7.1MB):  19%  1.4MB\r",
        "  Downloading boto-2.30.0.tar.gz (7.1MB):  19%  1.4MB\r",
        "  Downloading boto-2.30.0.tar.gz (7.1MB):  19%  1.4MB\r",
        "  Downloading boto-2.30.0.tar.gz (7.1MB):  19%  1.4MB\r",
        "  Downloading boto-2.30.0.tar.gz (7.1MB):  19%  1.4MB\r",
        "  Downloading boto-2.30.0.tar.gz (7.1MB):  19%  1.4MB\r",
        "  Downloading boto-2.30.0.tar.gz (7.1MB):  19%  1.4MB\r",
        "  Downloading boto-2.30.0.tar.gz (7.1MB):  19%  1.4MB\r",
        "  Downloading boto-2.30.0.tar.gz (7.1MB):  19%  1.4MB\r",
        "  Downloading boto-2.30.0.tar.gz (7.1MB):  19%  1.4MB\r",
        "  Downloading boto-2.30.0.tar.gz (7.1MB):  19%  1.4MB\r",
        "  Downloading boto-2.30.0.tar.gz (7.1MB):  19%  1.4MB\r",
        "  Downloading boto-2.30.0.tar.gz (7.1MB):  19%  1.4MB\r",
        "  Downloading boto-2.30.0.tar.gz (7.1MB):  20%  1.4MB\r",
        "  Downloading boto-2.30.0.tar.gz (7.1MB):  20%  1.4MB\r",
        "  Downloading boto-2.30.0.tar.gz (7.1MB):  20%  1.4MB\r",
        "  Downloading boto-2.30.0.tar.gz (7.1MB):  20%  1.4MB\r",
        "  Downloading boto-2.30.0.tar.gz (7.1MB):  20%  1.4MB\r",
        "  Downloading boto-2.30.0.tar.gz (7.1MB):  20%  1.4MB\r",
        "  Downloading boto-2.30.0.tar.gz (7.1MB):  20%  1.4MB\r",
        "  Downloading boto-2.30.0.tar.gz (7.1MB):  20%  1.4MB\r",
        "  Downloading boto-2.30.0.tar.gz (7.1MB):  20%  1.4MB\r",
        "  Downloading boto-2.30.0.tar.gz (7.1MB):  20%  1.5MB\r",
        "  Downloading boto-2.30.0.tar.gz (7.1MB):  20%  1.5MB\r",
        "  Downloading boto-2.30.0.tar.gz (7.1MB):  20%  1.5MB\r",
        "  Downloading boto-2.30.0.tar.gz (7.1MB):  20%  1.5MB\r",
        "  Downloading boto-2.30.0.tar.gz (7.1MB):  20%  1.5MB\r",
        "  Downloading boto-2.30.0.tar.gz (7.1MB):  20%  1.5MB\r",
        "  Downloading boto-2.30.0.tar.gz (7.1MB):  20%  1.5MB\r",
        "  Downloading boto-2.30.0.tar.gz (7.1MB):  20%  1.5MB\r",
        "  Downloading boto-2.30.0.tar.gz (7.1MB):  21%  1.5MB\r",
        "  Downloading boto-2.30.0.tar.gz (7.1MB):  21%  1.5MB\r",
        "  Downloading boto-2.30.0.tar.gz (7.1MB):  21%  1.5MB\r",
        "  Downloading boto-2.30.0.tar.gz (7.1MB):  21%  1.5MB\r",
        "  Downloading boto-2.30.0.tar.gz (7.1MB):  21%  1.5MB\r",
        "  Downloading boto-2.30.0.tar.gz (7.1MB):  21%  1.5MB\r",
        "  Downloading boto-2.30.0.tar.gz (7.1MB):  21%  1.5MB\r",
        "  Downloading boto-2.30.0.tar.gz (7.1MB):  21%  1.5MB\r",
        "  Downloading boto-2.30.0.tar.gz (7.1MB):  21%  1.5MB\r",
        "  Downloading boto-2.30.0.tar.gz (7.1MB):  21%  1.5MB\r",
        "  Downloading boto-2.30.0.tar.gz (7.1MB):  21%  1.5MB\r",
        "  Downloading boto-2.30.0.tar.gz (7.1MB):  21%  1.5MB\r",
        "  Downloading boto-2.30.0.tar.gz (7.1MB):  21%  1.5MB\r",
        "  Downloading boto-2.30.0.tar.gz (7.1MB):  21%  1.5MB\r",
        "  Downloading boto-2.30.0.tar.gz (7.1MB):  21%  1.5MB\r",
        "  Downloading boto-2.30.0.tar.gz (7.1MB):  21%  1.5MB\r",
        "  Downloading boto-2.30.0.tar.gz (7.1MB):  21%  1.6MB\r",
        "  Downloading boto-2.30.0.tar.gz (7.1MB):  21%  1.6MB"
       ]
      },
      {
       "output_type": "stream",
       "stream": "stdout",
       "text": [
        "\r",
        "  Downloading boto-2.30.0.tar.gz (7.1MB):  22%  1.6MB\r",
        "  Downloading boto-2.30.0.tar.gz (7.1MB):  22%  1.6MB\r",
        "  Downloading boto-2.30.0.tar.gz (7.1MB):  22%  1.6MB\r",
        "  Downloading boto-2.30.0.tar.gz (7.1MB):  22%  1.6MB\r",
        "  Downloading boto-2.30.0.tar.gz (7.1MB):  22%  1.6MB\r",
        "  Downloading boto-2.30.0.tar.gz (7.1MB):  22%  1.6MB\r",
        "  Downloading boto-2.30.0.tar.gz (7.1MB):  22%  1.6MB\r",
        "  Downloading boto-2.30.0.tar.gz (7.1MB):  22%  1.6MB\r",
        "  Downloading boto-2.30.0.tar.gz (7.1MB):  22%  1.6MB\r",
        "  Downloading boto-2.30.0.tar.gz (7.1MB):  22%  1.6MB\r",
        "  Downloading boto-2.30.0.tar.gz (7.1MB):  22%  1.6MB\r",
        "  Downloading boto-2.30.0.tar.gz (7.1MB):  22%  1.6MB\r",
        "  Downloading boto-2.30.0.tar.gz (7.1MB):  22%  1.6MB\r",
        "  Downloading boto-2.30.0.tar.gz (7.1MB):  22%  1.6MB\r",
        "  Downloading boto-2.30.0.tar.gz (7.1MB):  22%  1.6MB\r",
        "  Downloading boto-2.30.0.tar.gz (7.1MB):  22%  1.6MB\r",
        "  Downloading boto-2.30.0.tar.gz (7.1MB):  22%  1.6MB\r",
        "  Downloading boto-2.30.0.tar.gz (7.1MB):  23%  1.6MB\r",
        "  Downloading boto-2.30.0.tar.gz (7.1MB):  23%  1.6MB\r",
        "  Downloading boto-2.30.0.tar.gz (7.1MB):  23%  1.6MB\r",
        "  Downloading boto-2.30.0.tar.gz (7.1MB):  23%  1.6MB\r",
        "  Downloading boto-2.30.0.tar.gz (7.1MB):  23%  1.6MB\r",
        "  Downloading boto-2.30.0.tar.gz (7.1MB):  23%  1.7MB\r",
        "  Downloading boto-2.30.0.tar.gz (7.1MB):  23%  1.7MB\r",
        "  Downloading boto-2.30.0.tar.gz (7.1MB):  23%  1.7MB\r",
        "  Downloading boto-2.30.0.tar.gz (7.1MB):  23%  1.7MB\r",
        "  Downloading boto-2.30.0.tar.gz (7.1MB):  23%  1.7MB\r",
        "  Downloading boto-2.30.0.tar.gz (7.1MB):  23%  1.7MB\r",
        "  Downloading boto-2.30.0.tar.gz (7.1MB):  23%  1.7MB\r",
        "  Downloading boto-2.30.0.tar.gz (7.1MB):  23%  1.7MB\r",
        "  Downloading boto-2.30.0.tar.gz (7.1MB):  23%  1.7MB\r",
        "  Downloading boto-2.30.0.tar.gz (7.1MB):  23%  1.7MB\r",
        "  Downloading boto-2.30.0.tar.gz (7.1MB):  23%  1.7MB\r",
        "  Downloading boto-2.30.0.tar.gz (7.1MB):  23%  1.7MB\r",
        "  Downloading boto-2.30.0.tar.gz (7.1MB):  24%  1.7MB\r",
        "  Downloading boto-2.30.0.tar.gz (7.1MB):  24%  1.7MB\r",
        "  Downloading boto-2.30.0.tar.gz (7.1MB):  24%  1.7MB\r",
        "  Downloading boto-2.30.0.tar.gz (7.1MB):  24%  1.7MB\r",
        "  Downloading boto-2.30.0.tar.gz (7.1MB):  24%  1.7MB\r",
        "  Downloading boto-2.30.0.tar.gz (7.1MB):  24%  1.7MB\r",
        "  Downloading boto-2.30.0.tar.gz (7.1MB):  24%  1.7MB\r",
        "  Downloading boto-2.30.0.tar.gz (7.1MB):  24%  1.7MB\r",
        "  Downloading boto-2.30.0.tar.gz (7.1MB):  24%  1.7MB\r",
        "  Downloading boto-2.30.0.tar.gz (7.1MB):  24%  1.7MB\r",
        "  Downloading boto-2.30.0.tar.gz (7.1MB):  24%  1.7MB\r",
        "  Downloading boto-2.30.0.tar.gz (7.1MB):  24%  1.7MB\r",
        "  Downloading boto-2.30.0.tar.gz (7.1MB):  24%  1.7MB\r",
        "  Downloading boto-2.30.0.tar.gz (7.1MB):  24%  1.8MB\r",
        "  Downloading boto-2.30.0.tar.gz (7.1MB):  24%  1.8MB\r",
        "  Downloading boto-2.30.0.tar.gz (7.1MB):  24%  1.8MB\r",
        "  Downloading boto-2.30.0.tar.gz (7.1MB):  24%  1.8MB\r",
        "  Downloading boto-2.30.0.tar.gz (7.1MB):  25%  1.8MB\r",
        "  Downloading boto-2.30.0.tar.gz (7.1MB):  25%  1.8MB\r",
        "  Downloading boto-2.30.0.tar.gz (7.1MB):  25%  1.8MB\r",
        "  Downloading boto-2.30.0.tar.gz (7.1MB):  25%  1.8MB\r",
        "  Downloading boto-2.30.0.tar.gz (7.1MB):  25%  1.8MB\r",
        "  Downloading boto-2.30.0.tar.gz (7.1MB):  25%  1.8MB\r",
        "  Downloading boto-2.30.0.tar.gz (7.1MB):  25%  1.8MB\r",
        "  Downloading boto-2.30.0.tar.gz (7.1MB):  25%  1.8MB\r",
        "  Downloading boto-2.30.0.tar.gz (7.1MB):  25%  1.8MB"
       ]
      },
      {
       "output_type": "stream",
       "stream": "stdout",
       "text": [
        "\r",
        "  Downloading boto-2.30.0.tar.gz (7.1MB):  25%  1.8MB\r",
        "  Downloading boto-2.30.0.tar.gz (7.1MB):  25%  1.8MB\r",
        "  Downloading boto-2.30.0.tar.gz (7.1MB):  25%  1.8MB\r",
        "  Downloading boto-2.30.0.tar.gz (7.1MB):  25%  1.8MB\r",
        "  Downloading boto-2.30.0.tar.gz (7.1MB):  25%  1.8MB\r",
        "  Downloading boto-2.30.0.tar.gz (7.1MB):  25%  1.8MB\r",
        "  Downloading boto-2.30.0.tar.gz (7.1MB):  25%  1.8MB\r",
        "  Downloading boto-2.30.0.tar.gz (7.1MB):  25%  1.8MB\r",
        "  Downloading boto-2.30.0.tar.gz (7.1MB):  25%  1.8MB\r",
        "  Downloading boto-2.30.0.tar.gz (7.1MB):  26%  1.8MB\r",
        "  Downloading boto-2.30.0.tar.gz (7.1MB):  26%  1.8MB\r",
        "  Downloading boto-2.30.0.tar.gz (7.1MB):  26%  1.9MB\r",
        "  Downloading boto-2.30.0.tar.gz (7.1MB):  26%  1.9MB\r",
        "  Downloading boto-2.30.0.tar.gz (7.1MB):  26%  1.9MB\r",
        "  Downloading boto-2.30.0.tar.gz (7.1MB):  26%  1.9MB\r",
        "  Downloading boto-2.30.0.tar.gz (7.1MB):  26%  1.9MB\r",
        "  Downloading boto-2.30.0.tar.gz (7.1MB):  26%  1.9MB\r",
        "  Downloading boto-2.30.0.tar.gz (7.1MB):  26%  1.9MB\r",
        "  Downloading boto-2.30.0.tar.gz (7.1MB):  26%  1.9MB\r",
        "  Downloading boto-2.30.0.tar.gz (7.1MB):  26%  1.9MB\r",
        "  Downloading boto-2.30.0.tar.gz (7.1MB):  26%  1.9MB\r",
        "  Downloading boto-2.30.0.tar.gz (7.1MB):  26%  1.9MB\r",
        "  Downloading boto-2.30.0.tar.gz (7.1MB):  26%  1.9MB\r",
        "  Downloading boto-2.30.0.tar.gz (7.1MB):  26%  1.9MB\r",
        "  Downloading boto-2.30.0.tar.gz (7.1MB):  26%  1.9MB\r",
        "  Downloading boto-2.30.0.tar.gz (7.1MB):  26%  1.9MB\r",
        "  Downloading boto-2.30.0.tar.gz (7.1MB):  27%  1.9MB\r",
        "  Downloading boto-2.30.0.tar.gz (7.1MB):  27%  1.9MB\r",
        "  Downloading boto-2.30.0.tar.gz (7.1MB):  27%  1.9MB\r",
        "  Downloading boto-2.30.0.tar.gz (7.1MB):  27%  1.9MB\r",
        "  Downloading boto-2.30.0.tar.gz (7.1MB):  27%  1.9MB\r",
        "  Downloading boto-2.30.0.tar.gz (7.1MB):  27%  1.9MB\r",
        "  Downloading boto-2.30.0.tar.gz (7.1MB):  27%  1.9MB\r",
        "  Downloading boto-2.30.0.tar.gz (7.1MB):  27%  1.9MB\r",
        "  Downloading boto-2.30.0.tar.gz (7.1MB):  27%  1.9MB\r",
        "  Downloading boto-2.30.0.tar.gz (7.1MB):  27%  1.9MB\r",
        "  Downloading boto-2.30.0.tar.gz (7.1MB):  27%  2.0MB\r",
        "  Downloading boto-2.30.0.tar.gz (7.1MB):  27%  2.0MB\r",
        "  Downloading boto-2.30.0.tar.gz (7.1MB):  27%  2.0MB\r",
        "  Downloading boto-2.30.0.tar.gz (7.1MB):  27%  2.0MB\r",
        "  Downloading boto-2.30.0.tar.gz (7.1MB):  27%  2.0MB\r",
        "  Downloading boto-2.30.0.tar.gz (7.1MB):  27%  2.0MB\r",
        "  Downloading boto-2.30.0.tar.gz (7.1MB):  27%  2.0MB\r",
        "  Downloading boto-2.30.0.tar.gz (7.1MB):  28%  2.0MB\r",
        "  Downloading boto-2.30.0.tar.gz (7.1MB):  28%  2.0MB\r",
        "  Downloading boto-2.30.0.tar.gz (7.1MB):  28%  2.0MB\r",
        "  Downloading boto-2.30.0.tar.gz (7.1MB):  28%  2.0MB\r",
        "  Downloading boto-2.30.0.tar.gz (7.1MB):  28%  2.0MB\r",
        "  Downloading boto-2.30.0.tar.gz (7.1MB):  28%  2.0MB\r",
        "  Downloading boto-2.30.0.tar.gz (7.1MB):  28%  2.0MB\r",
        "  Downloading boto-2.30.0.tar.gz (7.1MB):  28%  2.0MB\r",
        "  Downloading boto-2.30.0.tar.gz (7.1MB):  28%  2.0MB\r",
        "  Downloading boto-2.30.0.tar.gz (7.1MB):  28%  2.0MB\r",
        "  Downloading boto-2.30.0.tar.gz (7.1MB):  28%  2.0MB\r",
        "  Downloading boto-2.30.0.tar.gz (7.1MB):  28%  2.0MB\r",
        "  Downloading boto-2.30.0.tar.gz (7.1MB):  28%  2.0MB\r",
        "  Downloading boto-2.30.0.tar.gz (7.1MB):  28%  2.0MB\r",
        "  Downloading boto-2.30.0.tar.gz (7.1MB):  28%  2.0MB\r",
        "  Downloading boto-2.30.0.tar.gz (7.1MB):  28%  2.0MB\r",
        "  Downloading boto-2.30.0.tar.gz (7.1MB):  28%  2.0MB\r",
        "  Downloading boto-2.30.0.tar.gz (7.1MB):  29%  2.1MB\r",
        "  Downloading boto-2.30.0.tar.gz (7.1MB):  29%  2.1MB"
       ]
      },
      {
       "output_type": "stream",
       "stream": "stdout",
       "text": [
        "\r",
        "  Downloading boto-2.30.0.tar.gz (7.1MB):  29%  2.1MB\r",
        "  Downloading boto-2.30.0.tar.gz (7.1MB):  29%  2.1MB\r",
        "  Downloading boto-2.30.0.tar.gz (7.1MB):  29%  2.1MB\r",
        "  Downloading boto-2.30.0.tar.gz (7.1MB):  29%  2.1MB\r",
        "  Downloading boto-2.30.0.tar.gz (7.1MB):  29%  2.1MB\r",
        "  Downloading boto-2.30.0.tar.gz (7.1MB):  29%  2.1MB\r",
        "  Downloading boto-2.30.0.tar.gz (7.1MB):  29%  2.1MB\r",
        "  Downloading boto-2.30.0.tar.gz (7.1MB):  29%  2.1MB\r",
        "  Downloading boto-2.30.0.tar.gz (7.1MB):  29%  2.1MB\r",
        "  Downloading boto-2.30.0.tar.gz (7.1MB):  29%  2.1MB\r",
        "  Downloading boto-2.30.0.tar.gz (7.1MB):  29%  2.1MB\r",
        "  Downloading boto-2.30.0.tar.gz (7.1MB):  29%  2.1MB\r",
        "  Downloading boto-2.30.0.tar.gz (7.1MB):  29%  2.1MB\r",
        "  Downloading boto-2.30.0.tar.gz (7.1MB):  29%  2.1MB\r",
        "  Downloading boto-2.30.0.tar.gz (7.1MB):  29%  2.1MB\r",
        "  Downloading boto-2.30.0.tar.gz (7.1MB):  29%  2.1MB\r",
        "  Downloading boto-2.30.0.tar.gz (7.1MB):  30%  2.1MB\r",
        "  Downloading boto-2.30.0.tar.gz (7.1MB):  30%  2.1MB\r",
        "  Downloading boto-2.30.0.tar.gz (7.1MB):  30%  2.1MB\r",
        "  Downloading boto-2.30.0.tar.gz (7.1MB):  30%  2.1MB\r",
        "  Downloading boto-2.30.0.tar.gz (7.1MB):  30%  2.1MB\r",
        "  Downloading boto-2.30.0.tar.gz (7.1MB):  30%  2.1MB\r",
        "  Downloading boto-2.30.0.tar.gz (7.1MB):  30%  2.2MB\r",
        "  Downloading boto-2.30.0.tar.gz (7.1MB):  30%  2.2MB\r",
        "  Downloading boto-2.30.0.tar.gz (7.1MB):  30%  2.2MB\r",
        "  Downloading boto-2.30.0.tar.gz (7.1MB):  30%  2.2MB\r",
        "  Downloading boto-2.30.0.tar.gz (7.1MB):  30%  2.2MB\r",
        "  Downloading boto-2.30.0.tar.gz (7.1MB):  30%  2.2MB\r",
        "  Downloading boto-2.30.0.tar.gz (7.1MB):  30%  2.2MB\r",
        "  Downloading boto-2.30.0.tar.gz (7.1MB):  30%  2.2MB\r",
        "  Downloading boto-2.30.0.tar.gz (7.1MB):  30%  2.2MB\r",
        "  Downloading boto-2.30.0.tar.gz (7.1MB):  30%  2.2MB\r",
        "  Downloading boto-2.30.0.tar.gz (7.1MB):  30%  2.2MB\r",
        "  Downloading boto-2.30.0.tar.gz (7.1MB):  31%  2.2MB\r",
        "  Downloading boto-2.30.0.tar.gz (7.1MB):  31%  2.2MB\r",
        "  Downloading boto-2.30.0.tar.gz (7.1MB):  31%  2.2MB\r",
        "  Downloading boto-2.30.0.tar.gz (7.1MB):  31%  2.2MB\r",
        "  Downloading boto-2.30.0.tar.gz (7.1MB):  31%  2.2MB\r",
        "  Downloading boto-2.30.0.tar.gz (7.1MB):  31%  2.2MB\r",
        "  Downloading boto-2.30.0.tar.gz (7.1MB):  31%  2.2MB"
       ]
      },
      {
       "output_type": "stream",
       "stream": "stdout",
       "text": [
        "\r",
        "  Downloading boto-2.30.0.tar.gz (7.1MB):  31%  2.2MB\r",
        "  Downloading boto-2.30.0.tar.gz (7.1MB):  31%  2.2MB\r",
        "  Downloading boto-2.30.0.tar.gz (7.1MB):  31%  2.2MB\r",
        "  Downloading boto-2.30.0.tar.gz (7.1MB):  31%  2.2MB\r",
        "  Downloading boto-2.30.0.tar.gz (7.1MB):  31%  2.2MB\r",
        "  Downloading boto-2.30.0.tar.gz (7.1MB):  31%  2.2MB\r",
        "  Downloading boto-2.30.0.tar.gz (7.1MB):  31%  2.2MB\r",
        "  Downloading boto-2.30.0.tar.gz (7.1MB):  31%  2.3MB\r",
        "  Downloading boto-2.30.0.tar.gz (7.1MB):  31%  2.3MB\r",
        "  Downloading boto-2.30.0.tar.gz (7.1MB):  31%  2.3MB\r",
        "  Downloading boto-2.30.0.tar.gz (7.1MB):  32%  2.3MB\r",
        "  Downloading boto-2.30.0.tar.gz (7.1MB):  32%  2.3MB\r",
        "  Downloading boto-2.30.0.tar.gz (7.1MB):  32%  2.3MB\r",
        "  Downloading boto-2.30.0.tar.gz (7.1MB):  32%  2.3MB\r",
        "  Downloading boto-2.30.0.tar.gz (7.1MB):  32%  2.3MB\r",
        "  Downloading boto-2.30.0.tar.gz (7.1MB):  32%  2.3MB\r",
        "  Downloading boto-2.30.0.tar.gz (7.1MB):  32%  2.3MB\r",
        "  Downloading boto-2.30.0.tar.gz (7.1MB):  32%  2.3MB\r",
        "  Downloading boto-2.30.0.tar.gz (7.1MB):  32%  2.3MB\r",
        "  Downloading boto-2.30.0.tar.gz (7.1MB):  32%  2.3MB\r",
        "  Downloading boto-2.30.0.tar.gz (7.1MB):  32%  2.3MB\r",
        "  Downloading boto-2.30.0.tar.gz (7.1MB):  32%  2.3MB\r",
        "  Downloading boto-2.30.0.tar.gz (7.1MB):  32%  2.3MB\r",
        "  Downloading boto-2.30.0.tar.gz (7.1MB):  32%  2.3MB\r",
        "  Downloading boto-2.30.0.tar.gz (7.1MB):  32%  2.3MB\r",
        "  Downloading boto-2.30.0.tar.gz (7.1MB):  32%  2.3MB\r",
        "  Downloading boto-2.30.0.tar.gz (7.1MB):  32%  2.3MB\r",
        "  Downloading boto-2.30.0.tar.gz (7.1MB):  32%  2.3MB\r",
        "  Downloading boto-2.30.0.tar.gz (7.1MB):  33%  2.3MB\r",
        "  Downloading boto-2.30.0.tar.gz (7.1MB):  33%  2.3MB\r",
        "  Downloading boto-2.30.0.tar.gz (7.1MB):  33%  2.3MB\r",
        "  Downloading boto-2.30.0.tar.gz (7.1MB):  33%  2.4MB\r",
        "  Downloading boto-2.30.0.tar.gz (7.1MB):  33%  2.4MB\r",
        "  Downloading boto-2.30.0.tar.gz (7.1MB):  33%  2.4MB\r",
        "  Downloading boto-2.30.0.tar.gz (7.1MB):  33%  2.4MB\r",
        "  Downloading boto-2.30.0.tar.gz (7.1MB):  33%  2.4MB\r",
        "  Downloading boto-2.30.0.tar.gz (7.1MB):  33%  2.4MB\r",
        "  Downloading boto-2.30.0.tar.gz (7.1MB):  33%  2.4MB\r",
        "  Downloading boto-2.30.0.tar.gz (7.1MB):  33%  2.4MB\r",
        "  Downloading boto-2.30.0.tar.gz (7.1MB):  33%  2.4MB\r",
        "  Downloading boto-2.30.0.tar.gz (7.1MB):  33%  2.4MB\r",
        "  Downloading boto-2.30.0.tar.gz (7.1MB):  33%  2.4MB\r",
        "  Downloading boto-2.30.0.tar.gz (7.1MB):  33%  2.4MB\r",
        "  Downloading boto-2.30.0.tar.gz (7.1MB):  33%  2.4MB\r",
        "  Downloading boto-2.30.0.tar.gz (7.1MB):  33%  2.4MB\r",
        "  Downloading boto-2.30.0.tar.gz (7.1MB):  34%  2.4MB"
       ]
      },
      {
       "output_type": "stream",
       "stream": "stdout",
       "text": [
        "\r",
        "  Downloading boto-2.30.0.tar.gz (7.1MB):  34%  2.4MB\r",
        "  Downloading boto-2.30.0.tar.gz (7.1MB):  34%  2.4MB\r",
        "  Downloading boto-2.30.0.tar.gz (7.1MB):  34%  2.4MB\r",
        "  Downloading boto-2.30.0.tar.gz (7.1MB):  34%  2.4MB\r",
        "  Downloading boto-2.30.0.tar.gz (7.1MB):  34%  2.4MB\r",
        "  Downloading boto-2.30.0.tar.gz (7.1MB):  34%  2.4MB\r",
        "  Downloading boto-2.30.0.tar.gz (7.1MB):  34%  2.4MB\r",
        "  Downloading boto-2.30.0.tar.gz (7.1MB):  34%  2.4MB\r",
        "  Downloading boto-2.30.0.tar.gz (7.1MB):  34%  2.4MB\r",
        "  Downloading boto-2.30.0.tar.gz (7.1MB):  34%  2.4MB\r",
        "  Downloading boto-2.30.0.tar.gz (7.1MB):  34%  2.5MB\r",
        "  Downloading boto-2.30.0.tar.gz (7.1MB):  34%  2.5MB\r",
        "  Downloading boto-2.30.0.tar.gz (7.1MB):  34%  2.5MB\r",
        "  Downloading boto-2.30.0.tar.gz (7.1MB):  34%  2.5MB\r",
        "  Downloading boto-2.30.0.tar.gz (7.1MB):  34%  2.5MB\r",
        "  Downloading boto-2.30.0.tar.gz (7.1MB):  34%  2.5MB\r",
        "  Downloading boto-2.30.0.tar.gz (7.1MB):  35%  2.5MB\r",
        "  Downloading boto-2.30.0.tar.gz (7.1MB):  35%  2.5MB\r",
        "  Downloading boto-2.30.0.tar.gz (7.1MB):  35%  2.5MB\r",
        "  Downloading boto-2.30.0.tar.gz (7.1MB):  35%  2.5MB\r",
        "  Downloading boto-2.30.0.tar.gz (7.1MB):  35%  2.5MB\r",
        "  Downloading boto-2.30.0.tar.gz (7.1MB):  35%  2.5MB\r",
        "  Downloading boto-2.30.0.tar.gz (7.1MB):  35%  2.5MB\r",
        "  Downloading boto-2.30.0.tar.gz (7.1MB):  35%  2.5MB\r",
        "  Downloading boto-2.30.0.tar.gz (7.1MB):  35%  2.5MB\r",
        "  Downloading boto-2.30.0.tar.gz (7.1MB):  35%  2.5MB\r",
        "  Downloading boto-2.30.0.tar.gz (7.1MB):  35%  2.5MB\r",
        "  Downloading boto-2.30.0.tar.gz (7.1MB):  35%  2.5MB\r",
        "  Downloading boto-2.30.0.tar.gz (7.1MB):  35%  2.5MB\r",
        "  Downloading boto-2.30.0.tar.gz (7.1MB):  35%  2.5MB\r",
        "  Downloading boto-2.30.0.tar.gz (7.1MB):  35%  2.5MB\r",
        "  Downloading boto-2.30.0.tar.gz (7.1MB):  35%  2.5MB\r",
        "  Downloading boto-2.30.0.tar.gz (7.1MB):  35%  2.5MB\r",
        "  Downloading boto-2.30.0.tar.gz (7.1MB):  36%  2.5MB\r",
        "  Downloading boto-2.30.0.tar.gz (7.1MB):  36%  2.6MB\r",
        "  Downloading boto-2.30.0.tar.gz (7.1MB):  36%  2.6MB\r",
        "  Downloading boto-2.30.0.tar.gz (7.1MB):  36%  2.6MB\r",
        "  Downloading boto-2.30.0.tar.gz (7.1MB):  36%  2.6MB\r",
        "  Downloading boto-2.30.0.tar.gz (7.1MB):  36%  2.6MB\r",
        "  Downloading boto-2.30.0.tar.gz (7.1MB):  36%  2.6MB\r",
        "  Downloading boto-2.30.0.tar.gz (7.1MB):  36%  2.6MB\r",
        "  Downloading boto-2.30.0.tar.gz (7.1MB):  36%  2.6MB\r",
        "  Downloading boto-2.30.0.tar.gz (7.1MB):  36%  2.6MB\r",
        "  Downloading boto-2.30.0.tar.gz (7.1MB):  36%  2.6MB\r",
        "  Downloading boto-2.30.0.tar.gz (7.1MB):  36%  2.6MB\r",
        "  Downloading boto-2.30.0.tar.gz (7.1MB):  36%  2.6MB\r",
        "  Downloading boto-2.30.0.tar.gz (7.1MB):  36%  2.6MB\r",
        "  Downloading boto-2.30.0.tar.gz (7.1MB):  36%  2.6MB\r",
        "  Downloading boto-2.30.0.tar.gz (7.1MB):  36%  2.6MB\r",
        "  Downloading boto-2.30.0.tar.gz (7.1MB):  36%  2.6MB"
       ]
      },
      {
       "output_type": "stream",
       "stream": "stdout",
       "text": [
        "\r",
        "  Downloading boto-2.30.0.tar.gz (7.1MB):  36%  2.6MB\r",
        "  Downloading boto-2.30.0.tar.gz (7.1MB):  37%  2.6MB\r",
        "  Downloading boto-2.30.0.tar.gz (7.1MB):  37%  2.6MB\r",
        "  Downloading boto-2.30.0.tar.gz (7.1MB):  37%  2.6MB\r",
        "  Downloading boto-2.30.0.tar.gz (7.1MB):  37%  2.6MB\r",
        "  Downloading boto-2.30.0.tar.gz (7.1MB):  37%  2.6MB\r",
        "  Downloading boto-2.30.0.tar.gz (7.1MB):  37%  2.6MB\r",
        "  Downloading boto-2.30.0.tar.gz (7.1MB):  37%  2.6MB\r",
        "  Downloading boto-2.30.0.tar.gz (7.1MB):  37%  2.7MB\r",
        "  Downloading boto-2.30.0.tar.gz (7.1MB):  37%  2.7MB\r",
        "  Downloading boto-2.30.0.tar.gz (7.1MB):  37%  2.7MB\r",
        "  Downloading boto-2.30.0.tar.gz (7.1MB):  37%  2.7MB\r",
        "  Downloading boto-2.30.0.tar.gz (7.1MB):  37%  2.7MB\r",
        "  Downloading boto-2.30.0.tar.gz (7.1MB):  37%  2.7MB\r",
        "  Downloading boto-2.30.0.tar.gz (7.1MB):  37%  2.7MB\r",
        "  Downloading boto-2.30.0.tar.gz (7.1MB):  37%  2.7MB\r",
        "  Downloading boto-2.30.0.tar.gz (7.1MB):  37%  2.7MB\r",
        "  Downloading boto-2.30.0.tar.gz (7.1MB):  37%  2.7MB\r",
        "  Downloading boto-2.30.0.tar.gz (7.1MB):  38%  2.7MB\r",
        "  Downloading boto-2.30.0.tar.gz (7.1MB):  38%  2.7MB\r",
        "  Downloading boto-2.30.0.tar.gz (7.1MB):  38%  2.7MB\r",
        "  Downloading boto-2.30.0.tar.gz (7.1MB):  38%  2.7MB\r",
        "  Downloading boto-2.30.0.tar.gz (7.1MB):  38%  2.7MB\r",
        "  Downloading boto-2.30.0.tar.gz (7.1MB):  38%  2.7MB\r",
        "  Downloading boto-2.30.0.tar.gz (7.1MB):  38%  2.7MB\r",
        "  Downloading boto-2.30.0.tar.gz (7.1MB):  38%  2.7MB\r",
        "  Downloading boto-2.30.0.tar.gz (7.1MB):  38%  2.7MB\r",
        "  Downloading boto-2.30.0.tar.gz (7.1MB):  38%  2.7MB\r",
        "  Downloading boto-2.30.0.tar.gz (7.1MB):  38%  2.7MB\r",
        "  Downloading boto-2.30.0.tar.gz (7.1MB):  38%  2.7MB\r",
        "  Downloading boto-2.30.0.tar.gz (7.1MB):  38%  2.7MB\r",
        "  Downloading boto-2.30.0.tar.gz (7.1MB):  38%  2.7MB\r",
        "  Downloading boto-2.30.0.tar.gz (7.1MB):  38%  2.7MB\r",
        "  Downloading boto-2.30.0.tar.gz (7.1MB):  38%  2.8MB\r",
        "  Downloading boto-2.30.0.tar.gz (7.1MB):  38%  2.8MB\r",
        "  Downloading boto-2.30.0.tar.gz (7.1MB):  39%  2.8MB\r",
        "  Downloading boto-2.30.0.tar.gz (7.1MB):  39%  2.8MB\r",
        "  Downloading boto-2.30.0.tar.gz (7.1MB):  39%  2.8MB\r",
        "  Downloading boto-2.30.0.tar.gz (7.1MB):  39%  2.8MB\r",
        "  Downloading boto-2.30.0.tar.gz (7.1MB):  39%  2.8MB\r",
        "  Downloading boto-2.30.0.tar.gz (7.1MB):  39%  2.8MB\r",
        "  Downloading boto-2.30.0.tar.gz (7.1MB):  39%  2.8MB\r",
        "  Downloading boto-2.30.0.tar.gz (7.1MB):  39%  2.8MB\r",
        "  Downloading boto-2.30.0.tar.gz (7.1MB):  39%  2.8MB\r",
        "  Downloading boto-2.30.0.tar.gz (7.1MB):  39%  2.8MB\r",
        "  Downloading boto-2.30.0.tar.gz (7.1MB):  39%  2.8MB\r",
        "  Downloading boto-2.30.0.tar.gz (7.1MB):  39%  2.8MB\r",
        "  Downloading boto-2.30.0.tar.gz (7.1MB):  39%  2.8MB\r",
        "  Downloading boto-2.30.0.tar.gz (7.1MB):  39%  2.8MB\r",
        "  Downloading boto-2.30.0.tar.gz (7.1MB):  39%  2.8MB\r",
        "  Downloading boto-2.30.0.tar.gz (7.1MB):  39%  2.8MB\r",
        "  Downloading boto-2.30.0.tar.gz (7.1MB):  39%  2.8MB\r",
        "  Downloading boto-2.30.0.tar.gz (7.1MB):  40%  2.8MB\r",
        "  Downloading boto-2.30.0.tar.gz (7.1MB):  40%  2.8MB\r",
        "  Downloading boto-2.30.0.tar.gz (7.1MB):  40%  2.8MB\r",
        "  Downloading boto-2.30.0.tar.gz (7.1MB):  40%  2.8MB"
       ]
      },
      {
       "output_type": "stream",
       "stream": "stdout",
       "text": [
        "\r",
        "  Downloading boto-2.30.0.tar.gz (7.1MB):  40%  2.8MB\r",
        "  Downloading boto-2.30.0.tar.gz (7.1MB):  40%  2.9MB\r",
        "  Downloading boto-2.30.0.tar.gz (7.1MB):  40%  2.9MB\r",
        "  Downloading boto-2.30.0.tar.gz (7.1MB):  40%  2.9MB\r",
        "  Downloading boto-2.30.0.tar.gz (7.1MB):  40%  2.9MB\r",
        "  Downloading boto-2.30.0.tar.gz (7.1MB):  40%  2.9MB\r",
        "  Downloading boto-2.30.0.tar.gz (7.1MB):  40%  2.9MB\r",
        "  Downloading boto-2.30.0.tar.gz (7.1MB):  40%  2.9MB\r",
        "  Downloading boto-2.30.0.tar.gz (7.1MB):  40%  2.9MB\r",
        "  Downloading boto-2.30.0.tar.gz (7.1MB):  40%  2.9MB\r",
        "  Downloading boto-2.30.0.tar.gz (7.1MB):  40%  2.9MB\r",
        "  Downloading boto-2.30.0.tar.gz (7.1MB):  40%  2.9MB\r",
        "  Downloading boto-2.30.0.tar.gz (7.1MB):  40%  2.9MB\r",
        "  Downloading boto-2.30.0.tar.gz (7.1MB):  40%  2.9MB\r",
        "  Downloading boto-2.30.0.tar.gz (7.1MB):  41%  2.9MB\r",
        "  Downloading boto-2.30.0.tar.gz (7.1MB):  41%  2.9MB\r",
        "  Downloading boto-2.30.0.tar.gz (7.1MB):  41%  2.9MB\r",
        "  Downloading boto-2.30.0.tar.gz (7.1MB):  41%  2.9MB\r",
        "  Downloading boto-2.30.0.tar.gz (7.1MB):  41%  2.9MB\r",
        "  Downloading boto-2.30.0.tar.gz (7.1MB):  41%  2.9MB\r",
        "  Downloading boto-2.30.0.tar.gz (7.1MB):  41%  2.9MB\r",
        "  Downloading boto-2.30.0.tar.gz (7.1MB):  41%  2.9MB\r",
        "  Downloading boto-2.30.0.tar.gz (7.1MB):  41%  2.9MB\r",
        "  Downloading boto-2.30.0.tar.gz (7.1MB):  41%  2.9MB\r",
        "  Downloading boto-2.30.0.tar.gz (7.1MB):  41%  2.9MB\r",
        "  Downloading boto-2.30.0.tar.gz (7.1MB):  41%  2.9MB\r",
        "  Downloading boto-2.30.0.tar.gz (7.1MB):  41%  3.0MB\r",
        "  Downloading boto-2.30.0.tar.gz (7.1MB):  41%  3.0MB\r",
        "  Downloading boto-2.30.0.tar.gz (7.1MB):  41%  3.0MB\r",
        "  Downloading boto-2.30.0.tar.gz (7.1MB):  41%  3.0MB\r",
        "  Downloading boto-2.30.0.tar.gz (7.1MB):  41%  3.0MB\r",
        "  Downloading boto-2.30.0.tar.gz (7.1MB):  42%  3.0MB\r",
        "  Downloading boto-2.30.0.tar.gz (7.1MB):  42%  3.0MB\r",
        "  Downloading boto-2.30.0.tar.gz (7.1MB):  42%  3.0MB\r",
        "  Downloading boto-2.30.0.tar.gz (7.1MB):  42%  3.0MB\r",
        "  Downloading boto-2.30.0.tar.gz (7.1MB):  42%  3.0MB"
       ]
      },
      {
       "output_type": "stream",
       "stream": "stdout",
       "text": [
        "\r",
        "  Downloading boto-2.30.0.tar.gz (7.1MB):  42%  3.0MB\r",
        "  Downloading boto-2.30.0.tar.gz (7.1MB):  42%  3.0MB\r",
        "  Downloading boto-2.30.0.tar.gz (7.1MB):  42%  3.0MB\r",
        "  Downloading boto-2.30.0.tar.gz (7.1MB):  42%  3.0MB\r",
        "  Downloading boto-2.30.0.tar.gz (7.1MB):  42%  3.0MB\r",
        "  Downloading boto-2.30.0.tar.gz (7.1MB):  42%  3.0MB\r",
        "  Downloading boto-2.30.0.tar.gz (7.1MB):  42%  3.0MB\r",
        "  Downloading boto-2.30.0.tar.gz (7.1MB):  42%  3.0MB\r",
        "  Downloading boto-2.30.0.tar.gz (7.1MB):  42%  3.0MB\r",
        "  Downloading boto-2.30.0.tar.gz (7.1MB):  42%  3.0MB\r",
        "  Downloading boto-2.30.0.tar.gz (7.1MB):  42%  3.0MB\r",
        "  Downloading boto-2.30.0.tar.gz (7.1MB):  42%  3.0MB\r",
        "  Downloading boto-2.30.0.tar.gz (7.1MB):  43%  3.0MB\r",
        "  Downloading boto-2.30.0.tar.gz (7.1MB):  43%  3.0MB\r",
        "  Downloading boto-2.30.0.tar.gz (7.1MB):  43%  3.1MB\r",
        "  Downloading boto-2.30.0.tar.gz (7.1MB):  43%  3.1MB\r",
        "  Downloading boto-2.30.0.tar.gz (7.1MB):  43%  3.1MB\r",
        "  Downloading boto-2.30.0.tar.gz (7.1MB):  43%  3.1MB\r",
        "  Downloading boto-2.30.0.tar.gz (7.1MB):  43%  3.1MB\r",
        "  Downloading boto-2.30.0.tar.gz (7.1MB):  43%  3.1MB\r",
        "  Downloading boto-2.30.0.tar.gz (7.1MB):  43%  3.1MB\r",
        "  Downloading boto-2.30.0.tar.gz (7.1MB):  43%  3.1MB\r",
        "  Downloading boto-2.30.0.tar.gz (7.1MB):  43%  3.1MB\r",
        "  Downloading boto-2.30.0.tar.gz (7.1MB):  43%  3.1MB\r",
        "  Downloading boto-2.30.0.tar.gz (7.1MB):  43%  3.1MB\r",
        "  Downloading boto-2.30.0.tar.gz (7.1MB):  43%  3.1MB\r",
        "  Downloading boto-2.30.0.tar.gz (7.1MB):  43%  3.1MB\r",
        "  Downloading boto-2.30.0.tar.gz (7.1MB):  43%  3.1MB\r",
        "  Downloading boto-2.30.0.tar.gz (7.1MB):  43%  3.1MB"
       ]
      },
      {
       "output_type": "stream",
       "stream": "stdout",
       "text": [
        "\r",
        "  Downloading boto-2.30.0.tar.gz (7.1MB):  43%  3.1MB\r",
        "  Downloading boto-2.30.0.tar.gz (7.1MB):  44%  3.1MB\r",
        "  Downloading boto-2.30.0.tar.gz (7.1MB):  44%  3.1MB\r",
        "  Downloading boto-2.30.0.tar.gz (7.1MB):  44%  3.1MB\r",
        "  Downloading boto-2.30.0.tar.gz (7.1MB):  44%  3.1MB\r",
        "  Downloading boto-2.30.0.tar.gz (7.1MB):  44%  3.1MB\r",
        "  Downloading boto-2.30.0.tar.gz (7.1MB):  44%  3.1MB\r",
        "  Downloading boto-2.30.0.tar.gz (7.1MB):  44%  3.1MB\r",
        "  Downloading boto-2.30.0.tar.gz (7.1MB):  44%  3.1MB\r",
        "  Downloading boto-2.30.0.tar.gz (7.1MB):  44%  3.1MB\r",
        "  Downloading boto-2.30.0.tar.gz (7.1MB):  44%  3.2MB\r",
        "  Downloading boto-2.30.0.tar.gz (7.1MB):  44%  3.2MB\r",
        "  Downloading boto-2.30.0.tar.gz (7.1MB):  44%  3.2MB\r",
        "  Downloading boto-2.30.0.tar.gz (7.1MB):  44%  3.2MB\r",
        "  Downloading boto-2.30.0.tar.gz (7.1MB):  44%  3.2MB\r",
        "  Downloading boto-2.30.0.tar.gz (7.1MB):  44%  3.2MB\r",
        "  Downloading boto-2.30.0.tar.gz (7.1MB):  44%  3.2MB\r",
        "  Downloading boto-2.30.0.tar.gz (7.1MB):  44%  3.2MB\r",
        "  Downloading boto-2.30.0.tar.gz (7.1MB):  45%  3.2MB\r",
        "  Downloading boto-2.30.0.tar.gz (7.1MB):  45%  3.2MB\r",
        "  Downloading boto-2.30.0.tar.gz (7.1MB):  45%  3.2MB\r",
        "  Downloading boto-2.30.0.tar.gz (7.1MB):  45%  3.2MB\r",
        "  Downloading boto-2.30.0.tar.gz (7.1MB):  45%  3.2MB\r",
        "  Downloading boto-2.30.0.tar.gz (7.1MB):  45%  3.2MB\r",
        "  Downloading boto-2.30.0.tar.gz (7.1MB):  45%  3.2MB\r",
        "  Downloading boto-2.30.0.tar.gz (7.1MB):  45%  3.2MB\r",
        "  Downloading boto-2.30.0.tar.gz (7.1MB):  45%  3.2MB\r",
        "  Downloading boto-2.30.0.tar.gz (7.1MB):  45%  3.2MB\r",
        "  Downloading boto-2.30.0.tar.gz (7.1MB):  45%  3.2MB\r",
        "  Downloading boto-2.30.0.tar.gz (7.1MB):  45%  3.2MB\r",
        "  Downloading boto-2.30.0.tar.gz (7.1MB):  45%  3.2MB\r",
        "  Downloading boto-2.30.0.tar.gz (7.1MB):  45%  3.2MB\r",
        "  Downloading boto-2.30.0.tar.gz (7.1MB):  45%  3.2MB\r",
        "  Downloading boto-2.30.0.tar.gz (7.1MB):  45%  3.2MB\r",
        "  Downloading boto-2.30.0.tar.gz (7.1MB):  45%  3.3MB\r",
        "  Downloading boto-2.30.0.tar.gz (7.1MB):  46%  3.3MB\r",
        "  Downloading boto-2.30.0.tar.gz (7.1MB):  46%  3.3MB"
       ]
      },
      {
       "output_type": "stream",
       "stream": "stdout",
       "text": [
        "\r",
        "  Downloading boto-2.30.0.tar.gz (7.1MB):  46%  3.3MB\r",
        "  Downloading boto-2.30.0.tar.gz (7.1MB):  46%  3.3MB"
       ]
      },
      {
       "output_type": "stream",
       "stream": "stdout",
       "text": [
        "\r",
        "  Downloading boto-2.30.0.tar.gz (7.1MB):  46%  3.3MB\r",
        "  Downloading boto-2.30.0.tar.gz (7.1MB):  46%  3.3MB\r",
        "  Downloading boto-2.30.0.tar.gz (7.1MB):  46%  3.3MB\r",
        "  Downloading boto-2.30.0.tar.gz (7.1MB):  46%  3.3MB\r",
        "  Downloading boto-2.30.0.tar.gz (7.1MB):  46%  3.3MB\r",
        "  Downloading boto-2.30.0.tar.gz (7.1MB):  46%  3.3MB\r",
        "  Downloading boto-2.30.0.tar.gz (7.1MB):  46%  3.3MB\r",
        "  Downloading boto-2.30.0.tar.gz (7.1MB):  46%  3.3MB\r",
        "  Downloading boto-2.30.0.tar.gz (7.1MB):  46%  3.3MB\r",
        "  Downloading boto-2.30.0.tar.gz (7.1MB):  46%  3.3MB\r",
        "  Downloading boto-2.30.0.tar.gz (7.1MB):  46%  3.3MB\r",
        "  Downloading boto-2.30.0.tar.gz (7.1MB):  46%  3.3MB\r",
        "  Downloading boto-2.30.0.tar.gz (7.1MB):  46%  3.3MB\r",
        "  Downloading boto-2.30.0.tar.gz (7.1MB):  47%  3.3MB\r",
        "  Downloading boto-2.30.0.tar.gz (7.1MB):  47%  3.3MB\r",
        "  Downloading boto-2.30.0.tar.gz (7.1MB):  47%  3.3MB\r",
        "  Downloading boto-2.30.0.tar.gz (7.1MB):  47%  3.3MB\r",
        "  Downloading boto-2.30.0.tar.gz (7.1MB):  47%  3.3MB\r",
        "  Downloading boto-2.30.0.tar.gz (7.1MB):  47%  3.3MB\r",
        "  Downloading boto-2.30.0.tar.gz (7.1MB):  47%  3.4MB\r",
        "  Downloading boto-2.30.0.tar.gz (7.1MB):  47%  3.4MB\r",
        "  Downloading boto-2.30.0.tar.gz (7.1MB):  47%  3.4MB"
       ]
      },
      {
       "output_type": "stream",
       "stream": "stdout",
       "text": [
        "\r",
        "  Downloading boto-2.30.0.tar.gz (7.1MB):  47%  3.4MB\r",
        "  Downloading boto-2.30.0.tar.gz (7.1MB):  47%  3.4MB\r",
        "  Downloading boto-2.30.0.tar.gz (7.1MB):  47%  3.4MB\r",
        "  Downloading boto-2.30.0.tar.gz (7.1MB):  47%  3.4MB\r",
        "  Downloading boto-2.30.0.tar.gz (7.1MB):  47%  3.4MB\r",
        "  Downloading boto-2.30.0.tar.gz (7.1MB):  47%  3.4MB\r",
        "  Downloading boto-2.30.0.tar.gz (7.1MB):  47%  3.4MB\r",
        "  Downloading boto-2.30.0.tar.gz (7.1MB):  47%  3.4MB\r",
        "  Downloading boto-2.30.0.tar.gz (7.1MB):  47%  3.4MB\r",
        "  Downloading boto-2.30.0.tar.gz (7.1MB):  48%  3.4MB\r",
        "  Downloading boto-2.30.0.tar.gz (7.1MB):  48%  3.4MB"
       ]
      },
      {
       "output_type": "stream",
       "stream": "stdout",
       "text": [
        "\r",
        "  Downloading boto-2.30.0.tar.gz (7.1MB):  48%  3.4MB"
       ]
      },
      {
       "output_type": "stream",
       "stream": "stdout",
       "text": [
        "\r",
        "  Downloading boto-2.30.0.tar.gz (7.1MB):  48%  3.4MB\r",
        "  Downloading boto-2.30.0.tar.gz (7.1MB):  48%  3.4MB\r",
        "  Downloading boto-2.30.0.tar.gz (7.1MB):  48%  3.4MB\r",
        "  Downloading boto-2.30.0.tar.gz (7.1MB):  48%  3.4MB\r",
        "  Downloading boto-2.30.0.tar.gz (7.1MB):  48%  3.4MB\r",
        "  Downloading boto-2.30.0.tar.gz (7.1MB):  48%  3.4MB\r",
        "  Downloading boto-2.30.0.tar.gz (7.1MB):  48%  3.4MB\r",
        "  Downloading boto-2.30.0.tar.gz (7.1MB):  48%  3.4MB"
       ]
      },
      {
       "output_type": "stream",
       "stream": "stdout",
       "text": [
        "\r",
        "  Downloading boto-2.30.0.tar.gz (7.1MB):  48%  3.4MB\r",
        "  Downloading boto-2.30.0.tar.gz (7.1MB):  48%  3.4MB\r",
        "  Downloading boto-2.30.0.tar.gz (7.1MB):  48%  3.5MB\r",
        "  Downloading boto-2.30.0.tar.gz (7.1MB):  48%  3.5MB\r",
        "  Downloading boto-2.30.0.tar.gz (7.1MB):  48%  3.5MB\r",
        "  Downloading boto-2.30.0.tar.gz (7.1MB):  48%  3.5MB\r",
        "  Downloading boto-2.30.0.tar.gz (7.1MB):  49%  3.5MB\r",
        "  Downloading boto-2.30.0.tar.gz (7.1MB):  49%  3.5MB\r",
        "  Downloading boto-2.30.0.tar.gz (7.1MB):  49%  3.5MB\r",
        "  Downloading boto-2.30.0.tar.gz (7.1MB):  49%  3.5MB\r",
        "  Downloading boto-2.30.0.tar.gz (7.1MB):  49%  3.5MB\r",
        "  Downloading boto-2.30.0.tar.gz (7.1MB):  49%  3.5MB\r",
        "  Downloading boto-2.30.0.tar.gz (7.1MB):  49%  3.5MB\r",
        "  Downloading boto-2.30.0.tar.gz (7.1MB):  49%  3.5MB"
       ]
      },
      {
       "output_type": "stream",
       "stream": "stdout",
       "text": [
        "\r",
        "  Downloading boto-2.30.0.tar.gz (7.1MB):  49%  3.5MB\r",
        "  Downloading boto-2.30.0.tar.gz (7.1MB):  49%  3.5MB\r",
        "  Downloading boto-2.30.0.tar.gz (7.1MB):  49%  3.5MB\r",
        "  Downloading boto-2.30.0.tar.gz (7.1MB):  49%  3.5MB\r",
        "  Downloading boto-2.30.0.tar.gz (7.1MB):  49%  3.5MB\r",
        "  Downloading boto-2.30.0.tar.gz (7.1MB):  49%  3.5MB\r",
        "  Downloading boto-2.30.0.tar.gz (7.1MB):  49%  3.5MB\r",
        "  Downloading boto-2.30.0.tar.gz (7.1MB):  49%  3.5MB\r",
        "  Downloading boto-2.30.0.tar.gz (7.1MB):  49%  3.5MB\r",
        "  Downloading boto-2.30.0.tar.gz (7.1MB):  50%  3.5MB\r",
        "  Downloading boto-2.30.0.tar.gz (7.1MB):  50%  3.5MB\r",
        "  Downloading boto-2.30.0.tar.gz (7.1MB):  50%  3.5MB\r",
        "  Downloading boto-2.30.0.tar.gz (7.1MB):  50%  3.6MB\r",
        "  Downloading boto-2.30.0.tar.gz (7.1MB):  50%  3.6MB\r",
        "  Downloading boto-2.30.0.tar.gz (7.1MB):  50%  3.6MB\r",
        "  Downloading boto-2.30.0.tar.gz (7.1MB):  50%  3.6MB\r",
        "  Downloading boto-2.30.0.tar.gz (7.1MB):  50%  3.6MB\r",
        "  Downloading boto-2.30.0.tar.gz (7.1MB):  50%  3.6MB\r",
        "  Downloading boto-2.30.0.tar.gz (7.1MB):  50%  3.6MB\r",
        "  Downloading boto-2.30.0.tar.gz (7.1MB):  50%  3.6MB\r",
        "  Downloading boto-2.30.0.tar.gz (7.1MB):  50%  3.6MB\r",
        "  Downloading boto-2.30.0.tar.gz (7.1MB):  50%  3.6MB\r",
        "  Downloading boto-2.30.0.tar.gz (7.1MB):  50%  3.6MB\r",
        "  Downloading boto-2.30.0.tar.gz (7.1MB):  50%  3.6MB\r",
        "  Downloading boto-2.30.0.tar.gz (7.1MB):  50%  3.6MB\r",
        "  Downloading boto-2.30.0.tar.gz (7.1MB):  50%  3.6MB\r",
        "  Downloading boto-2.30.0.tar.gz (7.1MB):  51%  3.6MB\r",
        "  Downloading boto-2.30.0.tar.gz (7.1MB):  51%  3.6MB\r",
        "  Downloading boto-2.30.0.tar.gz (7.1MB):  51%  3.6MB\r",
        "  Downloading boto-2.30.0.tar.gz (7.1MB):  51%  3.6MB\r",
        "  Downloading boto-2.30.0.tar.gz (7.1MB):  51%  3.6MB\r",
        "  Downloading boto-2.30.0.tar.gz (7.1MB):  51%  3.6MB"
       ]
      },
      {
       "output_type": "stream",
       "stream": "stdout",
       "text": [
        "\r",
        "  Downloading boto-2.30.0.tar.gz (7.1MB):  51%  3.6MB\r",
        "  Downloading boto-2.30.0.tar.gz (7.1MB):  51%  3.6MB\r",
        "  Downloading boto-2.30.0.tar.gz (7.1MB):  51%  3.6MB\r",
        "  Downloading boto-2.30.0.tar.gz (7.1MB):  51%  3.6MB\r",
        "  Downloading boto-2.30.0.tar.gz (7.1MB):  51%  3.6MB\r",
        "  Downloading boto-2.30.0.tar.gz (7.1MB):  51%  3.7MB\r",
        "  Downloading boto-2.30.0.tar.gz (7.1MB):  51%  3.7MB\r",
        "  Downloading boto-2.30.0.tar.gz (7.1MB):  51%  3.7MB\r",
        "  Downloading boto-2.30.0.tar.gz (7.1MB):  51%  3.7MB\r",
        "  Downloading boto-2.30.0.tar.gz (7.1MB):  51%  3.7MB\r",
        "  Downloading boto-2.30.0.tar.gz (7.1MB):  51%  3.7MB\r",
        "  Downloading boto-2.30.0.tar.gz (7.1MB):  51%  3.7MB\r",
        "  Downloading boto-2.30.0.tar.gz (7.1MB):  52%  3.7MB\r",
        "  Downloading boto-2.30.0.tar.gz (7.1MB):  52%  3.7MB\r",
        "  Downloading boto-2.30.0.tar.gz (7.1MB):  52%  3.7MB\r",
        "  Downloading boto-2.30.0.tar.gz (7.1MB):  52%  3.7MB\r",
        "  Downloading boto-2.30.0.tar.gz (7.1MB):  52%  3.7MB\r",
        "  Downloading boto-2.30.0.tar.gz (7.1MB):  52%  3.7MB\r",
        "  Downloading boto-2.30.0.tar.gz (7.1MB):  52%  3.7MB\r",
        "  Downloading boto-2.30.0.tar.gz (7.1MB):  52%  3.7MB\r",
        "  Downloading boto-2.30.0.tar.gz (7.1MB):  52%  3.7MB\r",
        "  Downloading boto-2.30.0.tar.gz (7.1MB):  52%  3.7MB\r",
        "  Downloading boto-2.30.0.tar.gz (7.1MB):  52%  3.7MB\r",
        "  Downloading boto-2.30.0.tar.gz (7.1MB):  52%  3.7MB\r",
        "  Downloading boto-2.30.0.tar.gz (7.1MB):  52%  3.7MB\r",
        "  Downloading boto-2.30.0.tar.gz (7.1MB):  52%  3.7MB\r",
        "  Downloading boto-2.30.0.tar.gz (7.1MB):  52%  3.7MB\r",
        "  Downloading boto-2.30.0.tar.gz (7.1MB):  52%  3.7MB\r",
        "  Downloading boto-2.30.0.tar.gz (7.1MB):  52%  3.7MB\r",
        "  Downloading boto-2.30.0.tar.gz (7.1MB):  53%  3.8MB\r",
        "  Downloading boto-2.30.0.tar.gz (7.1MB):  53%  3.8MB\r",
        "  Downloading boto-2.30.0.tar.gz (7.1MB):  53%  3.8MB\r",
        "  Downloading boto-2.30.0.tar.gz (7.1MB):  53%  3.8MB\r",
        "  Downloading boto-2.30.0.tar.gz (7.1MB):  53%  3.8MB\r",
        "  Downloading boto-2.30.0.tar.gz (7.1MB):  53%  3.8MB\r",
        "  Downloading boto-2.30.0.tar.gz (7.1MB):  53%  3.8MB\r",
        "  Downloading boto-2.30.0.tar.gz (7.1MB):  53%  3.8MB\r",
        "  Downloading boto-2.30.0.tar.gz (7.1MB):  53%  3.8MB\r",
        "  Downloading boto-2.30.0.tar.gz (7.1MB):  53%  3.8MB\r",
        "  Downloading boto-2.30.0.tar.gz (7.1MB):  53%  3.8MB\r",
        "  Downloading boto-2.30.0.tar.gz (7.1MB):  53%  3.8MB\r",
        "  Downloading boto-2.30.0.tar.gz (7.1MB):  53%  3.8MB\r",
        "  Downloading boto-2.30.0.tar.gz (7.1MB):  53%  3.8MB\r",
        "  Downloading boto-2.30.0.tar.gz (7.1MB):  53%  3.8MB\r",
        "  Downloading boto-2.30.0.tar.gz (7.1MB):  53%  3.8MB\r",
        "  Downloading boto-2.30.0.tar.gz (7.1MB):  53%  3.8MB\r",
        "  Downloading boto-2.30.0.tar.gz (7.1MB):  54%  3.8MB\r",
        "  Downloading boto-2.30.0.tar.gz (7.1MB):  54%  3.8MB\r",
        "  Downloading boto-2.30.0.tar.gz (7.1MB):  54%  3.8MB\r",
        "  Downloading boto-2.30.0.tar.gz (7.1MB):  54%  3.8MB\r",
        "  Downloading boto-2.30.0.tar.gz (7.1MB):  54%  3.8MB\r",
        "  Downloading boto-2.30.0.tar.gz (7.1MB):  54%  3.8MB\r",
        "  Downloading boto-2.30.0.tar.gz (7.1MB):  54%  3.8MB\r",
        "  Downloading boto-2.30.0.tar.gz (7.1MB):  54%  3.9MB\r",
        "  Downloading boto-2.30.0.tar.gz (7.1MB):  54%  3.9MB\r",
        "  Downloading boto-2.30.0.tar.gz (7.1MB):  54%  3.9MB\r",
        "  Downloading boto-2.30.0.tar.gz (7.1MB):  54%  3.9MB\r",
        "  Downloading boto-2.30.0.tar.gz (7.1MB):  54%  3.9MB"
       ]
      },
      {
       "output_type": "stream",
       "stream": "stdout",
       "text": [
        "\r",
        "  Downloading boto-2.30.0.tar.gz (7.1MB):  54%  3.9MB\r",
        "  Downloading boto-2.30.0.tar.gz (7.1MB):  54%  3.9MB\r",
        "  Downloading boto-2.30.0.tar.gz (7.1MB):  54%  3.9MB\r",
        "  Downloading boto-2.30.0.tar.gz (7.1MB):  54%  3.9MB\r",
        "  Downloading boto-2.30.0.tar.gz (7.1MB):  54%  3.9MB\r",
        "  Downloading boto-2.30.0.tar.gz (7.1MB):  54%  3.9MB\r",
        "  Downloading boto-2.30.0.tar.gz (7.1MB):  55%  3.9MB\r",
        "  Downloading boto-2.30.0.tar.gz (7.1MB):  55%  3.9MB\r",
        "  Downloading boto-2.30.0.tar.gz (7.1MB):  55%  3.9MB\r",
        "  Downloading boto-2.30.0.tar.gz (7.1MB):  55%  3.9MB\r",
        "  Downloading boto-2.30.0.tar.gz (7.1MB):  55%  3.9MB\r",
        "  Downloading boto-2.30.0.tar.gz (7.1MB):  55%  3.9MB\r",
        "  Downloading boto-2.30.0.tar.gz (7.1MB):  55%  3.9MB\r",
        "  Downloading boto-2.30.0.tar.gz (7.1MB):  55%  3.9MB\r",
        "  Downloading boto-2.30.0.tar.gz (7.1MB):  55%  3.9MB\r",
        "  Downloading boto-2.30.0.tar.gz (7.1MB):  55%  3.9MB\r",
        "  Downloading boto-2.30.0.tar.gz (7.1MB):  55%  3.9MB\r",
        "  Downloading boto-2.30.0.tar.gz (7.1MB):  55%  3.9MB\r",
        "  Downloading boto-2.30.0.tar.gz (7.1MB):  55%  3.9MB\r",
        "  Downloading boto-2.30.0.tar.gz (7.1MB):  55%  3.9MB\r",
        "  Downloading boto-2.30.0.tar.gz (7.1MB):  55%  4.0MB\r",
        "  Downloading boto-2.30.0.tar.gz (7.1MB):  55%  4.0MB\r",
        "  Downloading boto-2.30.0.tar.gz (7.1MB):  55%  4.0MB\r",
        "  Downloading boto-2.30.0.tar.gz (7.1MB):  56%  4.0MB\r",
        "  Downloading boto-2.30.0.tar.gz (7.1MB):  56%  4.0MB\r",
        "  Downloading boto-2.30.0.tar.gz (7.1MB):  56%  4.0MB\r",
        "  Downloading boto-2.30.0.tar.gz (7.1MB):  56%  4.0MB\r",
        "  Downloading boto-2.30.0.tar.gz (7.1MB):  56%  4.0MB\r",
        "  Downloading boto-2.30.0.tar.gz (7.1MB):  56%  4.0MB\r",
        "  Downloading boto-2.30.0.tar.gz (7.1MB):  56%  4.0MB\r",
        "  Downloading boto-2.30.0.tar.gz (7.1MB):  56%  4.0MB\r",
        "  Downloading boto-2.30.0.tar.gz (7.1MB):  56%  4.0MB\r",
        "  Downloading boto-2.30.0.tar.gz (7.1MB):  56%  4.0MB\r",
        "  Downloading boto-2.30.0.tar.gz (7.1MB):  56%  4.0MB\r",
        "  Downloading boto-2.30.0.tar.gz (7.1MB):  56%  4.0MB\r",
        "  Downloading boto-2.30.0.tar.gz (7.1MB):  56%  4.0MB\r",
        "  Downloading boto-2.30.0.tar.gz (7.1MB):  56%  4.0MB\r",
        "  Downloading boto-2.30.0.tar.gz (7.1MB):  56%  4.0MB\r",
        "  Downloading boto-2.30.0.tar.gz (7.1MB):  56%  4.0MB\r",
        "  Downloading boto-2.30.0.tar.gz (7.1MB):  56%  4.0MB\r",
        "  Downloading boto-2.30.0.tar.gz (7.1MB):  57%  4.0MB\r",
        "  Downloading boto-2.30.0.tar.gz (7.1MB):  57%  4.0MB\r",
        "  Downloading boto-2.30.0.tar.gz (7.1MB):  57%  4.0MB\r",
        "  Downloading boto-2.30.0.tar.gz (7.1MB):  57%  4.0MB\r",
        "  Downloading boto-2.30.0.tar.gz (7.1MB):  57%  4.1MB\r",
        "  Downloading boto-2.30.0.tar.gz (7.1MB):  57%  4.1MB\r",
        "  Downloading boto-2.30.0.tar.gz (7.1MB):  57%  4.1MB\r",
        "  Downloading boto-2.30.0.tar.gz (7.1MB):  57%  4.1MB\r",
        "  Downloading boto-2.30.0.tar.gz (7.1MB):  57%  4.1MB\r",
        "  Downloading boto-2.30.0.tar.gz (7.1MB):  57%  4.1MB\r",
        "  Downloading boto-2.30.0.tar.gz (7.1MB):  57%  4.1MB\r",
        "  Downloading boto-2.30.0.tar.gz (7.1MB):  57%  4.1MB\r",
        "  Downloading boto-2.30.0.tar.gz (7.1MB):  57%  4.1MB\r",
        "  Downloading boto-2.30.0.tar.gz (7.1MB):  57%  4.1MB\r",
        "  Downloading boto-2.30.0.tar.gz (7.1MB):  57%  4.1MB\r",
        "  Downloading boto-2.30.0.tar.gz (7.1MB):  57%  4.1MB\r",
        "  Downloading boto-2.30.0.tar.gz (7.1MB):  57%  4.1MB\r",
        "  Downloading boto-2.30.0.tar.gz (7.1MB):  58%  4.1MB\r",
        "  Downloading boto-2.30.0.tar.gz (7.1MB):  58%  4.1MB\r",
        "  Downloading boto-2.30.0.tar.gz (7.1MB):  58%  4.1MB\r",
        "  Downloading boto-2.30.0.tar.gz (7.1MB):  58%  4.1MB\r",
        "  Downloading boto-2.30.0.tar.gz (7.1MB):  58%  4.1MB"
       ]
      },
      {
       "output_type": "stream",
       "stream": "stdout",
       "text": [
        "\r",
        "  Downloading boto-2.30.0.tar.gz (7.1MB):  58%  4.1MB\r",
        "  Downloading boto-2.30.0.tar.gz (7.1MB):  58%  4.1MB\r",
        "  Downloading boto-2.30.0.tar.gz (7.1MB):  58%  4.1MB\r",
        "  Downloading boto-2.30.0.tar.gz (7.1MB):  58%  4.1MB\r",
        "  Downloading boto-2.30.0.tar.gz (7.1MB):  58%  4.1MB\r",
        "  Downloading boto-2.30.0.tar.gz (7.1MB):  58%  4.1MB\r",
        "  Downloading boto-2.30.0.tar.gz (7.1MB):  58%  4.1MB\r",
        "  Downloading boto-2.30.0.tar.gz (7.1MB):  58%  4.2MB\r",
        "  Downloading boto-2.30.0.tar.gz (7.1MB):  58%  4.2MB\r",
        "  Downloading boto-2.30.0.tar.gz (7.1MB):  58%  4.2MB\r",
        "  Downloading boto-2.30.0.tar.gz (7.1MB):  58%  4.2MB\r",
        "  Downloading boto-2.30.0.tar.gz (7.1MB):  58%  4.2MB\r",
        "  Downloading boto-2.30.0.tar.gz (7.1MB):  58%  4.2MB\r",
        "  Downloading boto-2.30.0.tar.gz (7.1MB):  59%  4.2MB\r",
        "  Downloading boto-2.30.0.tar.gz (7.1MB):  59%  4.2MB\r",
        "  Downloading boto-2.30.0.tar.gz (7.1MB):  59%  4.2MB\r",
        "  Downloading boto-2.30.0.tar.gz (7.1MB):  59%  4.2MB\r",
        "  Downloading boto-2.30.0.tar.gz (7.1MB):  59%  4.2MB\r",
        "  Downloading boto-2.30.0.tar.gz (7.1MB):  59%  4.2MB\r",
        "  Downloading boto-2.30.0.tar.gz (7.1MB):  59%  4.2MB\r",
        "  Downloading boto-2.30.0.tar.gz (7.1MB):  59%  4.2MB\r",
        "  Downloading boto-2.30.0.tar.gz (7.1MB):  59%  4.2MB\r",
        "  Downloading boto-2.30.0.tar.gz (7.1MB):  59%  4.2MB\r",
        "  Downloading boto-2.30.0.tar.gz (7.1MB):  59%  4.2MB\r",
        "  Downloading boto-2.30.0.tar.gz (7.1MB):  59%  4.2MB\r",
        "  Downloading boto-2.30.0.tar.gz (7.1MB):  59%  4.2MB\r",
        "  Downloading boto-2.30.0.tar.gz (7.1MB):  59%  4.2MB\r",
        "  Downloading boto-2.30.0.tar.gz (7.1MB):  59%  4.2MB\r",
        "  Downloading boto-2.30.0.tar.gz (7.1MB):  59%  4.2MB\r",
        "  Downloading boto-2.30.0.tar.gz (7.1MB):  59%  4.2MB\r",
        "  Downloading boto-2.30.0.tar.gz (7.1MB):  60%  4.2MB\r",
        "  Downloading boto-2.30.0.tar.gz (7.1MB):  60%  4.3MB\r",
        "  Downloading boto-2.30.0.tar.gz (7.1MB):  60%  4.3MB\r",
        "  Downloading boto-2.30.0.tar.gz (7.1MB):  60%  4.3MB\r",
        "  Downloading boto-2.30.0.tar.gz (7.1MB):  60%  4.3MB\r",
        "  Downloading boto-2.30.0.tar.gz (7.1MB):  60%  4.3MB\r",
        "  Downloading boto-2.30.0.tar.gz (7.1MB):  60%  4.3MB\r",
        "  Downloading boto-2.30.0.tar.gz (7.1MB):  60%  4.3MB\r",
        "  Downloading boto-2.30.0.tar.gz (7.1MB):  60%  4.3MB\r",
        "  Downloading boto-2.30.0.tar.gz (7.1MB):  60%  4.3MB\r",
        "  Downloading boto-2.30.0.tar.gz (7.1MB):  60%  4.3MB\r",
        "  Downloading boto-2.30.0.tar.gz (7.1MB):  60%  4.3MB\r",
        "  Downloading boto-2.30.0.tar.gz (7.1MB):  60%  4.3MB\r",
        "  Downloading boto-2.30.0.tar.gz (7.1MB):  60%  4.3MB\r",
        "  Downloading boto-2.30.0.tar.gz (7.1MB):  60%  4.3MB\r",
        "  Downloading boto-2.30.0.tar.gz (7.1MB):  60%  4.3MB\r",
        "  Downloading boto-2.30.0.tar.gz (7.1MB):  60%  4.3MB\r",
        "  Downloading boto-2.30.0.tar.gz (7.1MB):  61%  4.3MB\r",
        "  Downloading boto-2.30.0.tar.gz (7.1MB):  61%  4.3MB\r",
        "  Downloading boto-2.30.0.tar.gz (7.1MB):  61%  4.3MB\r",
        "  Downloading boto-2.30.0.tar.gz (7.1MB):  61%  4.3MB\r",
        "  Downloading boto-2.30.0.tar.gz (7.1MB):  61%  4.3MB\r",
        "  Downloading boto-2.30.0.tar.gz (7.1MB):  61%  4.3MB\r",
        "  Downloading boto-2.30.0.tar.gz (7.1MB):  61%  4.3MB\r",
        "  Downloading boto-2.30.0.tar.gz (7.1MB):  61%  4.3MB\r",
        "  Downloading boto-2.30.0.tar.gz (7.1MB):  61%  4.3MB\r",
        "  Downloading boto-2.30.0.tar.gz (7.1MB):  61%  4.4MB\r",
        "  Downloading boto-2.30.0.tar.gz (7.1MB):  61%  4.4MB\r",
        "  Downloading boto-2.30.0.tar.gz (7.1MB):  61%  4.4MB\r",
        "  Downloading boto-2.30.0.tar.gz (7.1MB):  61%  4.4MB\r",
        "  Downloading boto-2.30.0.tar.gz (7.1MB):  61%  4.4MB\r",
        "  Downloading boto-2.30.0.tar.gz (7.1MB):  61%  4.4MB"
       ]
      },
      {
       "output_type": "stream",
       "stream": "stdout",
       "text": [
        "\r",
        "  Downloading boto-2.30.0.tar.gz (7.1MB):  61%  4.4MB\r",
        "  Downloading boto-2.30.0.tar.gz (7.1MB):  61%  4.4MB\r",
        "  Downloading boto-2.30.0.tar.gz (7.1MB):  62%  4.4MB\r",
        "  Downloading boto-2.30.0.tar.gz (7.1MB):  62%  4.4MB\r",
        "  Downloading boto-2.30.0.tar.gz (7.1MB):  62%  4.4MB\r",
        "  Downloading boto-2.30.0.tar.gz (7.1MB):  62%  4.4MB\r",
        "  Downloading boto-2.30.0.tar.gz (7.1MB):  62%  4.4MB\r",
        "  Downloading boto-2.30.0.tar.gz (7.1MB):  62%  4.4MB\r",
        "  Downloading boto-2.30.0.tar.gz (7.1MB):  62%  4.4MB\r",
        "  Downloading boto-2.30.0.tar.gz (7.1MB):  62%  4.4MB\r",
        "  Downloading boto-2.30.0.tar.gz (7.1MB):  62%  4.4MB\r",
        "  Downloading boto-2.30.0.tar.gz (7.1MB):  62%  4.4MB\r",
        "  Downloading boto-2.30.0.tar.gz (7.1MB):  62%  4.4MB\r",
        "  Downloading boto-2.30.0.tar.gz (7.1MB):  62%  4.4MB\r",
        "  Downloading boto-2.30.0.tar.gz (7.1MB):  62%  4.4MB\r",
        "  Downloading boto-2.30.0.tar.gz (7.1MB):  62%  4.4MB\r",
        "  Downloading boto-2.30.0.tar.gz (7.1MB):  62%  4.4MB\r",
        "  Downloading boto-2.30.0.tar.gz (7.1MB):  62%  4.4MB\r",
        "  Downloading boto-2.30.0.tar.gz (7.1MB):  62%  4.5MB\r",
        "  Downloading boto-2.30.0.tar.gz (7.1MB):  62%  4.5MB\r",
        "  Downloading boto-2.30.0.tar.gz (7.1MB):  63%  4.5MB\r",
        "  Downloading boto-2.30.0.tar.gz (7.1MB):  63%  4.5MB\r",
        "  Downloading boto-2.30.0.tar.gz (7.1MB):  63%  4.5MB\r",
        "  Downloading boto-2.30.0.tar.gz (7.1MB):  63%  4.5MB\r",
        "  Downloading boto-2.30.0.tar.gz (7.1MB):  63%  4.5MB\r",
        "  Downloading boto-2.30.0.tar.gz (7.1MB):  63%  4.5MB\r",
        "  Downloading boto-2.30.0.tar.gz (7.1MB):  63%  4.5MB\r",
        "  Downloading boto-2.30.0.tar.gz (7.1MB):  63%  4.5MB\r",
        "  Downloading boto-2.30.0.tar.gz (7.1MB):  63%  4.5MB\r",
        "  Downloading boto-2.30.0.tar.gz (7.1MB):  63%  4.5MB\r",
        "  Downloading boto-2.30.0.tar.gz (7.1MB):  63%  4.5MB\r",
        "  Downloading boto-2.30.0.tar.gz (7.1MB):  63%  4.5MB\r",
        "  Downloading boto-2.30.0.tar.gz (7.1MB):  63%  4.5MB\r",
        "  Downloading boto-2.30.0.tar.gz (7.1MB):  63%  4.5MB\r",
        "  Downloading boto-2.30.0.tar.gz (7.1MB):  63%  4.5MB\r",
        "  Downloading boto-2.30.0.tar.gz (7.1MB):  63%  4.5MB\r",
        "  Downloading boto-2.30.0.tar.gz (7.1MB):  63%  4.5MB\r",
        "  Downloading boto-2.30.0.tar.gz (7.1MB):  64%  4.5MB\r",
        "  Downloading boto-2.30.0.tar.gz (7.1MB):  64%  4.5MB\r",
        "  Downloading boto-2.30.0.tar.gz (7.1MB):  64%  4.5MB\r",
        "  Downloading boto-2.30.0.tar.gz (7.1MB):  64%  4.5MB\r",
        "  Downloading boto-2.30.0.tar.gz (7.1MB):  64%  4.5MB\r",
        "  Downloading boto-2.30.0.tar.gz (7.1MB):  64%  4.6MB\r",
        "  Downloading boto-2.30.0.tar.gz (7.1MB):  64%  4.6MB\r",
        "  Downloading boto-2.30.0.tar.gz (7.1MB):  64%  4.6MB\r",
        "  Downloading boto-2.30.0.tar.gz (7.1MB):  64%  4.6MB\r",
        "  Downloading boto-2.30.0.tar.gz (7.1MB):  64%  4.6MB\r",
        "  Downloading boto-2.30.0.tar.gz (7.1MB):  64%  4.6MB\r",
        "  Downloading boto-2.30.0.tar.gz (7.1MB):  64%  4.6MB\r",
        "  Downloading boto-2.30.0.tar.gz (7.1MB):  64%  4.6MB\r",
        "  Downloading boto-2.30.0.tar.gz (7.1MB):  64%  4.6MB\r",
        "  Downloading boto-2.30.0.tar.gz (7.1MB):  64%  4.6MB\r",
        "  Downloading boto-2.30.0.tar.gz (7.1MB):  64%  4.6MB\r",
        "  Downloading boto-2.30.0.tar.gz (7.1MB):  64%  4.6MB\r",
        "  Downloading boto-2.30.0.tar.gz (7.1MB):  65%  4.6MB\r",
        "  Downloading boto-2.30.0.tar.gz (7.1MB):  65%  4.6MB\r",
        "  Downloading boto-2.30.0.tar.gz (7.1MB):  65%  4.6MB\r",
        "  Downloading boto-2.30.0.tar.gz (7.1MB):  65%  4.6MB"
       ]
      },
      {
       "output_type": "stream",
       "stream": "stdout",
       "text": [
        "\r",
        "  Downloading boto-2.30.0.tar.gz (7.1MB):  65%  4.6MB\r",
        "  Downloading boto-2.30.0.tar.gz (7.1MB):  65%  4.6MB\r",
        "  Downloading boto-2.30.0.tar.gz (7.1MB):  65%  4.6MB\r",
        "  Downloading boto-2.30.0.tar.gz (7.1MB):  65%  4.6MB\r",
        "  Downloading boto-2.30.0.tar.gz (7.1MB):  65%  4.6MB\r",
        "  Downloading boto-2.30.0.tar.gz (7.1MB):  65%  4.6MB\r",
        "  Downloading boto-2.30.0.tar.gz (7.1MB):  65%  4.6MB\r",
        "  Downloading boto-2.30.0.tar.gz (7.1MB):  65%  4.6MB\r",
        "  Downloading boto-2.30.0.tar.gz (7.1MB):  65%  4.6MB\r",
        "  Downloading boto-2.30.0.tar.gz (7.1MB):  65%  4.7MB\r",
        "  Downloading boto-2.30.0.tar.gz (7.1MB):  65%  4.7MB\r",
        "  Downloading boto-2.30.0.tar.gz (7.1MB):  65%  4.7MB\r",
        "  Downloading boto-2.30.0.tar.gz (7.1MB):  65%  4.7MB\r",
        "  Downloading boto-2.30.0.tar.gz (7.1MB):  65%  4.7MB\r",
        "  Downloading boto-2.30.0.tar.gz (7.1MB):  66%  4.7MB\r",
        "  Downloading boto-2.30.0.tar.gz (7.1MB):  66%  4.7MB\r",
        "  Downloading boto-2.30.0.tar.gz (7.1MB):  66%  4.7MB\r",
        "  Downloading boto-2.30.0.tar.gz (7.1MB):  66%  4.7MB\r",
        "  Downloading boto-2.30.0.tar.gz (7.1MB):  66%  4.7MB\r",
        "  Downloading boto-2.30.0.tar.gz (7.1MB):  66%  4.7MB\r",
        "  Downloading boto-2.30.0.tar.gz (7.1MB):  66%  4.7MB\r",
        "  Downloading boto-2.30.0.tar.gz (7.1MB):  66%  4.7MB\r",
        "  Downloading boto-2.30.0.tar.gz (7.1MB):  66%  4.7MB\r",
        "  Downloading boto-2.30.0.tar.gz (7.1MB):  66%  4.7MB\r",
        "  Downloading boto-2.30.0.tar.gz (7.1MB):  66%  4.7MB\r",
        "  Downloading boto-2.30.0.tar.gz (7.1MB):  66%  4.7MB\r",
        "  Downloading boto-2.30.0.tar.gz (7.1MB):  66%  4.7MB\r",
        "  Downloading boto-2.30.0.tar.gz (7.1MB):  66%  4.7MB\r",
        "  Downloading boto-2.30.0.tar.gz (7.1MB):  66%  4.7MB\r",
        "  Downloading boto-2.30.0.tar.gz (7.1MB):  66%  4.7MB\r",
        "  Downloading boto-2.30.0.tar.gz (7.1MB):  66%  4.7MB\r",
        "  Downloading boto-2.30.0.tar.gz (7.1MB):  67%  4.7MB\r",
        "  Downloading boto-2.30.0.tar.gz (7.1MB):  67%  4.7MB\r",
        "  Downloading boto-2.30.0.tar.gz (7.1MB):  67%  4.8MB\r",
        "  Downloading boto-2.30.0.tar.gz (7.1MB):  67%  4.8MB\r",
        "  Downloading boto-2.30.0.tar.gz (7.1MB):  67%  4.8MB\r",
        "  Downloading boto-2.30.0.tar.gz (7.1MB):  67%  4.8MB\r",
        "  Downloading boto-2.30.0.tar.gz (7.1MB):  67%  4.8MB\r",
        "  Downloading boto-2.30.0.tar.gz (7.1MB):  67%  4.8MB\r",
        "  Downloading boto-2.30.0.tar.gz (7.1MB):  67%  4.8MB\r",
        "  Downloading boto-2.30.0.tar.gz (7.1MB):  67%  4.8MB\r",
        "  Downloading boto-2.30.0.tar.gz (7.1MB):  67%  4.8MB\r",
        "  Downloading boto-2.30.0.tar.gz (7.1MB):  67%  4.8MB\r",
        "  Downloading boto-2.30.0.tar.gz (7.1MB):  67%  4.8MB\r",
        "  Downloading boto-2.30.0.tar.gz (7.1MB):  67%  4.8MB\r",
        "  Downloading boto-2.30.0.tar.gz (7.1MB):  67%  4.8MB\r",
        "  Downloading boto-2.30.0.tar.gz (7.1MB):  67%  4.8MB\r",
        "  Downloading boto-2.30.0.tar.gz (7.1MB):  67%  4.8MB\r",
        "  Downloading boto-2.30.0.tar.gz (7.1MB):  68%  4.8MB\r",
        "  Downloading boto-2.30.0.tar.gz (7.1MB):  68%  4.8MB\r",
        "  Downloading boto-2.30.0.tar.gz (7.1MB):  68%  4.8MB\r",
        "  Downloading boto-2.30.0.tar.gz (7.1MB):  68%  4.8MB\r",
        "  Downloading boto-2.30.0.tar.gz (7.1MB):  68%  4.8MB\r",
        "  Downloading boto-2.30.0.tar.gz (7.1MB):  68%  4.8MB\r",
        "  Downloading boto-2.30.0.tar.gz (7.1MB):  68%  4.8MB\r",
        "  Downloading boto-2.30.0.tar.gz (7.1MB):  68%  4.8MB\r",
        "  Downloading boto-2.30.0.tar.gz (7.1MB):  68%  4.8MB\r",
        "  Downloading boto-2.30.0.tar.gz (7.1MB):  68%  4.8MB\r",
        "  Downloading boto-2.30.0.tar.gz (7.1MB):  68%  4.9MB\r",
        "  Downloading boto-2.30.0.tar.gz (7.1MB):  68%  4.9MB\r",
        "  Downloading boto-2.30.0.tar.gz (7.1MB):  68%  4.9MB\r",
        "  Downloading boto-2.30.0.tar.gz (7.1MB):  68%  4.9MB\r",
        "  Downloading boto-2.30.0.tar.gz (7.1MB):  68%  4.9MB\r",
        "  Downloading boto-2.30.0.tar.gz (7.1MB):  68%  4.9MB\r",
        "  Downloading boto-2.30.0.tar.gz (7.1MB):  68%  4.9MB\r",
        "  Downloading boto-2.30.0.tar.gz (7.1MB):  69%  4.9MB\r",
        "  Downloading boto-2.30.0.tar.gz (7.1MB):  69%  4.9MB"
       ]
      },
      {
       "output_type": "stream",
       "stream": "stdout",
       "text": [
        "\r",
        "  Downloading boto-2.30.0.tar.gz (7.1MB):  69%  4.9MB\r",
        "  Downloading boto-2.30.0.tar.gz (7.1MB):  69%  4.9MB\r",
        "  Downloading boto-2.30.0.tar.gz (7.1MB):  69%  4.9MB\r",
        "  Downloading boto-2.30.0.tar.gz (7.1MB):  69%  4.9MB\r",
        "  Downloading boto-2.30.0.tar.gz (7.1MB):  69%  4.9MB\r",
        "  Downloading boto-2.30.0.tar.gz (7.1MB):  69%  4.9MB\r",
        "  Downloading boto-2.30.0.tar.gz (7.1MB):  69%  4.9MB\r",
        "  Downloading boto-2.30.0.tar.gz (7.1MB):  69%  4.9MB\r",
        "  Downloading boto-2.30.0.tar.gz (7.1MB):  69%  4.9MB\r",
        "  Downloading boto-2.30.0.tar.gz (7.1MB):  69%  4.9MB\r",
        "  Downloading boto-2.30.0.tar.gz (7.1MB):  69%  4.9MB\r",
        "  Downloading boto-2.30.0.tar.gz (7.1MB):  69%  4.9MB\r",
        "  Downloading boto-2.30.0.tar.gz (7.1MB):  69%  4.9MB\r",
        "  Downloading boto-2.30.0.tar.gz (7.1MB):  69%  4.9MB\r",
        "  Downloading boto-2.30.0.tar.gz (7.1MB):  69%  4.9MB\r",
        "  Downloading boto-2.30.0.tar.gz (7.1MB):  69%  5.0MB\r",
        "  Downloading boto-2.30.0.tar.gz (7.1MB):  70%  5.0MB\r",
        "  Downloading boto-2.30.0.tar.gz (7.1MB):  70%  5.0MB\r",
        "  Downloading boto-2.30.0.tar.gz (7.1MB):  70%  5.0MB\r",
        "  Downloading boto-2.30.0.tar.gz (7.1MB):  70%  5.0MB\r",
        "  Downloading boto-2.30.0.tar.gz (7.1MB):  70%  5.0MB\r",
        "  Downloading boto-2.30.0.tar.gz (7.1MB):  70%  5.0MB\r",
        "  Downloading boto-2.30.0.tar.gz (7.1MB):  70%  5.0MB\r",
        "  Downloading boto-2.30.0.tar.gz (7.1MB):  70%  5.0MB\r",
        "  Downloading boto-2.30.0.tar.gz (7.1MB):  70%  5.0MB\r",
        "  Downloading boto-2.30.0.tar.gz (7.1MB):  70%  5.0MB\r",
        "  Downloading boto-2.30.0.tar.gz (7.1MB):  70%  5.0MB\r",
        "  Downloading boto-2.30.0.tar.gz (7.1MB):  70%  5.0MB\r",
        "  Downloading boto-2.30.0.tar.gz (7.1MB):  70%  5.0MB\r",
        "  Downloading boto-2.30.0.tar.gz (7.1MB):  70%  5.0MB\r",
        "  Downloading boto-2.30.0.tar.gz (7.1MB):  70%  5.0MB\r",
        "  Downloading boto-2.30.0.tar.gz (7.1MB):  70%  5.0MB\r",
        "  Downloading boto-2.30.0.tar.gz (7.1MB):  70%  5.0MB\r",
        "  Downloading boto-2.30.0.tar.gz (7.1MB):  71%  5.0MB\r",
        "  Downloading boto-2.30.0.tar.gz (7.1MB):  71%  5.0MB\r",
        "  Downloading boto-2.30.0.tar.gz (7.1MB):  71%  5.0MB\r",
        "  Downloading boto-2.30.0.tar.gz (7.1MB):  71%  5.0MB\r",
        "  Downloading boto-2.30.0.tar.gz (7.1MB):  71%  5.0MB\r",
        "  Downloading boto-2.30.0.tar.gz (7.1MB):  71%  5.0MB\r",
        "  Downloading boto-2.30.0.tar.gz (7.1MB):  71%  5.1MB\r",
        "  Downloading boto-2.30.0.tar.gz (7.1MB):  71%  5.1MB\r",
        "  Downloading boto-2.30.0.tar.gz (7.1MB):  71%  5.1MB\r",
        "  Downloading boto-2.30.0.tar.gz (7.1MB):  71%  5.1MB\r",
        "  Downloading boto-2.30.0.tar.gz (7.1MB):  71%  5.1MB\r",
        "  Downloading boto-2.30.0.tar.gz (7.1MB):  71%  5.1MB\r",
        "  Downloading boto-2.30.0.tar.gz (7.1MB):  71%  5.1MB\r",
        "  Downloading boto-2.30.0.tar.gz (7.1MB):  71%  5.1MB\r",
        "  Downloading boto-2.30.0.tar.gz (7.1MB):  71%  5.1MB\r",
        "  Downloading boto-2.30.0.tar.gz (7.1MB):  71%  5.1MB\r",
        "  Downloading boto-2.30.0.tar.gz (7.1MB):  71%  5.1MB\r",
        "  Downloading boto-2.30.0.tar.gz (7.1MB):  72%  5.1MB\r",
        "  Downloading boto-2.30.0.tar.gz (7.1MB):  72%  5.1MB\r",
        "  Downloading boto-2.30.0.tar.gz (7.1MB):  72%  5.1MB"
       ]
      },
      {
       "output_type": "stream",
       "stream": "stdout",
       "text": [
        "\r",
        "  Downloading boto-2.30.0.tar.gz (7.1MB):  72%  5.1MB\r",
        "  Downloading boto-2.30.0.tar.gz (7.1MB):  72%  5.1MB\r",
        "  Downloading boto-2.30.0.tar.gz (7.1MB):  72%  5.1MB\r",
        "  Downloading boto-2.30.0.tar.gz (7.1MB):  72%  5.1MB\r",
        "  Downloading boto-2.30.0.tar.gz (7.1MB):  72%  5.1MB\r",
        "  Downloading boto-2.30.0.tar.gz (7.1MB):  72%  5.1MB\r",
        "  Downloading boto-2.30.0.tar.gz (7.1MB):  72%  5.1MB\r",
        "  Downloading boto-2.30.0.tar.gz (7.1MB):  72%  5.1MB\r",
        "  Downloading boto-2.30.0.tar.gz (7.1MB):  72%  5.1MB\r",
        "  Downloading boto-2.30.0.tar.gz (7.1MB):  72%  5.1MB\r",
        "  Downloading boto-2.30.0.tar.gz (7.1MB):  72%  5.1MB\r",
        "  Downloading boto-2.30.0.tar.gz (7.1MB):  72%  5.2MB\r",
        "  Downloading boto-2.30.0.tar.gz (7.1MB):  72%  5.2MB\r",
        "  Downloading boto-2.30.0.tar.gz (7.1MB):  72%  5.2MB\r",
        "  Downloading boto-2.30.0.tar.gz (7.1MB):  73%  5.2MB\r",
        "  Downloading boto-2.30.0.tar.gz (7.1MB):  73%  5.2MB\r",
        "  Downloading boto-2.30.0.tar.gz (7.1MB):  73%  5.2MB\r",
        "  Downloading boto-2.30.0.tar.gz (7.1MB):  73%  5.2MB\r",
        "  Downloading boto-2.30.0.tar.gz (7.1MB):  73%  5.2MB\r",
        "  Downloading boto-2.30.0.tar.gz (7.1MB):  73%  5.2MB\r",
        "  Downloading boto-2.30.0.tar.gz (7.1MB):  73%  5.2MB\r",
        "  Downloading boto-2.30.0.tar.gz (7.1MB):  73%  5.2MB\r",
        "  Downloading boto-2.30.0.tar.gz (7.1MB):  73%  5.2MB\r",
        "  Downloading boto-2.30.0.tar.gz (7.1MB):  73%  5.2MB\r",
        "  Downloading boto-2.30.0.tar.gz (7.1MB):  73%  5.2MB\r",
        "  Downloading boto-2.30.0.tar.gz (7.1MB):  73%  5.2MB\r",
        "  Downloading boto-2.30.0.tar.gz (7.1MB):  73%  5.2MB\r",
        "  Downloading boto-2.30.0.tar.gz (7.1MB):  73%  5.2MB\r",
        "  Downloading boto-2.30.0.tar.gz (7.1MB):  73%  5.2MB\r",
        "  Downloading boto-2.30.0.tar.gz (7.1MB):  73%  5.2MB\r",
        "  Downloading boto-2.30.0.tar.gz (7.1MB):  73%  5.2MB\r",
        "  Downloading boto-2.30.0.tar.gz (7.1MB):  73%  5.2MB\r",
        "  Downloading boto-2.30.0.tar.gz (7.1MB):  74%  5.2MB\r",
        "  Downloading boto-2.30.0.tar.gz (7.1MB):  74%  5.2MB\r",
        "  Downloading boto-2.30.0.tar.gz (7.1MB):  74%  5.2MB\r",
        "  Downloading boto-2.30.0.tar.gz (7.1MB):  74%  5.3MB\r",
        "  Downloading boto-2.30.0.tar.gz (7.1MB):  74%  5.3MB\r",
        "  Downloading boto-2.30.0.tar.gz (7.1MB):  74%  5.3MB\r",
        "  Downloading boto-2.30.0.tar.gz (7.1MB):  74%  5.3MB\r",
        "  Downloading boto-2.30.0.tar.gz (7.1MB):  74%  5.3MB\r",
        "  Downloading boto-2.30.0.tar.gz (7.1MB):  74%  5.3MB\r",
        "  Downloading boto-2.30.0.tar.gz (7.1MB):  74%  5.3MB\r",
        "  Downloading boto-2.30.0.tar.gz (7.1MB):  74%  5.3MB\r",
        "  Downloading boto-2.30.0.tar.gz (7.1MB):  74%  5.3MB\r",
        "  Downloading boto-2.30.0.tar.gz (7.1MB):  74%  5.3MB\r",
        "  Downloading boto-2.30.0.tar.gz (7.1MB):  74%  5.3MB\r",
        "  Downloading boto-2.30.0.tar.gz (7.1MB):  74%  5.3MB\r",
        "  Downloading boto-2.30.0.tar.gz (7.1MB):  74%  5.3MB\r",
        "  Downloading boto-2.30.0.tar.gz (7.1MB):  74%  5.3MB\r",
        "  Downloading boto-2.30.0.tar.gz (7.1MB):  75%  5.3MB\r",
        "  Downloading boto-2.30.0.tar.gz (7.1MB):  75%  5.3MB\r",
        "  Downloading boto-2.30.0.tar.gz (7.1MB):  75%  5.3MB\r",
        "  Downloading boto-2.30.0.tar.gz (7.1MB):  75%  5.3MB\r",
        "  Downloading boto-2.30.0.tar.gz (7.1MB):  75%  5.3MB\r",
        "  Downloading boto-2.30.0.tar.gz (7.1MB):  75%  5.3MB\r",
        "  Downloading boto-2.30.0.tar.gz (7.1MB):  75%  5.3MB\r",
        "  Downloading boto-2.30.0.tar.gz (7.1MB):  75%  5.3MB\r",
        "  Downloading boto-2.30.0.tar.gz (7.1MB):  75%  5.3MB\r",
        "  Downloading boto-2.30.0.tar.gz (7.1MB):  75%  5.3MB\r",
        "  Downloading boto-2.30.0.tar.gz (7.1MB):  75%  5.3MB\r",
        "  Downloading boto-2.30.0.tar.gz (7.1MB):  75%  5.4MB\r",
        "  Downloading boto-2.30.0.tar.gz (7.1MB):  75%  5.4MB"
       ]
      },
      {
       "output_type": "stream",
       "stream": "stdout",
       "text": [
        "\r",
        "  Downloading boto-2.30.0.tar.gz (7.1MB):  75%  5.4MB\r",
        "  Downloading boto-2.30.0.tar.gz (7.1MB):  75%  5.4MB\r",
        "  Downloading boto-2.30.0.tar.gz (7.1MB):  75%  5.4MB\r",
        "  Downloading boto-2.30.0.tar.gz (7.1MB):  75%  5.4MB\r",
        "  Downloading boto-2.30.0.tar.gz (7.1MB):  76%  5.4MB\r",
        "  Downloading boto-2.30.0.tar.gz (7.1MB):  76%  5.4MB\r",
        "  Downloading boto-2.30.0.tar.gz (7.1MB):  76%  5.4MB\r",
        "  Downloading boto-2.30.0.tar.gz (7.1MB):  76%  5.4MB\r",
        "  Downloading boto-2.30.0.tar.gz (7.1MB):  76%  5.4MB\r",
        "  Downloading boto-2.30.0.tar.gz (7.1MB):  76%  5.4MB\r",
        "  Downloading boto-2.30.0.tar.gz (7.1MB):  76%  5.4MB\r",
        "  Downloading boto-2.30.0.tar.gz (7.1MB):  76%  5.4MB\r",
        "  Downloading boto-2.30.0.tar.gz (7.1MB):  76%  5.4MB\r",
        "  Downloading boto-2.30.0.tar.gz (7.1MB):  76%  5.4MB\r",
        "  Downloading boto-2.30.0.tar.gz (7.1MB):  76%  5.4MB\r",
        "  Downloading boto-2.30.0.tar.gz (7.1MB):  76%  5.4MB\r",
        "  Downloading boto-2.30.0.tar.gz (7.1MB):  76%  5.4MB\r",
        "  Downloading boto-2.30.0.tar.gz (7.1MB):  76%  5.4MB\r",
        "  Downloading boto-2.30.0.tar.gz (7.1MB):  76%  5.4MB\r",
        "  Downloading boto-2.30.0.tar.gz (7.1MB):  76%  5.4MB\r",
        "  Downloading boto-2.30.0.tar.gz (7.1MB):  76%  5.4MB\r",
        "  Downloading boto-2.30.0.tar.gz (7.1MB):  76%  5.4MB\r",
        "  Downloading boto-2.30.0.tar.gz (7.1MB):  77%  5.5MB\r",
        "  Downloading boto-2.30.0.tar.gz (7.1MB):  77%  5.5MB\r",
        "  Downloading boto-2.30.0.tar.gz (7.1MB):  77%  5.5MB\r",
        "  Downloading boto-2.30.0.tar.gz (7.1MB):  77%  5.5MB\r",
        "  Downloading boto-2.30.0.tar.gz (7.1MB):  77%  5.5MB\r",
        "  Downloading boto-2.30.0.tar.gz (7.1MB):  77%  5.5MB\r",
        "  Downloading boto-2.30.0.tar.gz (7.1MB):  77%  5.5MB\r",
        "  Downloading boto-2.30.0.tar.gz (7.1MB):  77%  5.5MB\r",
        "  Downloading boto-2.30.0.tar.gz (7.1MB):  77%  5.5MB\r",
        "  Downloading boto-2.30.0.tar.gz (7.1MB):  77%  5.5MB\r",
        "  Downloading boto-2.30.0.tar.gz (7.1MB):  77%  5.5MB\r",
        "  Downloading boto-2.30.0.tar.gz (7.1MB):  77%  5.5MB\r",
        "  Downloading boto-2.30.0.tar.gz (7.1MB):  77%  5.5MB\r",
        "  Downloading boto-2.30.0.tar.gz (7.1MB):  77%  5.5MB\r",
        "  Downloading boto-2.30.0.tar.gz (7.1MB):  77%  5.5MB\r",
        "  Downloading boto-2.30.0.tar.gz (7.1MB):  77%  5.5MB\r",
        "  Downloading boto-2.30.0.tar.gz (7.1MB):  77%  5.5MB\r",
        "  Downloading boto-2.30.0.tar.gz (7.1MB):  78%  5.5MB\r",
        "  Downloading boto-2.30.0.tar.gz (7.1MB):  78%  5.5MB\r",
        "  Downloading boto-2.30.0.tar.gz (7.1MB):  78%  5.5MB\r",
        "  Downloading boto-2.30.0.tar.gz (7.1MB):  78%  5.5MB\r",
        "  Downloading boto-2.30.0.tar.gz (7.1MB):  78%  5.5MB\r",
        "  Downloading boto-2.30.0.tar.gz (7.1MB):  78%  5.5MB\r",
        "  Downloading boto-2.30.0.tar.gz (7.1MB):  78%  5.5MB\r",
        "  Downloading boto-2.30.0.tar.gz (7.1MB):  78%  5.6MB\r",
        "  Downloading boto-2.30.0.tar.gz (7.1MB):  78%  5.6MB\r",
        "  Downloading boto-2.30.0.tar.gz (7.1MB):  78%  5.6MB\r",
        "  Downloading boto-2.30.0.tar.gz (7.1MB):  78%  5.6MB\r",
        "  Downloading boto-2.30.0.tar.gz (7.1MB):  78%  5.6MB\r",
        "  Downloading boto-2.30.0.tar.gz (7.1MB):  78%  5.6MB\r",
        "  Downloading boto-2.30.0.tar.gz (7.1MB):  78%  5.6MB\r",
        "  Downloading boto-2.30.0.tar.gz (7.1MB):  78%  5.6MB\r",
        "  Downloading boto-2.30.0.tar.gz (7.1MB):  78%  5.6MB\r",
        "  Downloading boto-2.30.0.tar.gz (7.1MB):  78%  5.6MB\r",
        "  Downloading boto-2.30.0.tar.gz (7.1MB):  79%  5.6MB\r",
        "  Downloading boto-2.30.0.tar.gz (7.1MB):  79%  5.6MB\r",
        "  Downloading boto-2.30.0.tar.gz (7.1MB):  79%  5.6MB"
       ]
      },
      {
       "output_type": "stream",
       "stream": "stdout",
       "text": [
        "\r",
        "  Downloading boto-2.30.0.tar.gz (7.1MB):  79%  5.6MB\r",
        "  Downloading boto-2.30.0.tar.gz (7.1MB):  79%  5.6MB\r",
        "  Downloading boto-2.30.0.tar.gz (7.1MB):  79%  5.6MB\r",
        "  Downloading boto-2.30.0.tar.gz (7.1MB):  79%  5.6MB\r",
        "  Downloading boto-2.30.0.tar.gz (7.1MB):  79%  5.6MB\r",
        "  Downloading boto-2.30.0.tar.gz (7.1MB):  79%  5.6MB\r",
        "  Downloading boto-2.30.0.tar.gz (7.1MB):  79%  5.6MB\r",
        "  Downloading boto-2.30.0.tar.gz (7.1MB):  79%  5.6MB\r",
        "  Downloading boto-2.30.0.tar.gz (7.1MB):  79%  5.6MB\r",
        "  Downloading boto-2.30.0.tar.gz (7.1MB):  79%  5.6MB\r",
        "  Downloading boto-2.30.0.tar.gz (7.1MB):  79%  5.6MB\r",
        "  Downloading boto-2.30.0.tar.gz (7.1MB):  79%  5.6MB\r",
        "  Downloading boto-2.30.0.tar.gz (7.1MB):  79%  5.7MB\r",
        "  Downloading boto-2.30.0.tar.gz (7.1MB):  79%  5.7MB\r",
        "  Downloading boto-2.30.0.tar.gz (7.1MB):  80%  5.7MB\r",
        "  Downloading boto-2.30.0.tar.gz (7.1MB):  80%  5.7MB\r",
        "  Downloading boto-2.30.0.tar.gz (7.1MB):  80%  5.7MB\r",
        "  Downloading boto-2.30.0.tar.gz (7.1MB):  80%  5.7MB\r",
        "  Downloading boto-2.30.0.tar.gz (7.1MB):  80%  5.7MB\r",
        "  Downloading boto-2.30.0.tar.gz (7.1MB):  80%  5.7MB\r",
        "  Downloading boto-2.30.0.tar.gz (7.1MB):  80%  5.7MB\r",
        "  Downloading boto-2.30.0.tar.gz (7.1MB):  80%  5.7MB\r",
        "  Downloading boto-2.30.0.tar.gz (7.1MB):  80%  5.7MB\r",
        "  Downloading boto-2.30.0.tar.gz (7.1MB):  80%  5.7MB\r",
        "  Downloading boto-2.30.0.tar.gz (7.1MB):  80%  5.7MB\r",
        "  Downloading boto-2.30.0.tar.gz (7.1MB):  80%  5.7MB\r",
        "  Downloading boto-2.30.0.tar.gz (7.1MB):  80%  5.7MB\r",
        "  Downloading boto-2.30.0.tar.gz (7.1MB):  80%  5.7MB\r",
        "  Downloading boto-2.30.0.tar.gz (7.1MB):  80%  5.7MB\r",
        "  Downloading boto-2.30.0.tar.gz (7.1MB):  80%  5.7MB\r",
        "  Downloading boto-2.30.0.tar.gz (7.1MB):  80%  5.7MB\r",
        "  Downloading boto-2.30.0.tar.gz (7.1MB):  80%  5.7MB\r",
        "  Downloading boto-2.30.0.tar.gz (7.1MB):  81%  5.7MB\r",
        "  Downloading boto-2.30.0.tar.gz (7.1MB):  81%  5.7MB\r",
        "  Downloading boto-2.30.0.tar.gz (7.1MB):  81%  5.7MB\r",
        "  Downloading boto-2.30.0.tar.gz (7.1MB):  81%  5.7MB\r",
        "  Downloading boto-2.30.0.tar.gz (7.1MB):  81%  5.8MB\r",
        "  Downloading boto-2.30.0.tar.gz (7.1MB):  81%  5.8MB\r",
        "  Downloading boto-2.30.0.tar.gz (7.1MB):  81%  5.8MB\r",
        "  Downloading boto-2.30.0.tar.gz (7.1MB):  81%  5.8MB\r",
        "  Downloading boto-2.30.0.tar.gz (7.1MB):  81%  5.8MB\r",
        "  Downloading boto-2.30.0.tar.gz (7.1MB):  81%  5.8MB\r",
        "  Downloading boto-2.30.0.tar.gz (7.1MB):  81%  5.8MB\r",
        "  Downloading boto-2.30.0.tar.gz (7.1MB):  81%  5.8MB\r",
        "  Downloading boto-2.30.0.tar.gz (7.1MB):  81%  5.8MB\r",
        "  Downloading boto-2.30.0.tar.gz (7.1MB):  81%  5.8MB\r",
        "  Downloading boto-2.30.0.tar.gz (7.1MB):  81%  5.8MB\r",
        "  Downloading boto-2.30.0.tar.gz (7.1MB):  81%  5.8MB\r",
        "  Downloading boto-2.30.0.tar.gz (7.1MB):  81%  5.8MB\r",
        "  Downloading boto-2.30.0.tar.gz (7.1MB):  82%  5.8MB\r",
        "  Downloading boto-2.30.0.tar.gz (7.1MB):  82%  5.8MB\r",
        "  Downloading boto-2.30.0.tar.gz (7.1MB):  82%  5.8MB\r",
        "  Downloading boto-2.30.0.tar.gz (7.1MB):  82%  5.8MB\r",
        "  Downloading boto-2.30.0.tar.gz (7.1MB):  82%  5.8MB\r",
        "  Downloading boto-2.30.0.tar.gz (7.1MB):  82%  5.8MB\r",
        "  Downloading boto-2.30.0.tar.gz (7.1MB):  82%  5.8MB\r",
        "  Downloading boto-2.30.0.tar.gz (7.1MB):  82%  5.8MB\r",
        "  Downloading boto-2.30.0.tar.gz (7.1MB):  82%  5.8MB\r",
        "  Downloading boto-2.30.0.tar.gz (7.1MB):  82%  5.8MB\r",
        "  Downloading boto-2.30.0.tar.gz (7.1MB):  82%  5.8MB\r",
        "  Downloading boto-2.30.0.tar.gz (7.1MB):  82%  5.8MB\r",
        "  Downloading boto-2.30.0.tar.gz (7.1MB):  82%  5.9MB\r",
        "  Downloading boto-2.30.0.tar.gz (7.1MB):  82%  5.9MB\r",
        "  Downloading boto-2.30.0.tar.gz (7.1MB):  82%  5.9MB\r",
        "  Downloading boto-2.30.0.tar.gz (7.1MB):  82%  5.9MB\r",
        "  Downloading boto-2.30.0.tar.gz (7.1MB):  82%  5.9MB\r",
        "  Downloading boto-2.30.0.tar.gz (7.1MB):  83%  5.9MB\r",
        "  Downloading boto-2.30.0.tar.gz (7.1MB):  83%  5.9MB\r",
        "  Downloading boto-2.30.0.tar.gz (7.1MB):  83%  5.9MB\r",
        "  Downloading boto-2.30.0.tar.gz (7.1MB):  83%  5.9MB"
       ]
      },
      {
       "output_type": "stream",
       "stream": "stdout",
       "text": [
        "\r",
        "  Downloading boto-2.30.0.tar.gz (7.1MB):  83%  5.9MB\r",
        "  Downloading boto-2.30.0.tar.gz (7.1MB):  83%  5.9MB\r",
        "  Downloading boto-2.30.0.tar.gz (7.1MB):  83%  5.9MB\r",
        "  Downloading boto-2.30.0.tar.gz (7.1MB):  83%  5.9MB\r",
        "  Downloading boto-2.30.0.tar.gz (7.1MB):  83%  5.9MB\r",
        "  Downloading boto-2.30.0.tar.gz (7.1MB):  83%  5.9MB\r",
        "  Downloading boto-2.30.0.tar.gz (7.1MB):  83%  5.9MB\r",
        "  Downloading boto-2.30.0.tar.gz (7.1MB):  83%  5.9MB\r",
        "  Downloading boto-2.30.0.tar.gz (7.1MB):  83%  5.9MB\r",
        "  Downloading boto-2.30.0.tar.gz (7.1MB):  83%  5.9MB\r",
        "  Downloading boto-2.30.0.tar.gz (7.1MB):  83%  5.9MB\r",
        "  Downloading boto-2.30.0.tar.gz (7.1MB):  83%  5.9MB\r",
        "  Downloading boto-2.30.0.tar.gz (7.1MB):  83%  5.9MB\r",
        "  Downloading boto-2.30.0.tar.gz (7.1MB):  84%  5.9MB\r",
        "  Downloading boto-2.30.0.tar.gz (7.1MB):  84%  5.9MB\r",
        "  Downloading boto-2.30.0.tar.gz (7.1MB):  84%  6.0MB\r",
        "  Downloading boto-2.30.0.tar.gz (7.1MB):  84%  6.0MB\r",
        "  Downloading boto-2.30.0.tar.gz (7.1MB):  84%  6.0MB\r",
        "  Downloading boto-2.30.0.tar.gz (7.1MB):  84%  6.0MB\r",
        "  Downloading boto-2.30.0.tar.gz (7.1MB):  84%  6.0MB\r",
        "  Downloading boto-2.30.0.tar.gz (7.1MB):  84%  6.0MB\r",
        "  Downloading boto-2.30.0.tar.gz (7.1MB):  84%  6.0MB\r",
        "  Downloading boto-2.30.0.tar.gz (7.1MB):  84%  6.0MB\r",
        "  Downloading boto-2.30.0.tar.gz (7.1MB):  84%  6.0MB\r",
        "  Downloading boto-2.30.0.tar.gz (7.1MB):  84%  6.0MB\r",
        "  Downloading boto-2.30.0.tar.gz (7.1MB):  84%  6.0MB\r",
        "  Downloading boto-2.30.0.tar.gz (7.1MB):  84%  6.0MB\r",
        "  Downloading boto-2.30.0.tar.gz (7.1MB):  84%  6.0MB\r",
        "  Downloading boto-2.30.0.tar.gz (7.1MB):  84%  6.0MB\r",
        "  Downloading boto-2.30.0.tar.gz (7.1MB):  84%  6.0MB\r",
        "  Downloading boto-2.30.0.tar.gz (7.1MB):  84%  6.0MB\r",
        "  Downloading boto-2.30.0.tar.gz (7.1MB):  85%  6.0MB\r",
        "  Downloading boto-2.30.0.tar.gz (7.1MB):  85%  6.0MB\r",
        "  Downloading boto-2.30.0.tar.gz (7.1MB):  85%  6.0MB\r",
        "  Downloading boto-2.30.0.tar.gz (7.1MB):  85%  6.0MB\r",
        "  Downloading boto-2.30.0.tar.gz (7.1MB):  85%  6.0MB\r",
        "  Downloading boto-2.30.0.tar.gz (7.1MB):  85%  6.0MB\r",
        "  Downloading boto-2.30.0.tar.gz (7.1MB):  85%  6.0MB\r",
        "  Downloading boto-2.30.0.tar.gz (7.1MB):  85%  6.0MB\r",
        "  Downloading boto-2.30.0.tar.gz (7.1MB):  85%  6.0MB\r",
        "  Downloading boto-2.30.0.tar.gz (7.1MB):  85%  6.1MB\r",
        "  Downloading boto-2.30.0.tar.gz (7.1MB):  85%  6.1MB\r",
        "  Downloading boto-2.30.0.tar.gz (7.1MB):  85%  6.1MB\r",
        "  Downloading boto-2.30.0.tar.gz (7.1MB):  85%  6.1MB\r",
        "  Downloading boto-2.30.0.tar.gz (7.1MB):  85%  6.1MB\r",
        "  Downloading boto-2.30.0.tar.gz (7.1MB):  85%  6.1MB\r",
        "  Downloading boto-2.30.0.tar.gz (7.1MB):  85%  6.1MB\r",
        "  Downloading boto-2.30.0.tar.gz (7.1MB):  85%  6.1MB\r",
        "  Downloading boto-2.30.0.tar.gz (7.1MB):  86%  6.1MB\r",
        "  Downloading boto-2.30.0.tar.gz (7.1MB):  86%  6.1MB\r",
        "  Downloading boto-2.30.0.tar.gz (7.1MB):  86%  6.1MB\r",
        "  Downloading boto-2.30.0.tar.gz (7.1MB):  86%  6.1MB\r",
        "  Downloading boto-2.30.0.tar.gz (7.1MB):  86%  6.1MB\r",
        "  Downloading boto-2.30.0.tar.gz (7.1MB):  86%  6.1MB\r",
        "  Downloading boto-2.30.0.tar.gz (7.1MB):  86%  6.1MB\r",
        "  Downloading boto-2.30.0.tar.gz (7.1MB):  86%  6.1MB\r",
        "  Downloading boto-2.30.0.tar.gz (7.1MB):  86%  6.1MB\r",
        "  Downloading boto-2.30.0.tar.gz (7.1MB):  86%  6.1MB\r",
        "  Downloading boto-2.30.0.tar.gz (7.1MB):  86%  6.1MB\r",
        "  Downloading boto-2.30.0.tar.gz (7.1MB):  86%  6.1MB\r",
        "  Downloading boto-2.30.0.tar.gz (7.1MB):  86%  6.1MB\r",
        "  Downloading boto-2.30.0.tar.gz (7.1MB):  86%  6.1MB\r",
        "  Downloading boto-2.30.0.tar.gz (7.1MB):  86%  6.1MB\r",
        "  Downloading boto-2.30.0.tar.gz (7.1MB):  86%  6.1MB\r",
        "  Downloading boto-2.30.0.tar.gz (7.1MB):  86%  6.2MB\r",
        "  Downloading boto-2.30.0.tar.gz (7.1MB):  87%  6.2MB\r",
        "  Downloading boto-2.30.0.tar.gz (7.1MB):  87%  6.2MB"
       ]
      },
      {
       "output_type": "stream",
       "stream": "stdout",
       "text": [
        "\r",
        "  Downloading boto-2.30.0.tar.gz (7.1MB):  87%  6.2MB\r",
        "  Downloading boto-2.30.0.tar.gz (7.1MB):  87%  6.2MB\r",
        "  Downloading boto-2.30.0.tar.gz (7.1MB):  87%  6.2MB\r",
        "  Downloading boto-2.30.0.tar.gz (7.1MB):  87%  6.2MB\r",
        "  Downloading boto-2.30.0.tar.gz (7.1MB):  87%  6.2MB\r",
        "  Downloading boto-2.30.0.tar.gz (7.1MB):  87%  6.2MB\r",
        "  Downloading boto-2.30.0.tar.gz (7.1MB):  87%  6.2MB\r",
        "  Downloading boto-2.30.0.tar.gz (7.1MB):  87%  6.2MB\r",
        "  Downloading boto-2.30.0.tar.gz (7.1MB):  87%  6.2MB\r",
        "  Downloading boto-2.30.0.tar.gz (7.1MB):  87%  6.2MB\r",
        "  Downloading boto-2.30.0.tar.gz (7.1MB):  87%  6.2MB\r",
        "  Downloading boto-2.30.0.tar.gz (7.1MB):  87%  6.2MB\r",
        "  Downloading boto-2.30.0.tar.gz (7.1MB):  87%  6.2MB\r",
        "  Downloading boto-2.30.0.tar.gz (7.1MB):  87%  6.2MB\r",
        "  Downloading boto-2.30.0.tar.gz (7.1MB):  87%  6.2MB\r",
        "  Downloading boto-2.30.0.tar.gz (7.1MB):  87%  6.2MB\r",
        "  Downloading boto-2.30.0.tar.gz (7.1MB):  88%  6.2MB\r",
        "  Downloading boto-2.30.0.tar.gz (7.1MB):  88%  6.2MB\r",
        "  Downloading boto-2.30.0.tar.gz (7.1MB):  88%  6.2MB\r",
        "  Downloading boto-2.30.0.tar.gz (7.1MB):  88%  6.2MB\r",
        "  Downloading boto-2.30.0.tar.gz (7.1MB):  88%  6.2MB\r",
        "  Downloading boto-2.30.0.tar.gz (7.1MB):  88%  6.3MB\r",
        "  Downloading boto-2.30.0.tar.gz (7.1MB):  88%  6.3MB\r",
        "  Downloading boto-2.30.0.tar.gz (7.1MB):  88%  6.3MB\r",
        "  Downloading boto-2.30.0.tar.gz (7.1MB):  88%  6.3MB\r",
        "  Downloading boto-2.30.0.tar.gz (7.1MB):  88%  6.3MB\r",
        "  Downloading boto-2.30.0.tar.gz (7.1MB):  88%  6.3MB\r",
        "  Downloading boto-2.30.0.tar.gz (7.1MB):  88%  6.3MB\r",
        "  Downloading boto-2.30.0.tar.gz (7.1MB):  88%  6.3MB\r",
        "  Downloading boto-2.30.0.tar.gz (7.1MB):  88%  6.3MB\r",
        "  Downloading boto-2.30.0.tar.gz (7.1MB):  88%  6.3MB\r",
        "  Downloading boto-2.30.0.tar.gz (7.1MB):  88%  6.3MB\r",
        "  Downloading boto-2.30.0.tar.gz (7.1MB):  88%  6.3MB\r",
        "  Downloading boto-2.30.0.tar.gz (7.1MB):  89%  6.3MB\r",
        "  Downloading boto-2.30.0.tar.gz (7.1MB):  89%  6.3MB\r",
        "  Downloading boto-2.30.0.tar.gz (7.1MB):  89%  6.3MB\r",
        "  Downloading boto-2.30.0.tar.gz (7.1MB):  89%  6.3MB\r",
        "  Downloading boto-2.30.0.tar.gz (7.1MB):  89%  6.3MB\r",
        "  Downloading boto-2.30.0.tar.gz (7.1MB):  89%  6.3MB\r",
        "  Downloading boto-2.30.0.tar.gz (7.1MB):  89%  6.3MB\r",
        "  Downloading boto-2.30.0.tar.gz (7.1MB):  89%  6.3MB\r",
        "  Downloading boto-2.30.0.tar.gz (7.1MB):  89%  6.3MB\r",
        "  Downloading boto-2.30.0.tar.gz (7.1MB):  89%  6.3MB\r",
        "  Downloading boto-2.30.0.tar.gz (7.1MB):  89%  6.3MB\r",
        "  Downloading boto-2.30.0.tar.gz (7.1MB):  89%  6.3MB\r",
        "  Downloading boto-2.30.0.tar.gz (7.1MB):  89%  6.3MB\r",
        "  Downloading boto-2.30.0.tar.gz (7.1MB):  89%  6.4MB\r",
        "  Downloading boto-2.30.0.tar.gz (7.1MB):  89%  6.4MB\r",
        "  Downloading boto-2.30.0.tar.gz (7.1MB):  89%  6.4MB\r",
        "  Downloading boto-2.30.0.tar.gz (7.1MB):  89%  6.4MB\r",
        "  Downloading boto-2.30.0.tar.gz (7.1MB):  90%  6.4MB\r",
        "  Downloading boto-2.30.0.tar.gz (7.1MB):  90%  6.4MB\r",
        "  Downloading boto-2.30.0.tar.gz (7.1MB):  90%  6.4MB\r",
        "  Downloading boto-2.30.0.tar.gz (7.1MB):  90%  6.4MB\r",
        "  Downloading boto-2.30.0.tar.gz (7.1MB):  90%  6.4MB\r",
        "  Downloading boto-2.30.0.tar.gz (7.1MB):  90%  6.4MB\r",
        "  Downloading boto-2.30.0.tar.gz (7.1MB):  90%  6.4MB\r",
        "  Downloading boto-2.30.0.tar.gz (7.1MB):  90%  6.4MB\r",
        "  Downloading boto-2.30.0.tar.gz (7.1MB):  90%  6.4MB\r",
        "  Downloading boto-2.30.0.tar.gz (7.1MB):  90%  6.4MB\r",
        "  Downloading boto-2.30.0.tar.gz (7.1MB):  90%  6.4MB\r",
        "  Downloading boto-2.30.0.tar.gz (7.1MB):  90%  6.4MB\r",
        "  Downloading boto-2.30.0.tar.gz (7.1MB):  90%  6.4MB\r",
        "  Downloading boto-2.30.0.tar.gz (7.1MB):  90%  6.4MB"
       ]
      },
      {
       "output_type": "stream",
       "stream": "stdout",
       "text": [
        "\r",
        "  Downloading boto-2.30.0.tar.gz (7.1MB):  90%  6.4MB\r",
        "  Downloading boto-2.30.0.tar.gz (7.1MB):  90%  6.4MB\r",
        "  Downloading boto-2.30.0.tar.gz (7.1MB):  90%  6.4MB\r",
        "  Downloading boto-2.30.0.tar.gz (7.1MB):  91%  6.4MB\r",
        "  Downloading boto-2.30.0.tar.gz (7.1MB):  91%  6.4MB\r",
        "  Downloading boto-2.30.0.tar.gz (7.1MB):  91%  6.4MB\r",
        "  Downloading boto-2.30.0.tar.gz (7.1MB):  91%  6.5MB\r",
        "  Downloading boto-2.30.0.tar.gz (7.1MB):  91%  6.5MB\r",
        "  Downloading boto-2.30.0.tar.gz (7.1MB):  91%  6.5MB\r",
        "  Downloading boto-2.30.0.tar.gz (7.1MB):  91%  6.5MB\r",
        "  Downloading boto-2.30.0.tar.gz (7.1MB):  91%  6.5MB\r",
        "  Downloading boto-2.30.0.tar.gz (7.1MB):  91%  6.5MB\r",
        "  Downloading boto-2.30.0.tar.gz (7.1MB):  91%  6.5MB\r",
        "  Downloading boto-2.30.0.tar.gz (7.1MB):  91%  6.5MB\r",
        "  Downloading boto-2.30.0.tar.gz (7.1MB):  91%  6.5MB\r",
        "  Downloading boto-2.30.0.tar.gz (7.1MB):  91%  6.5MB\r",
        "  Downloading boto-2.30.0.tar.gz (7.1MB):  91%  6.5MB\r",
        "  Downloading boto-2.30.0.tar.gz (7.1MB):  91%  6.5MB\r",
        "  Downloading boto-2.30.0.tar.gz (7.1MB):  91%  6.5MB\r",
        "  Downloading boto-2.30.0.tar.gz (7.1MB):  91%  6.5MB\r",
        "  Downloading boto-2.30.0.tar.gz (7.1MB):  91%  6.5MB\r",
        "  Downloading boto-2.30.0.tar.gz (7.1MB):  92%  6.5MB\r",
        "  Downloading boto-2.30.0.tar.gz (7.1MB):  92%  6.5MB\r",
        "  Downloading boto-2.30.0.tar.gz (7.1MB):  92%  6.5MB\r",
        "  Downloading boto-2.30.0.tar.gz (7.1MB):  92%  6.5MB\r",
        "  Downloading boto-2.30.0.tar.gz (7.1MB):  92%  6.5MB\r",
        "  Downloading boto-2.30.0.tar.gz (7.1MB):  92%  6.5MB\r",
        "  Downloading boto-2.30.0.tar.gz (7.1MB):  92%  6.5MB\r",
        "  Downloading boto-2.30.0.tar.gz (7.1MB):  92%  6.5MB\r",
        "  Downloading boto-2.30.0.tar.gz (7.1MB):  92%  6.5MB\r",
        "  Downloading boto-2.30.0.tar.gz (7.1MB):  92%  6.5MB\r",
        "  Downloading boto-2.30.0.tar.gz (7.1MB):  92%  6.6MB\r",
        "  Downloading boto-2.30.0.tar.gz (7.1MB):  92%  6.6MB\r",
        "  Downloading boto-2.30.0.tar.gz (7.1MB):  92%  6.6MB\r",
        "  Downloading boto-2.30.0.tar.gz (7.1MB):  92%  6.6MB\r",
        "  Downloading boto-2.30.0.tar.gz (7.1MB):  92%  6.6MB\r",
        "  Downloading boto-2.30.0.tar.gz (7.1MB):  92%  6.6MB\r",
        "  Downloading boto-2.30.0.tar.gz (7.1MB):  92%  6.6MB\r",
        "  Downloading boto-2.30.0.tar.gz (7.1MB):  93%  6.6MB\r",
        "  Downloading boto-2.30.0.tar.gz (7.1MB):  93%  6.6MB\r",
        "  Downloading boto-2.30.0.tar.gz (7.1MB):  93%  6.6MB\r",
        "  Downloading boto-2.30.0.tar.gz (7.1MB):  93%  6.6MB\r",
        "  Downloading boto-2.30.0.tar.gz (7.1MB):  93%  6.6MB\r",
        "  Downloading boto-2.30.0.tar.gz (7.1MB):  93%  6.6MB\r",
        "  Downloading boto-2.30.0.tar.gz (7.1MB):  93%  6.6MB\r",
        "  Downloading boto-2.30.0.tar.gz (7.1MB):  93%  6.6MB\r",
        "  Downloading boto-2.30.0.tar.gz (7.1MB):  93%  6.6MB\r",
        "  Downloading boto-2.30.0.tar.gz (7.1MB):  93%  6.6MB\r",
        "  Downloading boto-2.30.0.tar.gz (7.1MB):  93%  6.6MB\r",
        "  Downloading boto-2.30.0.tar.gz (7.1MB):  93%  6.6MB\r",
        "  Downloading boto-2.30.0.tar.gz (7.1MB):  93%  6.6MB\r",
        "  Downloading boto-2.30.0.tar.gz (7.1MB):  93%  6.6MB\r",
        "  Downloading boto-2.30.0.tar.gz (7.1MB):  93%  6.6MB\r",
        "  Downloading boto-2.30.0.tar.gz (7.1MB):  93%  6.6MB\r",
        "  Downloading boto-2.30.0.tar.gz (7.1MB):  93%  6.6MB\r",
        "  Downloading boto-2.30.0.tar.gz (7.1MB):  94%  6.7MB\r",
        "  Downloading boto-2.30.0.tar.gz (7.1MB):  94%  6.7MB\r",
        "  Downloading boto-2.30.0.tar.gz (7.1MB):  94%  6.7MB\r",
        "  Downloading boto-2.30.0.tar.gz (7.1MB):  94%  6.7MB\r",
        "  Downloading boto-2.30.0.tar.gz (7.1MB):  94%  6.7MB\r",
        "  Downloading boto-2.30.0.tar.gz (7.1MB):  94%  6.7MB\r",
        "  Downloading boto-2.30.0.tar.gz (7.1MB):  94%  6.7MB\r",
        "  Downloading boto-2.30.0.tar.gz (7.1MB):  94%  6.7MB\r",
        "  Downloading boto-2.30.0.tar.gz (7.1MB):  94%  6.7MB\r",
        "  Downloading boto-2.30.0.tar.gz (7.1MB):  94%  6.7MB\r",
        "  Downloading boto-2.30.0.tar.gz (7.1MB):  94%  6.7MB"
       ]
      },
      {
       "output_type": "stream",
       "stream": "stdout",
       "text": [
        "\r",
        "  Downloading boto-2.30.0.tar.gz (7.1MB):  94%  6.7MB\r",
        "  Downloading boto-2.30.0.tar.gz (7.1MB):  94%  6.7MB\r",
        "  Downloading boto-2.30.0.tar.gz (7.1MB):  94%  6.7MB\r",
        "  Downloading boto-2.30.0.tar.gz (7.1MB):  94%  6.7MB\r",
        "  Downloading boto-2.30.0.tar.gz (7.1MB):  94%  6.7MB\r",
        "  Downloading boto-2.30.0.tar.gz (7.1MB):  94%  6.7MB\r",
        "  Downloading boto-2.30.0.tar.gz (7.1MB):  95%  6.7MB\r",
        "  Downloading boto-2.30.0.tar.gz (7.1MB):  95%  6.7MB\r",
        "  Downloading boto-2.30.0.tar.gz (7.1MB):  95%  6.7MB\r",
        "  Downloading boto-2.30.0.tar.gz (7.1MB):  95%  6.7MB\r",
        "  Downloading boto-2.30.0.tar.gz (7.1MB):  95%  6.7MB\r",
        "  Downloading boto-2.30.0.tar.gz (7.1MB):  95%  6.7MB\r",
        "  Downloading boto-2.30.0.tar.gz (7.1MB):  95%  6.7MB\r",
        "  Downloading boto-2.30.0.tar.gz (7.1MB):  95%  6.8MB\r",
        "  Downloading boto-2.30.0.tar.gz (7.1MB):  95%  6.8MB\r",
        "  Downloading boto-2.30.0.tar.gz (7.1MB):  95%  6.8MB\r",
        "  Downloading boto-2.30.0.tar.gz (7.1MB):  95%  6.8MB\r",
        "  Downloading boto-2.30.0.tar.gz (7.1MB):  95%  6.8MB\r",
        "  Downloading boto-2.30.0.tar.gz (7.1MB):  95%  6.8MB\r",
        "  Downloading boto-2.30.0.tar.gz (7.1MB):  95%  6.8MB\r",
        "  Downloading boto-2.30.0.tar.gz (7.1MB):  95%  6.8MB\r",
        "  Downloading boto-2.30.0.tar.gz (7.1MB):  95%  6.8MB\r",
        "  Downloading boto-2.30.0.tar.gz (7.1MB):  95%  6.8MB\r",
        "  Downloading boto-2.30.0.tar.gz (7.1MB):  95%  6.8MB\r",
        "  Downloading boto-2.30.0.tar.gz (7.1MB):  96%  6.8MB\r",
        "  Downloading boto-2.30.0.tar.gz (7.1MB):  96%  6.8MB\r",
        "  Downloading boto-2.30.0.tar.gz (7.1MB):  96%  6.8MB\r",
        "  Downloading boto-2.30.0.tar.gz (7.1MB):  96%  6.8MB\r",
        "  Downloading boto-2.30.0.tar.gz (7.1MB):  96%  6.8MB\r",
        "  Downloading boto-2.30.0.tar.gz (7.1MB):  96%  6.8MB\r",
        "  Downloading boto-2.30.0.tar.gz (7.1MB):  96%  6.8MB\r",
        "  Downloading boto-2.30.0.tar.gz (7.1MB):  96%  6.8MB\r",
        "  Downloading boto-2.30.0.tar.gz (7.1MB):  96%  6.8MB\r",
        "  Downloading boto-2.30.0.tar.gz (7.1MB):  96%  6.8MB\r",
        "  Downloading boto-2.30.0.tar.gz (7.1MB):  96%  6.8MB\r",
        "  Downloading boto-2.30.0.tar.gz (7.1MB):  96%  6.8MB\r",
        "  Downloading boto-2.30.0.tar.gz (7.1MB):  96%  6.8MB\r",
        "  Downloading boto-2.30.0.tar.gz (7.1MB):  96%  6.8MB\r",
        "  Downloading boto-2.30.0.tar.gz (7.1MB):  96%  6.9MB\r",
        "  Downloading boto-2.30.0.tar.gz (7.1MB):  96%  6.9MB\r",
        "  Downloading boto-2.30.0.tar.gz (7.1MB):  96%  6.9MB\r",
        "  Downloading boto-2.30.0.tar.gz (7.1MB):  97%  6.9MB\r",
        "  Downloading boto-2.30.0.tar.gz (7.1MB):  97%  6.9MB\r",
        "  Downloading boto-2.30.0.tar.gz (7.1MB):  97%  6.9MB\r",
        "  Downloading boto-2.30.0.tar.gz (7.1MB):  97%  6.9MB\r",
        "  Downloading boto-2.30.0.tar.gz (7.1MB):  97%  6.9MB\r",
        "  Downloading boto-2.30.0.tar.gz (7.1MB):  97%  6.9MB\r",
        "  Downloading boto-2.30.0.tar.gz (7.1MB):  97%  6.9MB\r",
        "  Downloading boto-2.30.0.tar.gz (7.1MB):  97%  6.9MB\r",
        "  Downloading boto-2.30.0.tar.gz (7.1MB):  97%  6.9MB\r",
        "  Downloading boto-2.30.0.tar.gz (7.1MB):  97%  6.9MB\r",
        "  Downloading boto-2.30.0.tar.gz (7.1MB):  97%  6.9MB"
       ]
      },
      {
       "output_type": "stream",
       "stream": "stdout",
       "text": [
        "\r",
        "  Downloading boto-2.30.0.tar.gz (7.1MB):  97%  6.9MB\r",
        "  Downloading boto-2.30.0.tar.gz (7.1MB):  97%  6.9MB\r",
        "  Downloading boto-2.30.0.tar.gz (7.1MB):  97%  6.9MB\r",
        "  Downloading boto-2.30.0.tar.gz (7.1MB):  97%  6.9MB\r",
        "  Downloading boto-2.30.0.tar.gz (7.1MB):  97%  6.9MB\r",
        "  Downloading boto-2.30.0.tar.gz (7.1MB):  97%  6.9MB\r",
        "  Downloading boto-2.30.0.tar.gz (7.1MB):  98%  6.9MB\r",
        "  Downloading boto-2.30.0.tar.gz (7.1MB):  98%  6.9MB\r",
        "  Downloading boto-2.30.0.tar.gz (7.1MB):  98%  6.9MB\r",
        "  Downloading boto-2.30.0.tar.gz (7.1MB):  98%  6.9MB\r",
        "  Downloading boto-2.30.0.tar.gz (7.1MB):  98%  7.0MB\r",
        "  Downloading boto-2.30.0.tar.gz (7.1MB):  98%  7.0MB\r",
        "  Downloading boto-2.30.0.tar.gz (7.1MB):  98%  7.0MB\r",
        "  Downloading boto-2.30.0.tar.gz (7.1MB):  98%  7.0MB\r",
        "  Downloading boto-2.30.0.tar.gz (7.1MB):  98%  7.0MB\r",
        "  Downloading boto-2.30.0.tar.gz (7.1MB):  98%  7.0MB\r",
        "  Downloading boto-2.30.0.tar.gz (7.1MB):  98%  7.0MB\r",
        "  Downloading boto-2.30.0.tar.gz (7.1MB):  98%  7.0MB\r",
        "  Downloading boto-2.30.0.tar.gz (7.1MB):  98%  7.0MB\r",
        "  Downloading boto-2.30.0.tar.gz (7.1MB):  98%  7.0MB\r",
        "  Downloading boto-2.30.0.tar.gz (7.1MB):  98%  7.0MB\r",
        "  Downloading boto-2.30.0.tar.gz (7.1MB):  98%  7.0MB\r",
        "  Downloading boto-2.30.0.tar.gz (7.1MB):  98%  7.0MB\r",
        "  Downloading boto-2.30.0.tar.gz (7.1MB):  98%  7.0MB\r",
        "  Downloading boto-2.30.0.tar.gz (7.1MB):  99%  7.0MB\r",
        "  Downloading boto-2.30.0.tar.gz (7.1MB):  99%  7.0MB\r",
        "  Downloading boto-2.30.0.tar.gz (7.1MB):  99%  7.0MB\r",
        "  Downloading boto-2.30.0.tar.gz (7.1MB):  99%  7.0MB\r",
        "  Downloading boto-2.30.0.tar.gz (7.1MB):  99%  7.0MB\r",
        "  Downloading boto-2.30.0.tar.gz (7.1MB):  99%  7.0MB\r",
        "  Downloading boto-2.30.0.tar.gz (7.1MB):  99%  7.0MB\r",
        "  Downloading boto-2.30.0.tar.gz (7.1MB):  99%  7.0MB\r",
        "  Downloading boto-2.30.0.tar.gz (7.1MB):  99%  7.0MB\r",
        "  Downloading boto-2.30.0.tar.gz (7.1MB):  99%  7.0MB\r",
        "  Downloading boto-2.30.0.tar.gz (7.1MB):  99%  7.0MB\r",
        "  Downloading boto-2.30.0.tar.gz (7.1MB):  99%  7.1MB\r",
        "  Downloading boto-2.30.0.tar.gz (7.1MB):  99%  7.1MB\r",
        "  Downloading boto-2.30.0.tar.gz (7.1MB):  99%  7.1MB\r",
        "  Downloading boto-2.30.0.tar.gz (7.1MB):  99%  7.1MB\r",
        "  Downloading boto-2.30.0.tar.gz (7.1MB):  99%  7.1MB\r",
        "  Downloading boto-2.30.0.tar.gz (7.1MB):  99%  7.1MB\r",
        "  Downloading boto-2.30.0.tar.gz (7.1MB): 100%  7.1MB\r",
        "  Downloading boto-2.30.0.tar.gz (7.1MB):            \r",
        "  Downloading boto-2.30.0.tar.gz (7.1MB): 7.1MB downloaded\r\n"
       ]
      },
      {
       "output_type": "stream",
       "stream": "stdout",
       "text": [
        "  Running setup.py egg_info for package boto\r\n"
       ]
      },
      {
       "output_type": "stream",
       "stream": "stdout",
       "text": [
        "    \r\n"
       ]
      },
      {
       "output_type": "stream",
       "stream": "stdout",
       "text": [
        "    warning: no files found matching 'boto/mturk/test/*.doctest'\r\n"
       ]
      },
      {
       "output_type": "stream",
       "stream": "stdout",
       "text": [
        "    warning: no files found matching 'boto/mturk/test/.gitignore'\r\n"
       ]
      },
      {
       "output_type": "stream",
       "stream": "stdout",
       "text": [
        "Installing collected packages: boto\r\n",
        "  Running setup.py install for boto\r\n"
       ]
      },
      {
       "output_type": "stream",
       "stream": "stdout",
       "text": [
        "    \r\n"
       ]
      },
      {
       "output_type": "stream",
       "stream": "stdout",
       "text": [
        "    warning: no files found matching 'boto/mturk/test/*.doctest'\r\n",
        "    warning: no files found matching 'boto/mturk/test/.gitignore'\r\n"
       ]
      },
      {
       "output_type": "stream",
       "stream": "stdout",
       "text": [
        "    changing mode of build/scripts-2.7/sdbadmin from 664 to 775\r\n",
        "    changing mode of build/scripts-2.7/elbadmin from 664 to 775\r\n",
        "    changing mode of build/scripts-2.7/cfadmin from 664 to 775\r\n",
        "    changing mode of build/scripts-2.7/s3put from 664 to 775\r\n",
        "    changing mode of build/scripts-2.7/fetch_file from 664 to 775\r\n",
        "    changing mode of build/scripts-2.7/launch_instance from 664 to 775\r\n",
        "    changing mode of build/scripts-2.7/list_instances from 664 to 775\r\n",
        "    changing mode of build/scripts-2.7/taskadmin from 664 to 775\r\n",
        "    changing mode of build/scripts-2.7/kill_instance from 664 to 775\r\n",
        "    changing mode of build/scripts-2.7/bundle_image from 664 to 775\r\n",
        "    changing mode of build/scripts-2.7/pyami_sendmail from 664 to 775\r\n",
        "    changing mode of build/scripts-2.7/lss3 from 664 to 775\r\n",
        "    changing mode of build/scripts-2.7/cq from 664 to 775\r\n",
        "    changing mode of build/scripts-2.7/route53 from 664 to 775\r\n",
        "    changing mode of build/scripts-2.7/cwutil from 664 to 775\r\n",
        "    changing mode of build/scripts-2.7/instance_events from 664 to 775\r\n",
        "    changing mode of build/scripts-2.7/asadmin from 664 to 775\r\n",
        "    changing mode of build/scripts-2.7/glacier from 664 to 775\r\n",
        "    changing mode of build/scripts-2.7/mturk from 664 to 775\r\n",
        "    changing mode of build/scripts-2.7/dynamodb_dump from 664 to 775\r\n",
        "    changing mode of build/scripts-2.7/dynamodb_load from 664 to 775\r\n",
        "    error: could not create '/usr/lib/python2.7/site-packages/boto': Permission denied\r\n",
        "    Complete output from command /usr/bin/python -c \"import setuptools;__file__='/tmp/pip_build_io/boto/setup.py';exec(compile(open(__file__).read().replace('\\r\\n', '\\n'), __file__, 'exec'))\" install --record /tmp/pip-fE_puQ-record/install-record.txt --single-version-externally-managed:\r\n",
        "    running install\r\n",
        "\r\n",
        "running build\r\n",
        "\r\n",
        "running build_py\r\n",
        "\r\n",
        "creating build\r\n",
        "\r\n",
        "creating build/lib\r\n",
        "\r\n",
        "creating build/lib/boto\r\n",
        "\r\n",
        "copying boto/utils.py -> build/lib/boto\r\n",
        "\r\n",
        "copying boto/storage_uri.py -> build/lib/boto\r\n",
        "\r\n",
        "copying boto/resultset.py -> build/lib/boto\r\n",
        "\r\n",
        "copying boto/requestlog.py -> build/lib/boto\r\n",
        "\r\n",
        "copying boto/regioninfo.py -> build/lib/boto\r\n",
        "\r\n",
        "copying boto/provider.py -> build/lib/boto\r\n",
        "\r\n",
        "copying boto/plugin.py -> build/lib/boto\r\n",
        "\r\n",
        "copying boto/jsonresponse.py -> build/lib/boto\r\n",
        "\r\n",
        "copying boto/https_connection.py -> build/lib/boto\r\n",
        "\r\n",
        "copying boto/handler.py -> build/lib/boto\r\n",
        "\r\n",
        "copying boto/exception.py -> build/lib/boto\r\n",
        "\r\n",
        "copying boto/connection.py -> build/lib/boto\r\n",
        "\r\n",
        "copying boto/compat.py -> build/lib/boto\r\n",
        "\r\n",
        "copying boto/auth_handler.py -> build/lib/boto\r\n",
        "\r\n",
        "copying boto/auth.py -> build/lib/boto\r\n",
        "\r\n",
        "copying boto/__init__.py -> build/lib/boto\r\n",
        "\r\n",
        "creating build/lib/boto/sqs\r\n",
        "\r\n",
        "copying boto/sqs/regioninfo.py -> build/lib/boto/sqs\r\n",
        "\r\n",
        "copying boto/sqs/queue.py -> build/lib/boto/sqs\r\n",
        "\r\n",
        "copying boto/sqs/messageattributes.py -> build/lib/boto/sqs\r\n",
        "\r\n",
        "copying boto/sqs/message.py -> build/lib/boto/sqs\r\n",
        "\r\n",
        "copying boto/sqs/jsonmessage.py -> build/lib/boto/sqs\r\n",
        "\r\n",
        "copying boto/sqs/connection.py -> build/lib/boto/sqs\r\n",
        "\r\n",
        "copying boto/sqs/bigmessage.py -> build/lib/boto/sqs\r\n",
        "\r\n",
        "copying boto/sqs/batchresults.py -> build/lib/boto/sqs\r\n",
        "\r\n",
        "copying boto/sqs/attributes.py -> build/lib/boto/sqs\r\n",
        "\r\n",
        "copying boto/sqs/__init__.py -> build/lib/boto/sqs\r\n",
        "\r\n",
        "creating build/lib/boto/s3\r\n",
        "\r\n",
        "copying boto/s3/website.py -> build/lib/boto/s3\r\n",
        "\r\n",
        "copying boto/s3/user.py -> build/lib/boto/s3\r\n",
        "\r\n",
        "copying boto/s3/tagging.py -> build/lib/boto/s3\r\n",
        "\r\n",
        "copying boto/s3/resumable_download_handler.py -> build/lib/boto/s3\r\n",
        "\r\n",
        "copying boto/s3/prefix.py -> build/lib/boto/s3\r\n",
        "\r\n",
        "copying boto/s3/multipart.py -> build/lib/boto/s3\r\n",
        "\r\n",
        "copying boto/s3/multidelete.py -> build/lib/boto/s3\r\n",
        "\r\n",
        "copying boto/s3/lifecycle.py -> build/lib/boto/s3\r\n",
        "\r\n",
        "copying boto/s3/keyfile.py -> build/lib/boto/s3\r\n",
        "\r\n",
        "copying boto/s3/key.py -> build/lib/boto/s3\r\n",
        "\r\n",
        "copying boto/s3/deletemarker.py -> build/lib/boto/s3\r\n",
        "\r\n",
        "copying boto/s3/cors.py -> build/lib/boto/s3\r\n",
        "\r\n",
        "copying boto/s3/connection.py -> build/lib/boto/s3\r\n",
        "\r\n",
        "copying boto/s3/bucketlogging.py -> build/lib/boto/s3\r\n",
        "\r\n",
        "copying boto/s3/bucketlistresultset.py -> build/lib/boto/s3\r\n",
        "\r\n",
        "copying boto/s3/bucket.py -> build/lib/boto/s3\r\n",
        "\r\n",
        "copying boto/s3/acl.py -> build/lib/boto/s3\r\n",
        "\r\n",
        "copying boto/s3/__init__.py -> build/lib/boto/s3\r\n",
        "\r\n",
        "creating build/lib/boto/gs\r\n",
        "\r\n",
        "copying boto/gs/user.py -> build/lib/boto/gs\r\n",
        "\r\n",
        "copying boto/gs/resumable_upload_handler.py -> build/lib/boto/gs\r\n",
        "\r\n",
        "copying boto/gs/lifecycle.py -> build/lib/boto/gs\r\n",
        "\r\n",
        "copying boto/gs/key.py -> build/lib/boto/gs\r\n",
        "\r\n",
        "copying boto/gs/cors.py -> build/lib/boto/gs\r\n",
        "\r\n",
        "copying boto/gs/connection.py -> build/lib/boto/gs\r\n",
        "\r\n",
        "copying boto/gs/bucketlistresultset.py -> build/lib/boto/gs\r\n",
        "\r\n",
        "copying boto/gs/bucket.py -> build/lib/boto/gs\r\n",
        "\r\n",
        "copying boto/gs/acl.py -> build/lib/boto/gs\r\n",
        "\r\n",
        "copying boto/gs/__init__.py -> build/lib/boto/gs\r\n",
        "\r\n",
        "creating build/lib/boto/file\r\n",
        "\r\n",
        "copying boto/file/simpleresultset.py -> build/lib/boto/file\r\n",
        "\r\n",
        "copying boto/file/key.py -> build/lib/boto/file\r\n",
        "\r\n",
        "copying boto/file/connection.py -> build/lib/boto/file\r\n",
        "\r\n",
        "copying boto/file/bucket.py -> build/lib/boto/file\r\n",
        "\r\n",
        "copying boto/file/__init__.py -> build/lib/boto/file\r\n",
        "\r\n",
        "creating build/lib/boto/ec2\r\n",
        "\r\n",
        "copying boto/ec2/zone.py -> build/lib/boto/ec2\r\n",
        "\r\n",
        "copying boto/ec2/volumestatus.py -> build/lib/boto/ec2\r\n",
        "\r\n",
        "copying boto/ec2/volume.py -> build/lib/boto/ec2\r\n",
        "\r\n",
        "copying boto/ec2/tag.py -> build/lib/boto/ec2\r\n",
        "\r\n",
        "copying boto/ec2/spotpricehistory.py -> build/lib/boto/ec2\r\n",
        "\r\n",
        "copying boto/ec2/spotinstancerequest.py -> build/lib/boto/ec2\r\n",
        "\r\n",
        "copying boto/ec2/spotdatafeedsubscription.py -> build/lib/boto/ec2\r\n",
        "\r\n",
        "copying boto/ec2/snapshot.py -> build/lib/boto/ec2\r\n",
        "\r\n",
        "copying boto/ec2/securitygroup.py -> build/lib/boto/ec2\r\n",
        "\r\n",
        "copying boto/ec2/reservedinstance.py -> build/lib/boto/ec2\r\n",
        "\r\n",
        "copying boto/ec2/regioninfo.py -> build/lib/boto/ec2\r\n",
        "\r\n",
        "copying boto/ec2/placementgroup.py -> build/lib/boto/ec2\r\n",
        "\r\n",
        "copying boto/ec2/networkinterface.py -> build/lib/boto/ec2\r\n",
        "\r\n",
        "copying boto/ec2/launchspecification.py -> build/lib/boto/ec2\r\n",
        "\r\n",
        "copying boto/ec2/keypair.py -> build/lib/boto/ec2\r\n",
        "\r\n",
        "copying boto/ec2/instancetype.py -> build/lib/boto/ec2\r\n",
        "\r\n",
        "copying boto/ec2/instancestatus.py -> build/lib/boto/ec2\r\n",
        "\r\n",
        "copying boto/ec2/instanceinfo.py -> build/lib/boto/ec2\r\n",
        "\r\n",
        "copying boto/ec2/instance.py -> build/lib/boto/ec2\r\n",
        "\r\n",
        "copying boto/ec2/image.py -> build/lib/boto/ec2\r\n",
        "\r\n",
        "copying boto/ec2/group.py -> build/lib/boto/ec2\r\n",
        "\r\n",
        "copying boto/ec2/ec2object.py -> build/lib/boto/ec2\r\n",
        "\r\n",
        "copying boto/ec2/connection.py -> build/lib/boto/ec2\r\n",
        "\r\n",
        "copying boto/ec2/buyreservation.py -> build/lib/boto/ec2\r\n",
        "\r\n",
        "copying boto/ec2/bundleinstance.py -> build/lib/boto/ec2\r\n",
        "\r\n",
        "copying boto/ec2/blockdevicemapping.py -> build/lib/boto/ec2\r\n",
        "\r\n",
        "copying boto/ec2/attributes.py -> build/lib/boto/ec2\r\n",
        "\r\n",
        "copying boto/ec2/address.py -> build/lib/boto/ec2\r\n",
        "\r\n",
        "copying boto/ec2/__init__.py -> build/lib/boto/ec2\r\n",
        "\r\n",
        "creating build/lib/boto/ec2/cloudwatch\r\n",
        "\r\n",
        "copying boto/ec2/cloudwatch/metric.py -> build/lib/boto/ec2/cloudwatch\r\n",
        "\r\n",
        "copying boto/ec2/cloudwatch/listelement.py -> build/lib/boto/ec2/cloudwatch\r\n",
        "\r\n",
        "copying boto/ec2/cloudwatch/dimension.py -> build/lib/boto/ec2/cloudwatch\r\n",
        "\r\n",
        "copying boto/ec2/cloudwatch/datapoint.py -> build/lib/boto/ec2/cloudwatch\r\n",
        "\r\n",
        "copying boto/ec2/cloudwatch/alarm.py -> build/lib/boto/ec2/cloudwatch\r\n",
        "\r\n",
        "copying boto/ec2/cloudwatch/__init__.py -> build/lib/boto/ec2/cloudwatch\r\n",
        "\r\n",
        "creating build/lib/boto/ec2/autoscale\r\n",
        "\r\n",
        "copying boto/ec2/autoscale/tag.py -> build/lib/boto/ec2/autoscale\r\n",
        "\r\n",
        "copying boto/ec2/autoscale/scheduled.py -> build/lib/boto/ec2/autoscale\r\n",
        "\r\n",
        "copying boto/ec2/autoscale/request.py -> build/lib/boto/ec2/autoscale\r\n",
        "\r\n",
        "copying boto/ec2/autoscale/policy.py -> build/lib/boto/ec2/autoscale\r\n",
        "\r\n",
        "copying boto/ec2/autoscale/limits.py -> build/lib/boto/ec2/autoscale\r\n",
        "\r\n",
        "copying boto/ec2/autoscale/launchconfig.py -> build/lib/boto/ec2/autoscale\r\n",
        "\r\n",
        "copying boto/ec2/autoscale/instance.py -> build/lib/boto/ec2/autoscale\r\n",
        "\r\n",
        "copying boto/ec2/autoscale/group.py -> build/lib/boto/ec2/autoscale\r\n",
        "\r\n",
        "copying boto/ec2/autoscale/activity.py -> build/lib/boto/ec2/autoscale\r\n",
        "\r\n",
        "copying boto/ec2/autoscale/__init__.py -> build/lib/boto/ec2/autoscale\r\n",
        "\r\n",
        "creating build/lib/boto/ec2/elb\r\n",
        "\r\n",
        "copying boto/ec2/elb/securitygroup.py -> build/lib/boto/ec2/elb\r\n",
        "\r\n",
        "copying boto/ec2/elb/policies.py -> build/lib/boto/ec2/elb\r\n",
        "\r\n",
        "copying boto/ec2/elb/loadbalancer.py -> build/lib/boto/ec2/elb\r\n",
        "\r\n",
        "copying boto/ec2/elb/listener.py -> build/lib/boto/ec2/elb\r\n",
        "\r\n",
        "copying boto/ec2/elb/listelement.py -> build/lib/boto/ec2/elb\r\n",
        "\r\n",
        "copying boto/ec2/elb/instancestate.py -> build/lib/boto/ec2/elb\r\n",
        "\r\n",
        "copying boto/ec2/elb/healthcheck.py -> build/lib/boto/ec2/elb\r\n",
        "\r\n",
        "copying boto/ec2/elb/attributes.py -> build/lib/boto/ec2/elb\r\n",
        "\r\n",
        "copying boto/ec2/elb/__init__.py -> build/lib/boto/ec2/elb\r\n",
        "\r\n",
        "creating build/lib/boto/sdb\r\n",
        "\r\n",
        "copying boto/sdb/regioninfo.py -> build/lib/boto/sdb\r\n",
        "\r\n",
        "copying boto/sdb/queryresultset.py -> build/lib/boto/sdb\r\n",
        "\r\n",
        "copying boto/sdb/item.py -> build/lib/boto/sdb\r\n",
        "\r\n",
        "copying boto/sdb/domain.py -> build/lib/boto/sdb\r\n",
        "\r\n",
        "copying boto/sdb/connection.py -> build/lib/boto/sdb\r\n",
        "\r\n",
        "copying boto/sdb/__init__.py -> build/lib/boto/sdb\r\n",
        "\r\n",
        "creating build/lib/boto/cacerts\r\n",
        "\r\n",
        "copying boto/cacerts/__init__.py -> build/lib/boto/cacerts\r\n",
        "\r\n",
        "creating build/lib/boto/sdb/db\r\n",
        "\r\n",
        "copying boto/sdb/db/test_db.py -> build/lib/boto/sdb/db\r\n",
        "\r\n",
        "copying boto/sdb/db/sequence.py -> build/lib/boto/sdb/db\r\n",
        "\r\n",
        "copying boto/sdb/db/query.py -> build/lib/boto/sdb/db\r\n",
        "\r\n",
        "copying boto/sdb/db/property.py -> build/lib/boto/sdb/db\r\n",
        "\r\n",
        "copying boto/sdb/db/model.py -> build/lib/boto/sdb/db\r\n",
        "\r\n",
        "copying boto/sdb/db/key.py -> build/lib/boto/sdb/db\r\n",
        "\r\n",
        "copying boto/sdb/db/blob.py -> build/lib/boto/sdb/db\r\n",
        "\r\n",
        "copying boto/sdb/db/__init__.py -> build/lib/boto/sdb/db\r\n",
        "\r\n",
        "creating build/lib/boto/sdb/db/manager\r\n",
        "\r\n",
        "copying boto/sdb/db/manager/xmlmanager.py -> build/lib/boto/sdb/db/manager\r\n",
        "\r\n",
        "copying boto/sdb/db/manager/sdbmanager.py -> build/lib/boto/sdb/db/manager\r\n",
        "\r\n",
        "copying boto/sdb/db/manager/__init__.py -> build/lib/boto/sdb/db/manager\r\n",
        "\r\n",
        "creating build/lib/boto/mturk\r\n",
        "\r\n",
        "copying boto/mturk/question.py -> build/lib/boto/mturk\r\n",
        "\r\n",
        "copying boto/mturk/qualification.py -> build/lib/boto/mturk\r\n",
        "\r\n",
        "copying boto/mturk/price.py -> build/lib/boto/mturk\r\n",
        "\r\n",
        "copying boto/mturk/notification.py -> build/lib/boto/mturk\r\n",
        "\r\n",
        "copying boto/mturk/layoutparam.py -> build/lib/boto/mturk\r\n",
        "\r\n",
        "copying boto/mturk/connection.py -> build/lib/boto/mturk\r\n",
        "\r\n",
        "copying boto/mturk/__init__.py -> build/lib/boto/mturk\r\n",
        "\r\n",
        "creating build/lib/boto/pyami\r\n",
        "\r\n",
        "copying boto/pyami/startup.py -> build/lib/boto/pyami\r\n",
        "\r\n",
        "copying boto/pyami/scriptbase.py -> build/lib/boto/pyami\r\n",
        "\r\n",
        "copying boto/pyami/launch_ami.py -> build/lib/boto/pyami\r\n",
        "\r\n",
        "copying boto/pyami/helloworld.py -> build/lib/boto/pyami\r\n",
        "\r\n",
        "copying boto/pyami/copybot.py -> build/lib/boto/pyami\r\n",
        "\r\n",
        "copying boto/pyami/config.py -> build/lib/boto/pyami\r\n",
        "\r\n",
        "copying boto/pyami/bootstrap.py -> build/lib/boto/pyami\r\n",
        "\r\n",
        "copying boto/pyami/__init__.py -> build/lib/boto/pyami\r\n",
        "\r\n",
        "creating build/lib/boto/pyami/installers\r\n",
        "\r\n",
        "copying boto/pyami/installers/__init__.py -> build/lib/boto/pyami/installers\r\n",
        "\r\n",
        "creating build/lib/boto/pyami/installers/ubuntu\r\n",
        "\r\n",
        "copying boto/pyami/installers/ubuntu/trac.py -> build/lib/boto/pyami/installers/ubuntu\r\n",
        "\r\n",
        "copying boto/pyami/installers/ubuntu/mysql.py -> build/lib/boto/pyami/installers/ubuntu\r\n",
        "\r\n",
        "copying boto/pyami/installers/ubuntu/installer.py -> build/lib/boto/pyami/installers/ubuntu\r\n",
        "\r\n",
        "copying boto/pyami/installers/ubuntu/ebs.py -> build/lib/boto/pyami/installers/ubuntu\r\n",
        "\r\n",
        "copying boto/pyami/installers/ubuntu/apache.py -> build/lib/boto/pyami/installers/ubuntu\r\n",
        "\r\n",
        "copying boto/pyami/installers/ubuntu/__init__.py -> build/lib/boto/pyami/installers/ubuntu\r\n",
        "\r\n",
        "creating build/lib/boto/mashups\r\n",
        "\r\n",
        "copying boto/mashups/server.py -> build/lib/boto/mashups\r\n",
        "\r\n",
        "copying boto/mashups/order.py -> build/lib/boto/mashups\r\n",
        "\r\n",
        "copying boto/mashups/iobject.py -> build/lib/boto/mashups\r\n",
        "\r\n",
        "copying boto/mashups/interactive.py -> build/lib/boto/mashups\r\n",
        "\r\n",
        "copying boto/mashups/__init__.py -> build/lib/boto/mashups\r\n",
        "\r\n",
        "creating build/lib/boto/contrib\r\n",
        "\r\n",
        "copying boto/contrib/ymlmessage.py -> build/lib/boto/contrib\r\n",
        "\r\n",
        "copying boto/contrib/__init__.py -> build/lib/boto/contrib\r\n",
        "\r\n",
        "creating build/lib/boto/manage\r\n",
        "\r\n",
        "copying boto/manage/volume.py -> build/lib/boto/manage\r\n",
        "\r\n",
        "copying boto/manage/test_manage.py -> build/lib/boto/manage\r\n",
        "\r\n",
        "copying boto/manage/task.py -> build/lib/boto/manage\r\n",
        "\r\n",
        "copying boto/manage/server.py -> build/lib/boto/manage\r\n",
        "\r\n",
        "copying boto/manage/propget.py -> build/lib/boto/manage\r\n",
        "\r\n",
        "copying boto/manage/cmdshell.py -> build/lib/boto/manage\r\n",
        "\r\n",
        "copying boto/manage/__init__.py -> build/lib/boto/manage\r\n",
        "\r\n",
        "creating build/lib/boto/services\r\n",
        "\r\n",
        "copying boto/services/submit.py -> build/lib/boto/services\r\n",
        "\r\n",
        "copying boto/services/sonofmmm.py -> build/lib/boto/services\r\n",
        "\r\n",
        "copying boto/services/servicedef.py -> build/lib/boto/services\r\n",
        "\r\n",
        "copying boto/services/service.py -> build/lib/boto/services\r\n",
        "\r\n",
        "copying boto/services/result.py -> build/lib/boto/services\r\n",
        "\r\n",
        "copying boto/services/message.py -> build/lib/boto/services\r\n",
        "\r\n",
        "copying boto/services/bs.py -> build/lib/boto/services\r\n",
        "\r\n",
        "copying boto/services/__init__.py -> build/lib/boto/services\r\n",
        "\r\n",
        "creating build/lib/boto/cloudfront\r\n",
        "\r\n",
        "copying boto/cloudfront/signers.py -> build/lib/boto/cloudfront\r\n",
        "\r\n",
        "copying boto/cloudfront/origin.py -> build/lib/boto/cloudfront\r\n",
        "\r\n",
        "copying boto/cloudfront/object.py -> build/lib/boto/cloudfront\r\n",
        "\r\n",
        "copying boto/cloudfront/logging.py -> build/lib/boto/cloudfront\r\n",
        "\r\n",
        "copying boto/cloudfront/invalidation.py -> build/lib/boto/cloudfront\r\n",
        "\r\n",
        "copying boto/cloudfront/identity.py -> build/lib/boto/cloudfront\r\n",
        "\r\n",
        "copying boto/cloudfront/exception.py -> build/lib/boto/cloudfront\r\n",
        "\r\n",
        "copying boto/cloudfront/distribution.py -> build/lib/boto/cloudfront\r\n",
        "\r\n",
        "copying boto/cloudfront/__init__.py -> build/lib/boto/cloudfront\r\n",
        "\r\n",
        "creating build/lib/boto/roboto\r\n",
        "\r\n",
        "copying boto/roboto/param.py -> build/lib/boto/roboto\r\n",
        "\r\n",
        "copying boto/roboto/awsqueryservice.py -> build/lib/boto/roboto\r\n",
        "\r\n",
        "copying boto/roboto/awsqueryrequest.py -> build/lib/boto/roboto\r\n",
        "\r\n",
        "copying boto/roboto/__init__.py -> build/lib/boto/roboto\r\n",
        "\r\n",
        "creating build/lib/boto/rds\r\n",
        "\r\n",
        "copying boto/rds/vpcsecuritygroupmembership.py -> build/lib/boto/rds\r\n",
        "\r\n",
        "copying boto/rds/statusinfo.py -> build/lib/boto/rds\r\n",
        "\r\n",
        "copying boto/rds/regioninfo.py -> build/lib/boto/rds\r\n",
        "\r\n",
        "copying boto/rds/parametergroup.py -> build/lib/boto/rds\r\n",
        "\r\n",
        "copying boto/rds/optiongroup.py -> build/lib/boto/rds\r\n",
        "\r\n",
        "copying boto/rds/logfile.py -> build/lib/boto/rds\r\n",
        "\r\n",
        "copying boto/rds/event.py -> build/lib/boto/rds\r\n",
        "\r\n",
        "copying boto/rds/dbsubnetgroup.py -> build/lib/boto/rds\r\n",
        "\r\n",
        "copying boto/rds/dbsnapshot.py -> build/lib/boto/rds\r\n",
        "\r\n",
        "copying boto/rds/dbsecuritygroup.py -> build/lib/boto/rds\r\n",
        "\r\n",
        "copying boto/rds/dbinstance.py -> build/lib/boto/rds\r\n",
        "\r\n",
        "copying boto/rds/__init__.py -> build/lib/boto/rds\r\n",
        "\r\n",
        "creating build/lib/boto/vpc\r\n",
        "\r\n",
        "copying boto/vpc/vpngateway.py -> build/lib/boto/vpc\r\n",
        "\r\n",
        "copying boto/vpc/vpnconnection.py -> build/lib/boto/vpc\r\n",
        "\r\n",
        "copying boto/vpc/vpc.py -> build/lib/boto/vpc\r\n",
        "\r\n",
        "copying boto/vpc/subnet.py -> build/lib/boto/vpc\r\n",
        "\r\n",
        "copying boto/vpc/routetable.py -> build/lib/boto/vpc\r\n",
        "\r\n",
        "copying boto/vpc/networkacl.py -> build/lib/boto/vpc\r\n",
        "\r\n",
        "copying boto/vpc/internetgateway.py -> build/lib/boto/vpc\r\n",
        "\r\n",
        "copying boto/vpc/dhcpoptions.py -> build/lib/boto/vpc\r\n",
        "\r\n",
        "copying boto/vpc/customergateway.py -> build/lib/boto/vpc\r\n",
        "\r\n",
        "copying boto/vpc/__init__.py -> build/lib/boto/vpc\r\n",
        "\r\n",
        "creating build/lib/boto/fps\r\n",
        "\r\n",
        "copying boto/fps/response.py -> build/lib/boto/fps\r\n",
        "\r\n",
        "copying boto/fps/exception.py -> build/lib/boto/fps\r\n",
        "\r\n",
        "copying boto/fps/connection.py -> build/lib/boto/fps\r\n",
        "\r\n",
        "copying boto/fps/__init__.py -> build/lib/boto/fps\r\n",
        "\r\n",
        "creating build/lib/boto/emr\r\n",
        "\r\n",
        "copying boto/emr/step.py -> build/lib/boto/emr\r\n",
        "\r\n",
        "copying boto/emr/instance_group.py -> build/lib/boto/emr\r\n",
        "\r\n",
        "copying boto/emr/emrobject.py -> build/lib/boto/emr\r\n",
        "\r\n",
        "copying boto/emr/connection.py -> build/lib/boto/emr\r\n",
        "\r\n",
        "copying boto/emr/bootstrap_action.py -> build/lib/boto/emr\r\n",
        "\r\n",
        "copying boto/emr/__init__.py -> build/lib/boto/emr\r\n",
        "\r\n",
        "creating build/lib/boto/sns\r\n",
        "\r\n",
        "copying boto/sns/connection.py -> build/lib/boto/sns\r\n",
        "\r\n",
        "copying boto/sns/__init__.py -> build/lib/boto/sns\r\n",
        "\r\n",
        "creating build/lib/boto/ecs\r\n",
        "\r\n",
        "copying boto/ecs/item.py -> build/lib/boto/ecs\r\n",
        "\r\n",
        "copying boto/ecs/__init__.py -> build/lib/boto/ecs\r\n",
        "\r\n",
        "creating build/lib/boto/iam\r\n",
        "\r\n",
        "copying boto/iam/summarymap.py -> build/lib/boto/iam\r\n",
        "\r\n",
        "copying boto/iam/connection.py -> build/lib/boto/iam\r\n",
        "\r\n",
        "copying boto/iam/__init__.py -> build/lib/boto/iam\r\n",
        "\r\n",
        "creating build/lib/boto/route53\r\n",
        "\r\n",
        "copying boto/route53/zone.py -> build/lib/boto/route53\r\n",
        "\r\n",
        "copying boto/route53/status.py -> build/lib/boto/route53\r\n",
        "\r\n",
        "copying boto/route53/record.py -> build/lib/boto/route53\r\n",
        "\r\n",
        "copying boto/route53/hostedzone.py -> build/lib/boto/route53\r\n",
        "\r\n",
        "copying boto/route53/healthcheck.py -> build/lib/boto/route53\r\n",
        "\r\n",
        "copying boto/route53/exception.py -> build/lib/boto/route53\r\n",
        "\r\n",
        "copying boto/route53/connection.py -> build/lib/boto/route53\r\n",
        "\r\n",
        "copying boto/route53/__init__.py -> build/lib/boto/route53\r\n",
        "\r\n",
        "creating build/lib/boto/ses\r\n",
        "\r\n",
        "copying boto/ses/exceptions.py -> build/lib/boto/ses\r\n",
        "\r\n",
        "copying boto/ses/connection.py -> build/lib/boto/ses\r\n",
        "\r\n",
        "copying boto/ses/__init__.py -> build/lib/boto/ses\r\n",
        "\r\n",
        "creating build/lib/boto/cloudformation\r\n",
        "\r\n",
        "copying boto/cloudformation/template.py -> build/lib/boto/cloudformation\r\n",
        "\r\n",
        "copying boto/cloudformation/stack.py -> build/lib/boto/cloudformation\r\n",
        "\r\n",
        "copying boto/cloudformation/connection.py -> build/lib/boto/cloudformation\r\n",
        "\r\n",
        "copying boto/cloudformation/__init__.py -> build/lib/boto/cloudformation\r\n",
        "\r\n",
        "creating build/lib/boto/sts\r\n",
        "\r\n",
        "copying boto/sts/credentials.py -> build/lib/boto/sts\r\n",
        "\r\n",
        "copying boto/sts/connection.py -> build/lib/boto/sts\r\n",
        "\r\n",
        "copying boto/sts/__init__.py -> build/lib/boto/sts\r\n",
        "\r\n",
        "creating build/lib/boto/dynamodb\r\n",
        "\r\n",
        "copying boto/dynamodb/types.py -> build/lib/boto/dynamodb\r\n",
        "\r\n",
        "copying boto/dynamodb/table.py -> build/lib/boto/dynamodb\r\n",
        "\r\n",
        "copying boto/dynamodb/schema.py -> build/lib/boto/dynamodb\r\n",
        "\r\n",
        "copying boto/dynamodb/layer2.py -> build/lib/boto/dynamodb\r\n",
        "\r\n",
        "copying boto/dynamodb/layer1.py -> build/lib/boto/dynamodb\r\n",
        "\r\n",
        "copying boto/dynamodb/item.py -> build/lib/boto/dynamodb\r\n",
        "\r\n",
        "copying boto/dynamodb/exceptions.py -> build/lib/boto/dynamodb\r\n",
        "\r\n",
        "copying boto/dynamodb/condition.py -> build/lib/boto/dynamodb\r\n",
        "\r\n",
        "copying boto/dynamodb/batch.py -> build/lib/boto/dynamodb\r\n",
        "\r\n",
        "copying boto/dynamodb/__init__.py -> build/lib/boto/dynamodb\r\n",
        "\r\n",
        "creating build/lib/boto/swf\r\n",
        "\r\n",
        "copying boto/swf/layer2.py -> build/lib/boto/swf\r\n",
        "\r\n",
        "copying boto/swf/layer1_decisions.py -> build/lib/boto/swf\r\n",
        "\r\n",
        "copying boto/swf/layer1.py -> build/lib/boto/swf\r\n",
        "\r\n",
        "copying boto/swf/exceptions.py -> build/lib/boto/swf\r\n",
        "\r\n",
        "copying boto/swf/__init__.py -> build/lib/boto/swf\r\n",
        "\r\n",
        "creating build/lib/boto/mws\r\n",
        "\r\n",
        "copying boto/mws/response.py -> build/lib/boto/mws\r\n",
        "\r\n",
        "copying boto/mws/exception.py -> build/lib/boto/mws\r\n",
        "\r\n",
        "copying boto/mws/connection.py -> build/lib/boto/mws\r\n",
        "\r\n",
        "copying boto/mws/__init__.py -> build/lib/boto/mws\r\n",
        "\r\n",
        "creating build/lib/boto/cloudsearch\r\n",
        "\r\n",
        "copying boto/cloudsearch/sourceattribute.py -> build/lib/boto/cloudsearch\r\n",
        "\r\n",
        "copying boto/cloudsearch/search.py -> build/lib/boto/cloudsearch\r\n",
        "\r\n",
        "copying boto/cloudsearch/optionstatus.py -> build/lib/boto/cloudsearch\r\n",
        "\r\n",
        "copying boto/cloudsearch/layer2.py -> build/lib/boto/cloudsearch\r\n",
        "\r\n",
        "copying boto/cloudsearch/layer1.py -> build/lib/boto/cloudsearch\r\n",
        "\r\n",
        "copying boto/cloudsearch/domain.py -> build/lib/boto/cloudsearch\r\n",
        "\r\n",
        "copying boto/cloudsearch/document.py -> build/lib/boto/cloudsearch\r\n",
        "\r\n",
        "copying boto/cloudsearch/__init__.py -> build/lib/boto/cloudsearch\r\n",
        "\r\n",
        "creating build/lib/boto/glacier\r\n",
        "\r\n",
        "copying boto/glacier/writer.py -> build/lib/boto/glacier\r\n",
        "\r\n",
        "copying boto/glacier/vault.py -> build/lib/boto/glacier\r\n",
        "\r\n",
        "copying boto/glacier/utils.py -> build/lib/boto/glacier\r\n",
        "\r\n",
        "copying boto/glacier/response.py -> build/lib/boto/glacier\r\n",
        "\r\n",
        "copying boto/glacier/layer2.py -> build/lib/boto/glacier\r\n",
        "\r\n",
        "copying boto/glacier/layer1.py -> build/lib/boto/glacier\r\n",
        "\r\n",
        "copying boto/glacier/job.py -> build/lib/boto/glacier\r\n",
        "\r\n",
        "copying boto/glacier/exceptions.py -> build/lib/boto/glacier\r\n",
        "\r\n",
        "copying boto/glacier/concurrent.py -> build/lib/boto/glacier\r\n",
        "\r\n",
        "copying boto/glacier/__init__.py -> build/lib/boto/glacier\r\n",
        "\r\n",
        "creating build/lib/boto/beanstalk\r\n",
        "\r\n",
        "copying boto/beanstalk/wrapper.py -> build/lib/boto/beanstalk\r\n",
        "\r\n",
        "copying boto/beanstalk/response.py -> build/lib/boto/beanstalk\r\n",
        "\r\n",
        "copying boto/beanstalk/layer1.py -> build/lib/boto/beanstalk\r\n",
        "\r\n",
        "copying boto/beanstalk/exception.py -> build/lib/boto/beanstalk\r\n",
        "\r\n",
        "copying boto/beanstalk/__init__.py -> build/lib/boto/beanstalk\r\n",
        "\r\n",
        "creating build/lib/boto/datapipeline\r\n",
        "\r\n",
        "copying boto/datapipeline/layer1.py -> build/lib/boto/datapipeline\r\n",
        "\r\n",
        "copying boto/datapipeline/exceptions.py -> build/lib/boto/datapipeline\r\n",
        "\r\n",
        "copying boto/datapipeline/__init__.py -> build/lib/boto/datapipeline\r\n",
        "\r\n",
        "creating build/lib/boto/elasticache\r\n",
        "\r\n",
        "copying boto/elasticache/layer1.py -> build/lib/boto/elasticache\r\n",
        "\r\n",
        "copying boto/elasticache/__init__.py -> build/lib/boto/elasticache\r\n",
        "\r\n",
        "creating build/lib/boto/elastictranscoder\r\n",
        "\r\n",
        "copying boto/elastictranscoder/layer1.py -> build/lib/boto/elastictranscoder\r\n",
        "\r\n",
        "copying boto/elastictranscoder/exceptions.py -> build/lib/boto/elastictranscoder\r\n",
        "\r\n",
        "copying boto/elastictranscoder/__init__.py -> build/lib/boto/elastictranscoder\r\n",
        "\r\n",
        "creating build/lib/boto/opsworks\r\n",
        "\r\n",
        "copying boto/opsworks/layer1.py -> build/lib/boto/opsworks\r\n",
        "\r\n",
        "copying boto/opsworks/exceptions.py -> build/lib/boto/opsworks\r\n",
        "\r\n",
        "copying boto/opsworks/__init__.py -> build/lib/boto/opsworks\r\n",
        "\r\n",
        "creating build/lib/boto/redshift\r\n",
        "\r\n",
        "copying boto/redshift/layer1.py -> build/lib/boto/redshift\r\n",
        "\r\n",
        "copying boto/redshift/exceptions.py -> build/lib/boto/redshift\r\n",
        "\r\n",
        "copying boto/redshift/__init__.py -> build/lib/boto/redshift\r\n",
        "\r\n",
        "creating build/lib/boto/dynamodb2\r\n",
        "\r\n",
        "copying boto/dynamodb2/types.py -> build/lib/boto/dynamodb2\r\n",
        "\r\n",
        "copying boto/dynamodb2/table.py -> build/lib/boto/dynamodb2\r\n",
        "\r\n",
        "copying boto/dynamodb2/results.py -> build/lib/boto/dynamodb2\r\n",
        "\r\n",
        "copying boto/dynamodb2/layer1.py -> build/lib/boto/dynamodb2\r\n",
        "\r\n",
        "copying boto/dynamodb2/items.py -> build/lib/boto/dynamodb2\r\n",
        "\r\n",
        "copying boto/dynamodb2/fields.py -> build/lib/boto/dynamodb2\r\n",
        "\r\n",
        "copying boto/dynamodb2/exceptions.py -> build/lib/boto/dynamodb2\r\n",
        "\r\n",
        "copying boto/dynamodb2/__init__.py -> build/lib/boto/dynamodb2\r\n",
        "\r\n",
        "creating build/lib/boto/support\r\n",
        "\r\n",
        "copying boto/support/layer1.py -> build/lib/boto/support\r\n",
        "\r\n",
        "copying boto/support/exceptions.py -> build/lib/boto/support\r\n",
        "\r\n",
        "copying boto/support/__init__.py -> build/lib/boto/support\r\n",
        "\r\n",
        "creating build/lib/boto/cloudtrail\r\n",
        "\r\n",
        "copying boto/cloudtrail/layer1.py -> build/lib/boto/cloudtrail\r\n",
        "\r\n",
        "copying boto/cloudtrail/exceptions.py -> build/lib/boto/cloudtrail\r\n",
        "\r\n",
        "copying boto/cloudtrail/__init__.py -> build/lib/boto/cloudtrail\r\n",
        "\r\n",
        "creating build/lib/boto/directconnect\r\n",
        "\r\n",
        "copying boto/directconnect/layer1.py -> build/lib/boto/directconnect\r\n",
        "\r\n",
        "copying boto/directconnect/exceptions.py -> build/lib/boto/directconnect\r\n",
        "\r\n",
        "copying boto/directconnect/__init__.py -> build/lib/boto/directconnect\r\n",
        "\r\n",
        "creating build/lib/boto/kinesis\r\n",
        "\r\n",
        "copying boto/kinesis/layer1.py -> build/lib/boto/kinesis\r\n",
        "\r\n",
        "copying boto/kinesis/exceptions.py -> build/lib/boto/kinesis\r\n",
        "\r\n",
        "copying boto/kinesis/__init__.py -> build/lib/boto/kinesis\r\n",
        "\r\n",
        "creating build/lib/boto/rds2\r\n",
        "\r\n",
        "copying boto/rds2/layer1.py -> build/lib/boto/rds2\r\n",
        "\r\n",
        "copying boto/rds2/exceptions.py -> build/lib/boto/rds2\r\n",
        "\r\n",
        "copying boto/rds2/__init__.py -> build/lib/boto/rds2\r\n",
        "\r\n",
        "creating build/lib/boto/cloudsearch2\r\n",
        "\r\n",
        "copying boto/cloudsearch2/search.py -> build/lib/boto/cloudsearch2\r\n",
        "\r\n",
        "copying boto/cloudsearch2/optionstatus.py -> build/lib/boto/cloudsearch2\r\n",
        "\r\n",
        "copying boto/cloudsearch2/layer2.py -> build/lib/boto/cloudsearch2\r\n",
        "\r\n",
        "copying boto/cloudsearch2/layer1.py -> build/lib/boto/cloudsearch2\r\n",
        "\r\n",
        "copying boto/cloudsearch2/exceptions.py -> build/lib/boto/cloudsearch2\r\n",
        "\r\n",
        "copying boto/cloudsearch2/domain.py -> build/lib/boto/cloudsearch2\r\n",
        "\r\n",
        "copying boto/cloudsearch2/document.py -> build/lib/boto/cloudsearch2\r\n",
        "\r\n",
        "copying boto/cloudsearch2/__init__.py -> build/lib/boto/cloudsearch2\r\n",
        "\r\n",
        "running egg_info\r\n",
        "\r\n",
        "writing boto.egg-info/PKG-INFO\r\n",
        "\r\n",
        "writing top-level names to boto.egg-info/top_level.txt\r\n",
        "\r\n",
        "writing dependency_links to boto.egg-info/dependency_links.txt\r\n",
        "\r\n",
        "warning: manifest_maker: standard file '-c' not found\r\n",
        "\r\n",
        "\r\n",
        "\r\n",
        "reading manifest file 'boto.egg-info/SOURCES.txt'\r\n",
        "\r\n",
        "reading manifest template 'MANIFEST.in'\r\n",
        "\r\n",
        "warning: no files found matching 'boto/mturk/test/*.doctest'\r\n",
        "\r\n",
        "warning: no files found matching 'boto/mturk/test/.gitignore'\r\n",
        "\r\n",
        "writing manifest file 'boto.egg-info/SOURCES.txt'\r\n",
        "\r\n",
        "copying boto/endpoints.json -> build/lib/boto\r\n",
        "\r\n",
        "copying boto/file/README -> build/lib/boto/file\r\n",
        "\r\n",
        "copying boto/cacerts/cacerts.txt -> build/lib/boto/cacerts\r\n",
        "\r\n",
        "copying boto/pyami/copybot.cfg -> build/lib/boto/pyami\r\n",
        "\r\n",
        "copying boto/services/sonofmmm.cfg -> build/lib/boto/services\r\n",
        "\r\n",
        "running build_scripts\r\n",
        "\r\n",
        "creating build/scripts-2.7\r\n",
        "\r\n",
        "copying and adjusting bin/sdbadmin -> build/scripts-2.7\r\n",
        "\r\n",
        "copying and adjusting bin/elbadmin -> build/scripts-2.7\r\n",
        "\r\n",
        "copying and adjusting bin/cfadmin -> build/scripts-2.7\r\n",
        "\r\n",
        "copying and adjusting bin/s3put -> build/scripts-2.7\r\n",
        "\r\n",
        "copying and adjusting bin/fetch_file -> build/scripts-2.7\r\n",
        "\r\n",
        "copying and adjusting bin/launch_instance -> build/scripts-2.7\r\n",
        "\r\n",
        "copying and adjusting bin/list_instances -> build/scripts-2.7\r\n",
        "\r\n",
        "copying and adjusting bin/taskadmin -> build/scripts-2.7\r\n",
        "\r\n",
        "copying and adjusting bin/kill_instance -> build/scripts-2.7\r\n",
        "\r\n",
        "copying and adjusting bin/bundle_image -> build/scripts-2.7\r\n",
        "\r\n",
        "copying and adjusting bin/pyami_sendmail -> build/scripts-2.7\r\n",
        "\r\n",
        "copying and adjusting bin/lss3 -> build/scripts-2.7\r\n",
        "\r\n",
        "copying and adjusting bin/cq -> build/scripts-2.7\r\n",
        "\r\n",
        "copying and adjusting bin/route53 -> build/scripts-2.7\r\n",
        "\r\n",
        "copying and adjusting bin/cwutil -> build/scripts-2.7\r\n",
        "\r\n",
        "copying and adjusting bin/instance_events -> build/scripts-2.7\r\n",
        "\r\n",
        "copying and adjusting bin/asadmin -> build/scripts-2.7\r\n",
        "\r\n",
        "copying and adjusting bin/glacier -> build/scripts-2.7\r\n",
        "\r\n",
        "copying and adjusting bin/mturk -> build/scripts-2.7\r\n",
        "\r\n",
        "copying and adjusting bin/dynamodb_dump -> build/scripts-2.7\r\n",
        "\r\n",
        "copying and adjusting bin/dynamodb_load -> build/scripts-2.7\r\n",
        "\r\n",
        "changing mode of build/scripts-2.7/sdbadmin from 664 to 775\r\n",
        "\r\n",
        "changing mode of build/scripts-2.7/elbadmin from 664 to 775\r\n",
        "\r\n",
        "changing mode of build/scripts-2.7/cfadmin from 664 to 775\r\n",
        "\r\n",
        "changing mode of build/scripts-2.7/s3put from 664 to 775\r\n",
        "\r\n",
        "changing mode of build/scripts-2.7/fetch_file from 664 to 775\r\n",
        "\r\n",
        "changing mode of build/scripts-2.7/launch_instance from 664 to 775\r\n",
        "\r\n",
        "changing mode of build/scripts-2.7/list_instances from 664 to 775\r\n",
        "\r\n",
        "changing mode of build/scripts-2.7/taskadmin from 664 to 775\r\n",
        "\r\n",
        "changing mode of build/scripts-2.7/kill_instance from 664 to 775\r\n",
        "\r\n",
        "changing mode of build/scripts-2.7/bundle_image from 664 to 775\r\n",
        "\r\n",
        "changing mode of build/scripts-2.7/pyami_sendmail from 664 to 775\r\n",
        "\r\n",
        "changing mode of build/scripts-2.7/lss3 from 664 to 775\r\n",
        "\r\n",
        "changing mode of build/scripts-2.7/cq from 664 to 775\r\n",
        "\r\n",
        "changing mode of build/scripts-2.7/route53 from 664 to 775\r\n",
        "\r\n",
        "changing mode of build/scripts-2.7/cwutil from 664 to 775\r\n",
        "\r\n",
        "changing mode of build/scripts-2.7/instance_events from 664 to 775\r\n",
        "\r\n",
        "changing mode of build/scripts-2.7/asadmin from 664 to 775\r\n",
        "\r\n",
        "changing mode of build/scripts-2.7/glacier from 664 to 775\r\n",
        "\r\n",
        "changing mode of build/scripts-2.7/mturk from 664 to 775\r\n",
        "\r\n",
        "changing mode of build/scripts-2.7/dynamodb_dump from 664 to 775\r\n",
        "\r\n",
        "changing mode of build/scripts-2.7/dynamodb_load from 664 to 775\r\n",
        "\r\n",
        "running install_lib\r\n",
        "\r\n",
        "creating /usr/lib/python2.7/site-packages/boto\r\n",
        "\r\n",
        "error: could not create '/usr/lib/python2.7/site-packages/boto': Permission denied\r\n",
        "\r\n",
        "----------------------------------------\r\n",
        "Cleaning up...\r\n"
       ]
      },
      {
       "output_type": "stream",
       "stream": "stdout",
       "text": [
        "Command /usr/bin/python -c \"import setuptools;__file__='/tmp/pip_build_io/boto/setup.py';exec(compile(open(__file__).read().replace('\\r\\n', '\\n'), __file__, 'exec'))\" install --record /tmp/pip-fE_puQ-record/install-record.txt --single-version-externally-managed failed with error code 1 in /tmp/pip_build_io/boto\r\n",
        "Storing complete log in /home/io/.pip/pip.log\r\n"
       ]
      }
     ],
     "prompt_number": 35
    },
    {
     "cell_type": "code",
     "collapsed": false,
     "input": [
      "# Instructions: http://star.mit.edu/cluster/docs/latest/installation.html\n",
      "!conda install starcluster"
     ],
     "language": "python",
     "metadata": {},
     "outputs": []
    },
    {
     "cell_type": "code",
     "collapsed": false,
     "input": [
      "%matplotlib inline\n",
      "\n",
      "import os\n",
      "import pandas as pd\n",
      "\n",
      "from boto.s3.connection import S3Connection\n",
      "from IPython.parallel import Client"
     ],
     "language": "python",
     "metadata": {},
     "outputs": [],
     "prompt_number": 36
    },
    {
     "cell_type": "code",
     "collapsed": false,
     "input": [
      "with open(os.path.expanduser('~/credentials.csv')) as f:\n",
      "    credentials = f.read().splitlines()\n",
      "    key, secret = credentials[0].split('=')[1], credentials[1].split('=')[1]"
     ],
     "language": "python",
     "metadata": {},
     "outputs": [],
     "prompt_number": 40
    },
    {
     "cell_type": "code",
     "collapsed": false,
     "input": [
      "s3conn = S3Connection(key, secret)"
     ],
     "language": "python",
     "metadata": {},
     "outputs": [],
     "prompt_number": 41
    },
    {
     "cell_type": "code",
     "collapsed": false,
     "input": [
      "datasets = s3conn.get_bucket('datasets.elasticmapreduce', validate=False)"
     ],
     "language": "python",
     "metadata": {},
     "outputs": [],
     "prompt_number": 43
    },
    {
     "cell_type": "code",
     "collapsed": false,
     "input": [
      "wikipediaxml_keys = datasets.get_all_keys(prefix='wikipediaxml')\n",
      "len(wikipediaxml_keys)"
     ],
     "language": "python",
     "metadata": {},
     "outputs": [
      {
       "metadata": {},
       "output_type": "pyout",
       "prompt_number": 44,
       "text": [
        "117"
       ]
      }
     ],
     "prompt_number": 44
    },
    {
     "cell_type": "markdown",
     "metadata": {},
     "source": [
      "Get the smallest data subset"
     ]
    },
    {
     "cell_type": "code",
     "collapsed": false,
     "input": [
      "[k.size for k in wikipediaxml_keys].index(\n",
      "    min(k.size for k in wikipediaxml_keys))"
     ],
     "language": "python",
     "metadata": {},
     "outputs": [
      {
       "metadata": {},
       "output_type": "pyout",
       "prompt_number": 45,
       "text": [
        "60"
       ]
      }
     ],
     "prompt_number": 45
    },
    {
     "cell_type": "code",
     "collapsed": false,
     "input": [
      "# N.B. This takes a few minutes...\n",
      "data = wikipediaxml_keys[60].get_contents_as_string()"
     ],
     "language": "python",
     "metadata": {},
     "outputs": [],
     "prompt_number": 48
    },
    {
     "cell_type": "code",
     "collapsed": false,
     "input": [
      "data[:500]"
     ],
     "language": "python",
     "metadata": {},
     "outputs": [
      {
       "metadata": {},
       "output_type": "pyout",
       "prompt_number": 22,
       "text": [
        "'<page>    <title>Martynas Gostautas</title>    <id>16446159</id>    <redirect />    <revision>      <id>199730842</id>      <timestamp>2008-03-21T01:27:01Z</timestamp>      <contributor>        <username>Eubot</username>        <id>231599</id>      </contributor>      <comment>Redirected page to [[Martynas Go??tautas]].</comment>      <text xml:space=\"preserve\">#REDIRECT [[Martynas Go??tautas]] {{R from title without diacritics}}</text>    </revision></page>\\r<page>    <title>Yolanda Ivonne Monte'"
       ]
      }
     ],
     "prompt_number": 22
    },
    {
     "cell_type": "markdown",
     "metadata": {},
     "source": [
      "Let's explore the XML document object model using Python's minidom module:"
     ]
    },
    {
     "cell_type": "code",
     "collapsed": false,
     "input": [
      "from xml.dom import minidom\n",
      "\n",
      "dom = minidom.parseString(data.split('\\r')[0])\n",
      "print dom.firstChild.toprettyxml()"
     ],
     "language": "python",
     "metadata": {},
     "outputs": [
      {
       "output_type": "stream",
       "stream": "stdout",
       "text": [
        "<page>\n",
        "\t    \n",
        "\t<title>Martynas Gostautas</title>\n",
        "\t    \n",
        "\t<id>16446159</id>\n",
        "\t    \n",
        "\t<redirect/>\n",
        "\t    \n",
        "\t<revision>\n",
        "\t\t      \n",
        "\t\t<id>199730842</id>\n",
        "\t\t      \n",
        "\t\t<timestamp>2008-03-21T01:27:01Z</timestamp>\n",
        "\t\t      \n",
        "\t\t<contributor>\n",
        "\t\t\t        \n",
        "\t\t\t<username>Eubot</username>\n",
        "\t\t\t        \n",
        "\t\t\t<id>231599</id>\n",
        "\t\t\t      \n",
        "\t\t</contributor>\n",
        "\t\t      \n",
        "\t\t<comment>Redirected page to [[Martynas Go??tautas]].</comment>\n",
        "\t\t      \n",
        "\t\t<text xml:space=\"preserve\">#REDIRECT [[Martynas Go??tautas]] {{R from title without diacritics}}</text>\n",
        "\t\t    \n",
        "\t</revision>\n",
        "</page>\n",
        "\n"
       ]
      }
     ],
     "prompt_number": 23
    },
    {
     "cell_type": "code",
     "collapsed": false,
     "input": [
      "title = dom.firstChild.getElementsByTagName('title')[0]\n",
      "title.lastChild.wholeText"
     ],
     "language": "python",
     "metadata": {},
     "outputs": [
      {
       "metadata": {},
       "output_type": "pyout",
       "prompt_number": 24,
       "text": [
        "u'Martynas Gostautas'"
       ]
      }
     ],
     "prompt_number": 24
    },
    {
     "cell_type": "code",
     "collapsed": false,
     "input": [
      "%%time\n",
      "titles1 = [title.lastChild.wholeText \n",
      "     for entry in data.split('\\r')[:-1] \n",
      "         for title in minidom.parseString(entry).firstChild.getElementsByTagName('title')]"
     ],
     "language": "python",
     "metadata": {},
     "outputs": [
      {
       "output_type": "stream",
       "stream": "stdout",
       "text": [
        "CPU times: user 1min 2s, sys: 280 ms, total: 1min 3s\n",
        "Wall time: 1min 3s\n"
       ]
      }
     ],
     "prompt_number": 25
    },
    {
     "cell_type": "markdown",
     "metadata": {},
     "source": [
      "The Python XML module has another way of exploring XML as well:"
     ]
    },
    {
     "cell_type": "code",
     "collapsed": false,
     "input": [
      "from xml.etree import ElementTree\n",
      "ElementTree.fromstring(data.split('\\r')[0]).find('title').text"
     ],
     "language": "python",
     "metadata": {},
     "outputs": [
      {
       "metadata": {},
       "output_type": "pyout",
       "prompt_number": 26,
       "text": [
        "'Martynas Gostautas'"
       ]
      }
     ],
     "prompt_number": 26
    },
    {
     "cell_type": "code",
     "collapsed": false,
     "input": [
      "%%time\n",
      "titles2 = [ElementTree.fromstring(entry).find('title').text for entry in data.split('\\r')[:-1]]"
     ],
     "language": "python",
     "metadata": {},
     "outputs": [
      {
       "output_type": "stream",
       "stream": "stdout",
       "text": [
        "CPU times: user 1min 10s, sys: 393 ms, total: 1min 10s\n",
        "Wall time: 1min 11s\n"
       ]
      }
     ],
     "prompt_number": 27
    },
    {
     "cell_type": "markdown",
     "metadata": {},
     "source": [
      "Note that both of these are extremely slow compared to simple string parsing:"
     ]
    },
    {
     "cell_type": "code",
     "collapsed": false,
     "input": [
      "import HTMLParser\n",
      "parser = HTMLParser.HTMLParser()"
     ],
     "language": "python",
     "metadata": {},
     "outputs": [],
     "prompt_number": 28
    },
    {
     "cell_type": "code",
     "collapsed": false,
     "input": [
      "%%time\n",
      "titles3 = [parser.unescape(entry.split(u'</title>')[0]) for entry in data.split(u'<title>')[1:]]"
     ],
     "language": "python",
     "metadata": {},
     "outputs": [
      {
       "output_type": "stream",
       "stream": "stdout",
       "text": [
        "CPU times: user 2.93 s, sys: 1.82 s, total: 4.75 s\n",
        "Wall time: 9.29 s\n"
       ]
      }
     ],
     "prompt_number": 29
    },
    {
     "cell_type": "code",
     "collapsed": false,
     "input": [
      "titles1 == titles2"
     ],
     "language": "python",
     "metadata": {},
     "outputs": [
      {
       "metadata": {},
       "output_type": "pyout",
       "prompt_number": 30,
       "text": [
        "True"
       ]
      }
     ],
     "prompt_number": 30
    },
    {
     "cell_type": "code",
     "collapsed": false,
     "input": [
      "titles2 == titles3"
     ],
     "language": "python",
     "metadata": {},
     "outputs": [
      {
       "metadata": {},
       "output_type": "pyout",
       "prompt_number": 31,
       "text": [
        "True"
       ]
      }
     ],
     "prompt_number": 31
    },
    {
     "cell_type": "code",
     "collapsed": false,
     "input": [
      "len(titles3)"
     ],
     "language": "python",
     "metadata": {},
     "outputs": [
      {
       "metadata": {},
       "output_type": "pyout",
       "prompt_number": 32,
       "text": [
        "100000"
       ]
      }
     ],
     "prompt_number": 32
    },
    {
     "cell_type": "code",
     "collapsed": false,
     "input": [
      "titles3[::10000]"
     ],
     "language": "python",
     "metadata": {},
     "outputs": [
      {
       "metadata": {},
       "output_type": "pyout",
       "prompt_number": 33,
       "text": [
        "[u'Martynas Gostautas',\n",
        " u'Montparnasse Bienvenue',\n",
        " u'Gyoergy Kisfaludy',\n",
        " u'Valea Rece River (Olanesti)',\n",
        " u'Adobe(r) LiveCycle Reader(r) Extensions',\n",
        " u'Eickendorf, Borde',\n",
        " u'Gustaf Weisskopf',\n",
        " u'Template:User kaj-N',\n",
        " u'Wikipedia:Articles for deletion/Asafedi',\n",
        " u'Mihaly Szekely']"
       ]
      }
     ],
     "prompt_number": 33
    },
    {
     "cell_type": "heading",
     "level": 3,
     "metadata": {},
     "source": [
      "Part 2: Moving to StarCluster"
     ]
    },
    {
     "cell_type": "markdown",
     "metadata": {},
     "source": [
      "Run starcluster to initialise the config file"
     ]
    },
    {
     "cell_type": "code",
     "collapsed": false,
     "input": [
      "%%bash\n",
      "# copy/paste this into your terminal\n",
      "starcluster config\n",
      "# Select option [2]"
     ],
     "language": "python",
     "metadata": {},
     "outputs": []
    },
    {
     "cell_type": "markdown",
     "metadata": {},
     "source": [
      "Edit the config file to reflect your AWS credentials"
     ]
    },
    {
     "cell_type": "markdown",
     "metadata": {},
     "source": [
      "```bash\n",
      "#############################################\n",
      "## AWS Credentials and Connection Settings ##\n",
      "#############################################\n",
      "[aws info]\n",
      "# This is the AWS credentials section (required).\n",
      "# These settings apply to all clusters\n",
      "# replace these with your AWS keys\n",
      "AWS_ACCESS_KEY_ID = #your_aws_access_key_id\n",
      "AWS_SECRET_ACCESS_KEY = #your_secret_access_key\n",
      "# replace this with your account number\n",
      "AWS_USER_ID= #your userid\n",
      "```"
     ]
    },
    {
     "cell_type": "markdown",
     "metadata": {},
     "source": [
      "Add the ipcluster plugin if you haven't already.\n",
      "\n",
      "Near the bottom of `.starcluster/config:`"
     ]
    },
    {
     "cell_type": "markdown",
     "metadata": {},
     "source": [
      "```bash\n",
      "######################\n",
      "## Built-in Plugins ##\n",
      "######################\n",
      "# The following plugins ship with StarCluster and should work out-of-the-box.\n",
      "# Uncomment as needed. Don't forget to update your PLUGINS list!\n",
      "# See http://star.mit.edu/cluster/docs/latest/plugins for plugin details.\n",
      "# .\n",
      "# .\n",
      "# .\n",
      "[plugin ipcluster]\n",
      "SETUP_CLASS = starcluster.plugins.ipcluster.IPCluster\n",
      "# Enable the IPython notebook server (optional)\n",
      "ENABLE_NOTEBOOK = True\n",
      "# Set a password for the notebook for increased security\n",
      "# This is optional but *highly* recommended\n",
      "NOTEBOOK_PASSWD = a-secret-password\n",
      "```"
     ]
    },
    {
     "cell_type": "markdown",
     "metadata": {},
     "source": [
      "tinyurl.com/EC2calc\n",
      "\n",
      "In theory, 5 r3.4xlarge spot instances at 13\u00a2/hour should work but in practice, AWS has not let me reserve any r3.4xlarge (maybe you'll have better luck).\n",
      "Reserving 17 r3.xlarge instances didn't work for me either (despite the fact that AWS claims the default limit on that is 20) so I am stuck using the more expensive m3.2xlarge instances:"
     ]
    },
    {
     "cell_type": "markdown",
     "metadata": {},
     "source": [
      "```bash\n",
      "###########################################\n",
      "## Defining Additional Cluster Templates ##\n",
      "###########################################\n",
      "# You can also define multiple cluster templates. You can either supply all\n",
      "# configuration options as with smallcluster above, or create an\n",
      "# EXTENDS=<cluster_name> variable in the new cluster section to use all\n",
      "# settings from <cluster_name> as defaults. Below are example templates that\n",
      "# use the EXTENDS feature:\n",
      "\n",
      "[cluster mediumcluster]\n",
      "# Declares that this cluster uses smallcluster as defaults\n",
      "EXTENDS=smallcluster\n",
      "# This section is the same as smallcluster except for the following settings:\n",
      "NODE_IMAGE_ID = ami-6b211202\n",
      "NODE_INSTANCE_TYPE = m3.2xlarge\n",
      "CLUSTER_SIZE = 17\n",
      "```"
     ]
    },
    {
     "cell_type": "markdown",
     "metadata": {},
     "source": [
      "Create a new authentication key for starcluster to use"
     ]
    },
    {
     "cell_type": "code",
     "collapsed": false,
     "input": [
      "%%bash\n",
      "starcluster createkey mykey -o ~/.ssh/mykey.rsa"
     ],
     "language": "python",
     "metadata": {},
     "outputs": [
      {
       "output_type": "stream",
       "stream": "stdout",
       "text": [
        "StarCluster - (http://web.mit.edu/starcluster) (v. 0.93.3)\n",
        "Software Tools for Academics and Researchers (STAR)\n",
        "Please submit bug reports to starcluster@mit.edu\n",
        "\n"
       ]
      },
      {
       "output_type": "stream",
       "stream": "stderr",
       "text": [
        "!!! ERROR - InvalidKeyPair.Duplicate: The keypair 'mykey' already exists.\n"
       ]
      }
     ],
     "prompt_number": 34
    },
    {
     "cell_type": "markdown",
     "metadata": {},
     "source": [
      "Start your new cluster:"
     ]
    },
    {
     "cell_type": "code",
     "collapsed": false,
     "input": [
      "!starcluster start -c mediumcluster my_cluster"
     ],
     "language": "python",
     "metadata": {},
     "outputs": []
    },
    {
     "cell_type": "code",
     "collapsed": false,
     "input": [
      "!starcluster runplugin ipcluster my_cluster"
     ],
     "language": "python",
     "metadata": {},
     "outputs": []
    },
    {
     "cell_type": "markdown",
     "metadata": {},
     "source": [
      "Run the ipcluster plugin to connect your IPythong notebook with the cluster"
     ]
    },
    {
     "cell_type": "code",
     "collapsed": false,
     "input": [
      "import os\n",
      "url_file = os.path.expanduser('~/.starcluster/ipcluster/SecurityGroup:@sc-my_cluster-us-east-1.json')\n",
      "sshkey = '/home/io/.ssh/mykey.rsa'\n",
      "client = Client(url_file, sshkey)"
     ],
     "language": "python",
     "metadata": {},
     "outputs": []
    },
    {
     "cell_type": "code",
     "collapsed": false,
     "input": [
      "import pandas as pd\n",
      "from boto.s3.connection import S3Connection\n",
      "from collections import defaultdict\n",
      "\n",
      "s3conn = S3Connection(key, secret)\n",
      "datasets = s3conn.get_bucket('datasets.elasticmapreduce')"
     ],
     "language": "python",
     "metadata": {},
     "outputs": []
    },
    {
     "cell_type": "code",
     "collapsed": false,
     "input": [
      "from IPython.parallel import Client\n",
      "client = Client('/home/io/.starcluster/ipcluster/SecurityGroup:@sc-my_cluster-us-east-1.json', sshkey='/home/io/.ssh/mykey.rsa')"
     ],
     "language": "python",
     "metadata": {},
     "outputs": []
    },
    {
     "cell_type": "code",
     "collapsed": false,
     "input": [
      "dview = client.direct_view()\n",
      "len(client.ids)"
     ],
     "language": "python",
     "metadata": {},
     "outputs": []
    },
    {
     "cell_type": "code",
     "collapsed": false,
     "input": [
      "%%px\n",
      "%%bash\n",
      "ec2metadata --local-ipv4"
     ],
     "language": "python",
     "metadata": {},
     "outputs": []
    },
    {
     "cell_type": "code",
     "collapsed": false,
     "input": [
      "%%px\n",
      "import pandas as pd\n",
      "from boto.s3.connection import S3Connection\n",
      "from collections import defaultdict\n",
      "\n",
      "with open('credentials.csv') as f:\n",
      "    credentials = f.read().splitlines()\n",
      "    key, secret = credentials[0].split('=')[1], credentials[1].split('=')[1]\n",
      "\n",
      "s3conn = S3Connection(key, secret)\n",
      "datasets = s3conn.get_bucket('datasets.elasticmapreduce')"
     ],
     "language": "python",
     "metadata": {},
     "outputs": []
    },
    {
     "cell_type": "markdown",
     "metadata": {},
     "source": [
      "We then scatter the keys to our S3 files across our cluster:"
     ]
    },
    {
     "cell_type": "code",
     "collapsed": false,
     "input": [
      "dview.scatter('wikipediaxml_keys', [key.name for key in wikipediaxml_keys], dist='r')"
     ],
     "language": "python",
     "metadata": {},
     "outputs": []
    },
    {
     "cell_type": "markdown",
     "metadata": {},
     "source": [
      "If we were unable to investigate our data locally (perhaps the download failed) we can do so on engine zero by specifying the target thus:\n",
      "(only do this if the above attempt at running get_contents_as_string failed)"
     ]
    },
    {
     "cell_type": "code",
     "collapsed": false,
     "input": [
      "%%px --targets 0\n",
      "data = datasets.get_key(wikipediaxml_keys[0]).get_contents_as_string()\n",
      "data.split('\\r')[:2]"
     ],
     "language": "python",
     "metadata": {},
     "outputs": []
    },
    {
     "cell_type": "markdown",
     "metadata": {},
     "source": [
      "`-t0` is shorthand for `--targets 0`:"
     ]
    },
    {
     "cell_type": "code",
     "collapsed": false,
     "input": [
      "%%px -t0\n",
      "titles = [entry.split('</title>')[0] for entry in data.split('<title>')[1:]]\n",
      "len(titles)"
     ],
     "language": "python",
     "metadata": {},
     "outputs": []
    },
    {
     "cell_type": "code",
     "collapsed": false,
     "input": [
      "%%px -t0\n",
      "titles[::10000]"
     ],
     "language": "python",
     "metadata": {},
     "outputs": []
    },
    {
     "cell_type": "markdown",
     "metadata": {},
     "source": [
      "Finally, we run our analysis in parallel across 135 CPUs on 17 nodes. This will take a while, but consider the fact that this would be impossible your laptop:"
     ]
    },
    {
     "cell_type": "code",
     "collapsed": false,
     "input": [
      "%%px \n",
      "import pandas as pd\n",
      "from boto.s3.connection import S3Connection\n",
      "from collections import defaultdict\n",
      "\n",
      "with open('credentials.csv') as f:\n",
      "    credentials = f.read().splitlines()\n",
      "    key, secret = credentials[0].split('=')[1], credentials[1].split('=')[1]\n",
      "\n",
      "s3conn = S3Connection(key, secret)\n",
      "\n",
      "datasets = s3conn.get_bucket('datasets.elasticmapreduce')\n",
      "\n",
      "title_lens = defaultdict(int)\n",
      "errors = []\n",
      "\n",
      "for key_name in wikipediaxml_keys:\n",
      "    wikipediaxml_key = datasets.get_key(key_name)\n",
      "    try:\n",
      "        data = wikipediaxml_key.get_contents_as_string()\n",
      "        titles = [entry.split('</title>')[0] for entry in data.split('<title>')[1:]]\n",
      "        for title in titles:\n",
      "            title_tokens = title.split()\n",
      "            title_length = len(title_tokens)\n",
      "            title_lens[title_length] += 1\n",
      "    except:\n",
      "        errors.append(key_name)"
     ],
     "language": "python",
     "metadata": {},
     "outputs": []
    },
    {
     "cell_type": "markdown",
     "metadata": {},
     "source": [
      "------------------------------------------\n",
      "Intermission\n",
      "------------------------------------------\n",
      "------------------------------------------"
     ]
    },
    {
     "cell_type": "code",
     "collapsed": false,
     "input": [
      "title_lens = dview.gather('title_lens').get()"
     ],
     "language": "python",
     "metadata": {},
     "outputs": []
    },
    {
     "cell_type": "code",
     "collapsed": false,
     "input": [
      "title_len_series = pd.DataFrame(title_lens).sum(0)"
     ],
     "language": "python",
     "metadata": {},
     "outputs": []
    },
    {
     "cell_type": "code",
     "collapsed": false,
     "input": [
      "title_len_series.plot()"
     ],
     "language": "python",
     "metadata": {},
     "outputs": []
    },
    {
     "cell_type": "code",
     "collapsed": false,
     "input": [
      "title_len_series.head(10)"
     ],
     "language": "python",
     "metadata": {},
     "outputs": []
    },
    {
     "cell_type": "code",
     "collapsed": false,
     "input": [
      "title_len_series.tail()"
     ],
     "language": "python",
     "metadata": {},
     "outputs": []
    },
    {
     "cell_type": "heading",
     "level": 1,
     "metadata": {},
     "source": [
      "\n",
      "\u00a1\u00a1\u00a1DON'T FORGET TO TERMINATE YOUR CLUSTER BEFORE YOU LEAVE CLASS!!!"
     ]
    },
    {
     "cell_type": "code",
     "collapsed": false,
     "input": [
      "%%bash\n",
      "starcluster terminate my_cluster"
     ],
     "language": "python",
     "metadata": {},
     "outputs": []
    },
    {
     "cell_type": "markdown",
     "metadata": {},
     "source": [
      "![break](assets/theory.png)"
     ]
    },
    {
     "cell_type": "heading",
     "level": 2,
     "metadata": {},
     "source": [
      "MapReduce Programming Model"
     ]
    },
    {
     "cell_type": "markdown",
     "metadata": {},
     "source": [
      "Recall: There are two ways to process data in a distributed architecture:"
     ]
    },
    {
     "cell_type": "markdown",
     "metadata": {},
     "source": [
      "1. move data to code (& processing power)\n",
      "    - SETI\n",
      "2. move code to data\n",
      "    - map-reduce -> less overhead (network traffic, disk I/O)"
     ]
    },
    {
     "cell_type": "markdown",
     "metadata": {},
     "source": [
      "> \u201cComputing nodes are the same as storage nodes.\u201d"
     ]
    },
    {
     "cell_type": "heading",
     "level": 3,
     "metadata": {},
     "source": [
      "MapReduce"
     ]
    },
    {
     "cell_type": "markdown",
     "metadata": {},
     "source": [
      "As we\u2019ve discussed, the map-reduce approach involves splitting a problem into subtasks and processing these subtasks in parallel."
     ]
    },
    {
     "cell_type": "markdown",
     "metadata": {},
     "source": [
      "This takes place in two(three!) phases:\n",
      "\n",
      "* the mapper phase\n",
      "* shuffle/sort <- the secret sauce\n",
      "* the reducer phase"
     ]
    },
    {
     "cell_type": "markdown",
     "metadata": {},
     "source": [
      "![](assets/mrfigure.png)"
     ]
    },
    {
     "cell_type": "markdown",
     "metadata": {},
     "source": [
      "![](assets/mapreduce_mapshuffle.png)"
     ]
    },
    {
     "cell_type": "markdown",
     "metadata": {},
     "source": [
      "Map-reduce uses a functional programming paradigm. The data processing primitives are mappers and reducers, as we\u2019ve seen.\n",
      "\n",
      "mappers \u2013 filter & transform data\n",
      "reducers \u2013 aggregate results\n",
      "\n",
      "Thanks to [Michael Cvet](http://mikecvet.wordpress.com/2010/07/02/parallel-mapreduce-in-python/) for this example:"
     ]
    },
    {
     "cell_type": "code",
     "collapsed": false,
     "input": [
      "a = [1, 2, 3]\n",
      "b = [4, 5, 6, 7]\n",
      "c = [8, 9, 1, 2, 3]\n",
      "L = map(lambda x:len(x), [a, b, c])\n",
      "L"
     ],
     "language": "python",
     "metadata": {},
     "outputs": [
      {
       "metadata": {},
       "output_type": "pyout",
       "prompt_number": 49,
       "text": [
        "[3, 4, 5]"
       ]
      }
     ],
     "prompt_number": 49
    },
    {
     "cell_type": "code",
     "collapsed": false,
     "input": [
      "N = reduce(lambda x, y: x+y, L)\n",
      "N"
     ],
     "language": "python",
     "metadata": {},
     "outputs": [
      {
       "metadata": {},
       "output_type": "pyout",
       "prompt_number": 51,
       "text": [
        "12"
       ]
      }
     ],
     "prompt_number": 51
    },
    {
     "cell_type": "markdown",
     "metadata": {},
     "source": [
      "Or if you want to be fancy and do it as a one-liners"
     ]
    },
    {
     "cell_type": "code",
     "collapsed": false,
     "input": [
      "reduce(lambda x, y: x+y, map(lambda x:len(x), [a, b, c]))"
     ],
     "language": "python",
     "metadata": {},
     "outputs": [
      {
       "metadata": {},
       "output_type": "pyout",
       "prompt_number": 52,
       "text": [
        "12"
       ]
      }
     ],
     "prompt_number": 52
    },
    {
     "cell_type": "markdown",
     "metadata": {},
     "source": [
      "The functional paradigm is good at describing how to solve a problem, but not very good at describing data manipulations (eg, relational joins)."
     ]
    },
    {
     "cell_type": "markdown",
     "metadata": {},
     "source": [
      "It\u2019s possible to overlay the map-reduce framework with an additional declarative syntax. This makes operations like select & join easier to implement and less error prone."
     ]
    },
    {
     "cell_type": "markdown",
     "metadata": {},
     "source": [
      "Popular examples for Hadoop include **Pig** and **Hive**."
     ]
    },
    {
     "cell_type": "heading",
     "level": 3,
     "metadata": {},
     "source": [
      "Why Pig?"
     ]
    },
    {
     "cell_type": "markdown",
     "metadata": {},
     "source": [
      "Because I bet you can read the following script."
     ]
    },
    {
     "cell_type": "markdown",
     "metadata": {},
     "source": [
      "```pig\n",
      "-- An example pig script:\n",
      "users = load 'users.csv' as (username: chararray, age: int);\n",
      "users_1825 = filter users by age >= 18 and age <= 25;\n",
      "\n",
      "pages = load 'pages.csv' as (username: chararray, url: chararray);\n",
      "\n",
      "joined = join users_1825 by username, pages by username;\n",
      "grouped = group joined by url;\n",
      "summed = foreach grouped generate group as url, COUNT(joined) AS views;\n",
      "top_5 = limit sorted 5;\n",
      "\n",
      "store top_5 into 'top_5_sites.csv';\n",
      "```"
     ]
    },
    {
     "cell_type": "markdown",
     "metadata": {},
     "source": [
      "Now, just for fun... the same calculation in vanilla Hadoop MapReduce."
     ]
    },
    {
     "cell_type": "markdown",
     "metadata": {},
     "source": [
      "![](assets/pig_02.png)"
     ]
    },
    {
     "cell_type": "heading",
     "level": 3,
     "metadata": {},
     "source": [
      "Implementation Details"
     ]
    },
    {
     "cell_type": "markdown",
     "metadata": {},
     "source": [
      "MapReduce is\u2026\n",
      "\n",
      "    A. A programming model for processing big data\n",
      "\n",
      "    B. A data processing system created and used by Google\n",
      "\n",
      "    C. A feature of Hadoop\n",
      "\n",
      "    D. All of the above"
     ]
    },
    {
     "cell_type": "markdown",
     "metadata": {},
     "source": [
      "The implementation of MapReduce became popular when Google released a white paper in 2004 explaining how they did it.\n",
      "\n",
      "This architecture was then copied. The two most popular versions are:\n",
      "\n",
      "* **Apache\u2019s Hadoop**\n",
      "* **Disco** (bet you haven\u2019t heard of this one)"
     ]
    },
    {
     "cell_type": "markdown",
     "metadata": {},
     "source": [
      "Disco more friendly but not as well supported. Hadoop has a huge community and so, while more difficult to use, is the standard.\n",
      "\n",
      "A map-reduce framework handles a lot of messy details for you:\n",
      "\n",
      "* parallelization & distribution (eg, input splitting)\n",
      "* partitioning (shuffle/sort/redirect)\n",
      "* fault-tolerance (fact: tasks/nodes will fail!)\n",
      "* I/O scheduling\n",
      "* status and monitoring\n",
      "\n",
      "This (along with the functional semantics) allows you to focus on solving the problem instead of accounting & housekeeping details."
     ]
    },
    {
     "cell_type": "heading",
     "level": 3,
     "metadata": {},
     "source": [
      "Hadoop"
     ]
    },
    {
     "cell_type": "markdown",
     "metadata": {},
     "source": [
      "**Hadoop** is a popular open-source Java-based implementation of the map-reduce framework (including file storage for input/output).\n",
      "\n",
      "You can download Hadoop and configure a set of machines to operate as a map-reduce cluster, or you can run it as a service via Amazon\u2019s Elastic Map-Reduce.\n",
      "\n",
      "Hadoop is written in Java, but the *Hadoop Streaming* utility allows client code to be supplied as executables (eg, written in any language).\n",
      "\n",
      "Data is replicated in the (distributed) file system across several nodes.\n",
      "\n",
      "This permits locality optimization (and fault tolerance) by allowing the mapper tasks to run on the same nodes where the data resides.\n",
      "\n",
      "So we move code to data (instead of data to code), thus avoiding a lot of network traffic and disk I/O."
     ]
    },
    {
     "cell_type": "markdown",
     "metadata": {},
     "source": [
      "![](assets/GP-HD_HDFS-4-2.png)"
     ]
    },
    {
     "cell_type": "markdown",
     "metadata": {},
     "source": [
      "The *Google File System (GFS)* was developed alongside map-reduce to serve as the native file system for this type of processing.\n",
      "\n",
      "The Hadoop platform is bundled with an open-source implementation of this file system called HDFS.\n",
      "\n",
      "If you use Amazon EMR, you can use their file system (Amazon S3) as well. (What's wrong with this?)"
     ]
    },
    {
     "cell_type": "markdown",
     "metadata": {},
     "source": [
      "**[3 Caveats](http://www.zdnet.com/bursting-the-big-data-bubble-7000002352/):**\n",
      "* Hadoop is not an RDBMS killer \n",
      "* Hives and Hive-nots \n",
      "* Real-time Hadoop? Not really."
     ]
    },
    {
     "cell_type": "heading",
     "level": 2,
     "metadata": {},
     "source": [
      "MapReduce Ecosystem & Beyond"
     ]
    },
    {
     "cell_type": "markdown",
     "metadata": {},
     "source": [
      "Part of the success of tools in the Hadoop ecosystem ... \n",
      " \n",
      " > \"lies in the now-evident difficulty and sharp learning curve involved in MapReduce, as it was originally defined, when applied to practical problems.\"\" [Pere Ferrera Bertran](http://www.datasalt.com/2012/02/tuple-mapreduce-beyond-the-classic-mapreduce/)"
     ]
    },
    {
     "cell_type": "markdown",
     "metadata": {},
     "source": [
      "The Hadoop ecosystem at present is rich enough already that we have a variety of front end options available, from visual spreadsheet metaphors (**Big Sheets**) to SQL-style queries (**Hive**) with a web UI (**Beeswax**). No Java necessary."
     ]
    },
    {
     "cell_type": "markdown",
     "metadata": {},
     "source": [
      "Consider Apache **Giraph** and **Hama** when there is a lot of communication between nodes. Giraph is based on Google **Pregel**. Hama is based on **BSP**."
     ]
    },
    {
     "cell_type": "heading",
     "level": 2,
     "metadata": {},
     "source": [
      "Word Count Example"
     ]
    },
    {
     "cell_type": "markdown",
     "metadata": {},
     "source": [
      "MapReduce processes data in terms of key-value pairs:"
     ]
    },
    {
     "cell_type": "markdown",
     "metadata": {},
     "source": [
      "```bash\n",
      "input           <k1, v1>\n",
      "\n",
      "mapper          <k1, v1> -> <k2, v2>\n",
      "\n",
      "(partitioner)   <k2, v2> -> <k2, [all k2 values]>\n",
      "\n",
      "reducer         <k2, [all k2 values]> -> <k3, v3>\n",
      "```"
     ]
    },
    {
     "cell_type": "markdown",
     "metadata": {},
     "source": [
      "![](assets/MapReduceWordCountOverview1.png)"
     ]
    },
    {
     "cell_type": "markdown",
     "metadata": {},
     "source": [
      "Using the following input, we can implement the \u201cHello World\u201d of map-reduce: a word count."
     ]
    },
    {
     "cell_type": "code",
     "collapsed": false,
     "input": [
      "i = {1: 'where',\n",
      "     2: 'where in',\n",
      "     3: 'where in the',\n",
      "     4: 'where in the world',\n",
      "     5: 'where in the world is',\n",
      "     6: 'where in the world is carmen',\n",
      "     7: 'where in the world is carmen sandiego'}"
     ],
     "language": "python",
     "metadata": {},
     "outputs": [],
     "prompt_number": 53
    },
    {
     "cell_type": "markdown",
     "metadata": {},
     "source": [
      "First, as for comparison, this is one way you could do it on a single machine:"
     ]
    },
    {
     "cell_type": "code",
     "collapsed": false,
     "input": [
      "from collections import defaultdict\n",
      " \n",
      "import pandas as pd\n",
      " \n",
      "wordcount = defaultdict(int)\n",
      " \n",
      "for _, s in i.items():\n",
      "    for w in s.split():\n",
      "        wordcount[w] += 1\n",
      "\n",
      "reducer_results = pd.Series(wordcount)\n",
      "reducer_results.sort()\n",
      "reducer_results"
     ],
     "language": "python",
     "metadata": {},
     "outputs": [
      {
       "metadata": {},
       "output_type": "pyout",
       "prompt_number": 54,
       "text": [
        "sandiego    1\n",
        "carmen      2\n",
        "is          3\n",
        "world       4\n",
        "the         5\n",
        "in          6\n",
        "where       7\n",
        "dtype: int64"
       ]
      }
     ],
     "prompt_number": 54
    },
    {
     "cell_type": "markdown",
     "metadata": {},
     "source": [
      "The first processing primitive is the mapper, which filters & transforms the input data, and yields transformed key-value pairs."
     ]
    },
    {
     "cell_type": "code",
     "collapsed": false,
     "input": [
      "def mapper(k1, v1):\n",
      "    '''k1: line number\n",
      "       v1: line contents (i.e. space-delimited string)'''\n",
      "    words = v1.split()  # split string into words\n",
      "    for word in words:\n",
      "        yield (word, 1)"
     ],
     "language": "python",
     "metadata": {},
     "outputs": [],
     "prompt_number": 55
    },
    {
     "cell_type": "markdown",
     "metadata": {},
     "source": [
      "The mapper emits key-value pairs for each word encountered in the input data."
     ]
    },
    {
     "cell_type": "code",
     "collapsed": false,
     "input": [
      "from itertools import chain\n",
      "map_results = list(chain.from_iterable(map(mapper, i.keys(), i.values())))"
     ],
     "language": "python",
     "metadata": {},
     "outputs": [],
     "prompt_number": 56
    },
    {
     "cell_type": "code",
     "collapsed": false,
     "input": [
      "map_results"
     ],
     "language": "python",
     "metadata": {},
     "outputs": [
      {
       "metadata": {},
       "output_type": "pyout",
       "prompt_number": 57,
       "text": [
        "[('where', 1),\n",
        " ('where', 1),\n",
        " ('in', 1),\n",
        " ('where', 1),\n",
        " ('in', 1),\n",
        " ('the', 1),\n",
        " ('where', 1),\n",
        " ('in', 1),\n",
        " ('the', 1),\n",
        " ('world', 1),\n",
        " ('where', 1),\n",
        " ('in', 1),\n",
        " ('the', 1),\n",
        " ('world', 1),\n",
        " ('is', 1),\n",
        " ('where', 1),\n",
        " ('in', 1),\n",
        " ('the', 1),\n",
        " ('world', 1),\n",
        " ('is', 1),\n",
        " ('carmen', 1),\n",
        " ('where', 1),\n",
        " ('in', 1),\n",
        " ('the', 1),\n",
        " ('world', 1),\n",
        " ('is', 1),\n",
        " ('carmen', 1),\n",
        " ('sandiego', 1)]"
       ]
      }
     ],
     "prompt_number": 57
    },
    {
     "cell_type": "markdown",
     "metadata": {},
     "source": [
      "The partitioner is internal to the map-reduce framework, so we don\u2019t have to write this ourselves. It shuffles & sorts the mapper output, and redirects all intermediate results for a given key to a single reducer."
     ]
    },
    {
     "cell_type": "markdown",
     "metadata": {},
     "source": [
      "If we were using a map-reduce framework like Hadoop or Disco, the partitioner would be internal. But since we are building this from scratch, we will create our own partitioner using a defaultdict. The partitioner shuffles & sorts the mapper output, and redirects all intermediate results for a given key to a single reducer."
     ]
    },
    {
     "cell_type": "code",
     "collapsed": false,
     "input": [
      "partition_results = defaultdict(list)\n",
      "for k, v in map_results:\n",
      "    partition_results[k].append(v)"
     ],
     "language": "python",
     "metadata": {},
     "outputs": [],
     "prompt_number": 59
    },
    {
     "cell_type": "code",
     "collapsed": false,
     "input": [
      "pd.Series(partition_results)"
     ],
     "language": "python",
     "metadata": {},
     "outputs": [
      {
       "metadata": {},
       "output_type": "pyout",
       "prompt_number": 60,
       "text": [
        "carmen                     [1, 1]\n",
        "in             [1, 1, 1, 1, 1, 1]\n",
        "is                      [1, 1, 1]\n",
        "sandiego                      [1]\n",
        "the               [1, 1, 1, 1, 1]\n",
        "where       [1, 1, 1, 1, 1, 1, 1]\n",
        "world                [1, 1, 1, 1]\n",
        "dtype: object"
       ]
      }
     ],
     "prompt_number": 60
    },
    {
     "cell_type": "markdown",
     "metadata": {},
     "source": [
      "Finally, the reducer receives all values for a given key and aggregates (in this case, sums) the results"
     ]
    },
    {
     "cell_type": "code",
     "collapsed": false,
     "input": [
      "def reducer(k2, k2_vals):\n",
      "    '''k2: word\n",
      "       k2_vals: word counts'''\n",
      "    yield k2, sum(k2_vals)"
     ],
     "language": "python",
     "metadata": {},
     "outputs": [],
     "prompt_number": 61
    },
    {
     "cell_type": "markdown",
     "metadata": {},
     "source": [
      "Reducer output is aggregated & sorted by key."
     ]
    },
    {
     "cell_type": "code",
     "collapsed": false,
     "input": [
      "reducer_results = dict(chain.from_iterable(\n",
      "    map(reducer, partition_results.keys(), partition_results.values())))"
     ],
     "language": "python",
     "metadata": {},
     "outputs": [],
     "prompt_number": 62
    },
    {
     "cell_type": "code",
     "collapsed": false,
     "input": [
      "reducer_results"
     ],
     "language": "python",
     "metadata": {},
     "outputs": [
      {
       "metadata": {},
       "output_type": "pyout",
       "prompt_number": 63,
       "text": [
        "{'carmen': 2,\n",
        " 'in': 6,\n",
        " 'is': 3,\n",
        " 'sandiego': 1,\n",
        " 'the': 5,\n",
        " 'where': 7,\n",
        " 'world': 4}"
       ]
      }
     ],
     "prompt_number": 63
    },
    {
     "cell_type": "heading",
     "level": 3,
     "metadata": {},
     "source": [
      "Beyond Word Count"
     ]
    },
    {
     "cell_type": "heading",
     "level": 4,
     "metadata": {},
     "source": [
      "1. Activity Stream Sessionization"
     ]
    },
    {
     "cell_type": "markdown",
     "metadata": {},
     "source": [
      "Goal: collate user activity, splitting into different  sessions if user inactive for more than 5 minutes\n",
      "  \n",
      "  > Input format: timestamp, user_id"
     ]
    },
    {
     "cell_type": "code",
     "collapsed": false,
     "input": [
      "def mapper(self, key, line):\n",
      "    timestamp, user_id = line.split()\n",
      "    yield user_id, timestamp\n",
      "\n",
      "def reducer(self, uid, timestamps):\n",
      "    yield uid, sorted(timestamps)"
     ],
     "language": "python",
     "metadata": {},
     "outputs": [],
     "prompt_number": 64
    },
    {
     "cell_type": "heading",
     "level": 5,
     "metadata": {},
     "source": [
      "Sample Output"
     ]
    },
    {
     "cell_type": "code",
     "collapsed": false,
     "input": [
      "\"998\" [\"1384389407\", \"1384389417\", \"1384389422\", \n",
      "\"1384389425\", \"1384390407\", \"1384390417\", \n",
      "\"1384391416\", \"1384392410\", \"1384392416\", \n",
      "\"1384395420\", \"1384396405\"]\n",
      "\n",
      "\"999\" [\"1384388414\", \"1384388425\", \"1384389419\", \n",
      "\"1384389420\", \"1384390420\", \"1384391415\", \n",
      "\"1384391418\", \"1384393413\", \"1384393425\", \n",
      "\"1384394426\", \"1384395416\", \"1384396415\", \n",
      "\"1384396422\"]"
     ],
     "language": "python",
     "metadata": {},
     "outputs": []
    },
    {
     "cell_type": "code",
     "collapsed": false,
     "input": [
      "MAX_SESSION_INACTIVITY = 60 * 5\n",
      "# ...\n",
      "def reducer(self, uid, timestamps):\n",
      "    timestamps = sorted(timestamps)\n",
      "    start_index = 0\n",
      "    for index, timestamp in enumerate(timestamps):\n",
      "        if index > 0:\n",
      "            if timestamp - timestamps[index-1] > MAX_SESSION_INACTIVITY:\n",
      "                yield uid, timestamps[start_index:index]\n",
      "                start_index = index\n",
      "    yield uid, timestamps[start_index:]"
     ],
     "language": "python",
     "metadata": {},
     "outputs": []
    },
    {
     "cell_type": "heading",
     "level": 5,
     "metadata": {},
     "source": [
      "Sample Output"
     ]
    },
    {
     "cell_type": "code",
     "collapsed": false,
     "input": [
      "\"999\"[1384388414, 1384388425]\n",
      "\"999\"[1384389419, 1384389420]\n",
      "\"999\"[1384390420]\n",
      "\"999\"[1384391415, 1384391418]\n",
      "\"999\"[1384393413, 1384393425]\n",
      "\"999\"[1384394426]\n",
      "\"999\"[1384395416]\n",
      "\"999\"[1384396415, 1384396422]"
     ],
     "language": "python",
     "metadata": {},
     "outputs": [
      {
       "ename": "TypeError",
       "evalue": "string indices must be integers, not tuple",
       "output_type": "pyerr",
       "traceback": [
        "\u001b[1;31m---------------------------------------------------------------------------\u001b[0m\n\u001b[1;31mTypeError\u001b[0m                                 Traceback (most recent call last)",
        "\u001b[1;32m<ipython-input-65-5febc36763af>\u001b[0m in \u001b[0;36m<module>\u001b[1;34m()\u001b[0m\n\u001b[1;32m----> 1\u001b[1;33m \u001b[1;34m\"999\"\u001b[0m\u001b[1;33m[\u001b[0m\u001b[1;36m1384388414\u001b[0m\u001b[1;33m,\u001b[0m \u001b[1;36m1384388425\u001b[0m\u001b[1;33m]\u001b[0m\u001b[1;33m\u001b[0m\u001b[0m\n\u001b[0m\u001b[0;32m      2\u001b[0m \u001b[1;34m\"999\"\u001b[0m\u001b[1;33m[\u001b[0m\u001b[1;36m1384389419\u001b[0m\u001b[1;33m,\u001b[0m \u001b[1;36m1384389420\u001b[0m\u001b[1;33m]\u001b[0m\u001b[1;33m\u001b[0m\u001b[0m\n\u001b[0;32m      3\u001b[0m \u001b[1;34m\"999\"\u001b[0m\u001b[1;33m[\u001b[0m\u001b[1;36m1384390420\u001b[0m\u001b[1;33m]\u001b[0m\u001b[1;33m\u001b[0m\u001b[0m\n\u001b[0;32m      4\u001b[0m \u001b[1;34m\"999\"\u001b[0m\u001b[1;33m[\u001b[0m\u001b[1;36m1384391415\u001b[0m\u001b[1;33m,\u001b[0m \u001b[1;36m1384391418\u001b[0m\u001b[1;33m]\u001b[0m\u001b[1;33m\u001b[0m\u001b[0m\n\u001b[0;32m      5\u001b[0m \u001b[1;34m\"999\"\u001b[0m\u001b[1;33m[\u001b[0m\u001b[1;36m1384393413\u001b[0m\u001b[1;33m,\u001b[0m \u001b[1;36m1384393425\u001b[0m\u001b[1;33m]\u001b[0m\u001b[1;33m\u001b[0m\u001b[0m\n",
        "\u001b[1;31mTypeError\u001b[0m: string indices must be integers, not tuple"
       ]
      }
     ],
     "prompt_number": 65
    },
    {
     "cell_type": "heading",
     "level": 3,
     "metadata": {},
     "source": [
      "2. Product Recommendations "
     ]
    },
    {
     "cell_type": "markdown",
     "metadata": {},
     "source": [
      "Goal: For each product a client sells, generate a \u2018people who bought this also bought this\u2019 recommendation\n",
      "\n",
      "  > Input: product_id_1, product_id_2, .."
     ]
    },
    {
     "cell_type": "code",
     "collapsed": false,
     "input": [
      "Coincident Purchase Frequency\n",
      "def mapper(self, key, line):\n",
      "    purchases = set(line.split(','))\n",
      "    for p1, p2 in permutations(purchases, 2):\n",
      "        yield (p1, p2), 1\n",
      "\n",
      "def reducer(self, pair, occurrences):\n",
      "    p1, p2 = pair\n",
      "    yield p1, (p2, sum(occurrences))"
     ],
     "language": "python",
     "metadata": {},
     "outputs": []
    },
    {
     "cell_type": "heading",
     "level": 5,
     "metadata": {},
     "source": [
      "Sample Output"
     ]
    },
    {
     "cell_type": "code",
     "collapsed": false,
     "input": [
      "\"8\" [\"5\", 11]\n",
      "\"8\" [\"6\", 19]\n",
      "\"8\" [\"7\", 14]\n",
      "\"8\" [\"9\", 11]\n",
      "\"9\" [\"1\", 20]\n",
      "\"9\" [\"10\", 22]\n",
      "\"9\" [\"11\", 21]\n",
      "\"9\" [\"12\", 13]"
     ],
     "language": "python",
     "metadata": {},
     "outputs": []
    },
    {
     "cell_type": "code",
     "collapsed": false,
     "input": [
      "def reducer(self, purchase_pair, occurrences):\n",
      "    p1, p2 = purchase_pair\n",
      "    yield p1, (sum(occurrences), p2)\n",
      "\n",
      "def reducer_find_best_recos(self, p1, p2_occurrences):\n",
      "    top_products = sorted(p2_occurrences, reverse=True)[:5]\n",
      "    top_products = [p2 for occurrences, p2 in top_products]\n",
      "    yield p1, top_products\n",
      "\n",
      "def steps(self):\n",
      "    return [self.mr(mapper=self.mapper, reducer=self.reducer), self.mr(reducer=self.reducer_find_best_recos)]"
     ],
     "language": "python",
     "metadata": {},
     "outputs": [],
     "prompt_number": 10
    },
    {
     "cell_type": "heading",
     "level": 5,
     "metadata": {},
     "source": [
      "Sample Output"
     ]
    },
    {
     "cell_type": "code",
     "collapsed": false,
     "input": [
      "\"7\" [\"15\", \"18\", \"17\", \"16\", \"3\"]\n",
      "\"8\" [\"14\", \"15\", \"20\", \"6\", \"3\"]\n",
      "\"9\" [\"15\", \"17\", \"19\", \"6\", \"3\"]"
     ],
     "language": "python",
     "metadata": {},
     "outputs": []
    },
    {
     "cell_type": "heading",
     "level": 4,
     "metadata": {},
     "source": [
      "3. User Behavior Statistics"
     ]
    },
    {
     "cell_type": "markdown",
     "metadata": {},
     "source": [
      "Goal: compute statistics about user behavior (conversion rate & time on site) by account and experiment in an efficient manner\n",
      "\n",
      "> Input: account_id, campaigns_viewed, user_id, purchased?, session_start_time, session_end_time\n",
      "\n",
      "For full details on this and other examples see [Jeff Patti](http://www.slideshare.net/JeffPatti/map-reducebeyondwordcount)"
     ]
    },
    {
     "cell_type": "markdown",
     "metadata": {},
     "source": [
      "![break](assets/code.png)"
     ]
    },
    {
     "cell_type": "heading",
     "level": 2,
     "metadata": {},
     "source": [
      "Hadoop Streaming"
     ]
    },
    {
     "cell_type": "code",
     "collapsed": false,
     "input": [],
     "language": "python",
     "metadata": {},
     "outputs": []
    },
    {
     "cell_type": "heading",
     "level": 3,
     "metadata": {},
     "source": [
      "(Try this at) Homework"
     ]
    },
    {
     "cell_type": "code",
     "collapsed": false,
     "input": [
      "!git clone https://github.com/ogrisel/parallel_ml_tutorial.git '../../parallel_ml_tutorial'    "
     ],
     "language": "python",
     "metadata": {},
     "outputs": []
    },
    {
     "cell_type": "markdown",
     "metadata": {},
     "source": [
      "Go through Olivier Grisel's Parallel Machine Learning with scikit-learn and IPython tutorials. Much of it will be a review. Pay attention to how 03 - Distributed Model Selection and Assessment shows you how to do Grid Search over a StarCluster. But the coup de gr\u00e2ce is 05 - Large Scale Text Classification for Sentiment Analysis which shows how to build a classification model using a large dataset in parallel across a cluster."
     ]
    },
    {
     "cell_type": "markdown",
     "metadata": {},
     "source": [
      "![break](assets/resources.png)"
     ]
    },
    {
     "cell_type": "heading",
     "level": 2,
     "metadata": {},
     "source": [
      "Resources"
     ]
    },
    {
     "cell_type": "heading",
     "level": 3,
     "metadata": {},
     "source": [
      "Background"
     ]
    },
    {
     "cell_type": "markdown",
     "metadata": {},
     "source": [
      "* [Without Context, Data is Meaningless](http://dannybrown.me/2013/08/15/without-context-data-is-meaningless/)\n",
      "* [Using s3 instead of HDFS in the Cloud](http://www.technology-mania.com/2012/05/s3-instead-of-hdfs-with-hadoop_05.html)\n",
      "* [Tuple MapReduce: beyond the classic MapReduce](http://www.datasalt.com/2012/02/tuple-mapreduce-beyond-the-classic-mapreduce/)\n",
      "* [MapReduce & Hadoop API revised](http://www.datasalt.com/2012/02/mapreduce-hadoop-problems/)\n",
      "* [How Twitter Uses NoSQL\n",
      "](http://readwrite.com/2011/01/02/how-twitter-uses-nosql#awesm=~oINrJQljtJRO57)"
     ]
    },
    {
     "cell_type": "heading",
     "level": 3,
     "metadata": {},
     "source": [
      "Python Documentation"
     ]
    },
    {
     "cell_type": "markdown",
     "metadata": {},
     "source": [
      "* [Parallel Magic Commands](http://ipython.org/ipython-doc/dev/parallel/magics.html)\n",
      "* [StarCluster Documentation](https://media.readthedocs.org/pdf/starcluster/latest/starcluster.pdf)\n",
      "* [STARCluster QuickStart](http://star.mit.edu/cluster/docs/latest/quickstart.html)\n",
      "* [IPython Cluster Plugin](http://star.mit.edu/cluster/docs/latest/plugins/ipython.html)\n",
      "* [A Guide to Python Frameworks for Hadoop](http://blog.cloudera.com/blog/2013/01/a-guide-to-python-frameworks-for-hadoop/)\n",
      "* [mrjob: lets you write MapReduce jobs in Python ](https://pythonhosted.org/mrjob/)\n",
      "* [Dumbo Tutorial](https://github.com/klbostee/dumbo/wiki/Short-tutorial)"
     ]
    }
   ],
   "metadata": {}
  }
 ]
}