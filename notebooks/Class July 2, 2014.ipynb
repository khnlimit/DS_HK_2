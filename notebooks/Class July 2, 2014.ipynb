{
 "metadata": {
  "name": "",
  "signature": "sha256:2844ae74f75c57dce4f8f8941a3444df24bda69a947890d0a5cd5de7aa42fdcc"
 },
 "nbformat": 3,
 "nbformat_minor": 0,
 "worksheets": []
}