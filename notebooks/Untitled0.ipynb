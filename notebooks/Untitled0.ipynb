{
 "metadata": {
  "name": "",
  "signature": "sha256:df8215148e32eff453f238e2aa1536fbc3e3ad3c0fec7a8e1ef7e1d05bc75289"
 },
 "nbformat": 3,
 "nbformat_minor": 0,
 "worksheets": [
  {
   "cells": [
    {
     "cell_type": "code",
     "collapsed": false,
     "input": [
      "!curl https://raw.githubusercontent.com/fonnesbeck/pytenn2014_tutorial/master/data/baseball.csv > ../data/baseball.csv\n",
      "\n"
     ],
     "language": "python",
     "metadata": {},
     "outputs": []
    },
    {
     "cell_type": "code",
     "collapsed": false,
     "input": [
      "\n"
     ],
     "language": "python",
     "metadata": {},
     "outputs": []
    }
   ],
   "metadata": {}
  }
 ]
}